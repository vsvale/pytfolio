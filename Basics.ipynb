{
  "nbformat": 4,
  "nbformat_minor": 0,
  "metadata": {
    "colab": {
      "name": "Basics.ipynb",
      "provenance": [],
      "collapsed_sections": [
        "8kvnrviaDg4x",
        "9-j71czQDn-V",
        "YuT5lYjLeF92",
        "B0hTuX00iy9Z",
        "u_XcYeatjlVK",
        "vnkGphdv25ol",
        "9k5pquKqKjvn",
        "12og-AtWLHzA",
        "A8Th1KIeXs4c",
        "MaeFYIP7-G2H"
      ],
      "authorship_tag": "ABX9TyNZYmj7jNAtU3AayKU+z2Tn",
      "include_colab_link": true
    },
    "kernelspec": {
      "name": "python3",
      "display_name": "Python 3"
    }
  },
  "cells": [
    {
      "cell_type": "markdown",
      "metadata": {
        "id": "view-in-github",
        "colab_type": "text"
      },
      "source": [
        "<a href=\"https://colab.research.google.com/github/vsvale/pytfolio/blob/master/Basics.ipynb\" target=\"_parent\"><img src=\"https://colab.research.google.com/assets/colab-badge.svg\" alt=\"Open In Colab\"/></a>"
      ]
    },
    {
      "cell_type": "markdown",
      "metadata": {
        "id": "tRnnidh-DHY7"
      },
      "source": [
        "# *Hello* World\n",
        "\n",
        "\n"
      ]
    },
    {
      "cell_type": "code",
      "metadata": {
        "id": "ZGEPT0DkCk01",
        "outputId": "39ad54e4-faf1-4024-b772-d58cec7d02a4",
        "colab": {
          "base_uri": "https://localhost:8080/",
          "height": 323
        }
      },
      "source": [
        "#function print Hello world\n",
        "def main():\n",
        "  print('Hello world!')\n",
        "  print('Hello','world!') #put space automatically\n",
        "  print('Hello') #print text in a new line\n",
        "  print('world')\n",
        "  print('Hello',end=' ') #The value of end is appended to the output and the next print will continue from here\n",
        "  print('world!')\n",
        "  print('Helo','Wolrd','!',sep='...')\n",
        "  print('''Hello\n",
        "      W\n",
        "        o\n",
        "          r\n",
        "            l\n",
        "              d!\n",
        "  ''') #print string as is\n",
        "\n",
        "  helloWorld = 'Hellow world!'\n",
        "\n",
        "  print(len(helloWorld))\n",
        "  print(helloWorld[0],helloWorld[-6])\n",
        "  print(helloWorld[:4],helloWorld[-3:])\n",
        "  print(helloWorld[::-1]) #string in reverse\n",
        "  print('word' in helloWorld)\n",
        "\n",
        "if __name__ == '__main__': #It executes the main() function only if this files is executed as the main program\n",
        "  main()"
      ],
      "execution_count": null,
      "outputs": [
        {
          "output_type": "stream",
          "text": [
            "Hello world!\n",
            "Hello world!\n",
            "Hello\n",
            "world\n",
            "Hello world!\n",
            "Helo...Wolrd...!\n",
            "Hello\n",
            "      W\n",
            "        o\n",
            "          r\n",
            "            l\n",
            "              d!\n",
            "  \n",
            "13\n",
            "H w\n",
            "Hell ld!\n",
            "!dlrow wolleH\n",
            "False\n"
          ],
          "name": "stdout"
        }
      ]
    },
    {
      "cell_type": "markdown",
      "metadata": {
        "id": "8kvnrviaDg4x"
      },
      "source": [
        "# Variables"
      ]
    },
    {
      "cell_type": "code",
      "metadata": {
        "id": "j-3Bnz42CmLA",
        "outputId": "20dea18a-4519-400b-c639-ce5791d02ee1",
        "colab": {
          "base_uri": "https://localhost:8080/",
          "height": 34
        }
      },
      "source": [
        "#global scope\n",
        "f = 0\n",
        "print(f)"
      ],
      "execution_count": null,
      "outputs": [
        {
          "output_type": "stream",
          "text": [
            "0\n"
          ],
          "name": "stdout"
        }
      ]
    },
    {
      "cell_type": "code",
      "metadata": {
        "id": "We5um_aF9UHe",
        "outputId": "a0c66c6b-9d87-41b6-d727-342ee09b1b91",
        "colab": {
          "base_uri": "https://localhost:8080/",
          "height": 52
        }
      },
      "source": [
        "def localScope():\n",
        "  f = 1\n",
        "  print('Local',f)\n",
        "\n",
        "if __name__ == '__main__':\n",
        "  localScope()\n",
        "  print('Global',f)"
      ],
      "execution_count": null,
      "outputs": [
        {
          "output_type": "stream",
          "text": [
            "Local 1\n",
            "Global 0\n"
          ],
          "name": "stdout"
        }
      ]
    },
    {
      "cell_type": "code",
      "metadata": {
        "id": "OIVPspJJ9XlN",
        "outputId": "914cc4f3-622d-4e6b-a8e2-1b41bd7499c0",
        "colab": {
          "base_uri": "https://localhost:8080/",
          "height": 52
        }
      },
      "source": [
        "def scopeLocal(f):\n",
        "  f = 'a'\n",
        "  print('Local',f)\n",
        "\n",
        "if __name__ == '__main__':\n",
        "  scopeLocal(f)\n",
        "  print('Global',f)"
      ],
      "execution_count": null,
      "outputs": [
        {
          "output_type": "stream",
          "text": [
            "Local a\n",
            "Global 0\n"
          ],
          "name": "stdout"
        }
      ]
    },
    {
      "cell_type": "code",
      "metadata": {
        "id": "XouPQ0x_9Z4M",
        "outputId": "88872032-59cb-4382-ab10-da592ada85f8",
        "colab": {
          "base_uri": "https://localhost:8080/",
          "height": 52
        }
      },
      "source": [
        "def globalChange():\n",
        "  global f\n",
        "  f = 2.5\n",
        "  print('Local',f)\n",
        "\n",
        "if __name__ == '__main__':\n",
        "  globalChange()\n",
        "  print('Global',f)"
      ],
      "execution_count": null,
      "outputs": [
        {
          "output_type": "stream",
          "text": [
            "Local 2.5\n",
            "Global 2.5\n"
          ],
          "name": "stdout"
        }
      ]
    },
    {
      "cell_type": "code",
      "metadata": {
        "id": "LhKB2FxI9cLA",
        "outputId": "1193bacd-8b8a-4900-a077-1cab0ce3ca0b",
        "colab": {
          "base_uri": "https://localhost:8080/",
          "height": 34
        }
      },
      "source": [
        "if __name__ == '__main__':\n",
        "  del f #undefine variable\n",
        "  try:\n",
        "    print(f)\n",
        "  except:\n",
        "    print('Variable is not declared')"
      ],
      "execution_count": null,
      "outputs": [
        {
          "output_type": "stream",
          "text": [
            "Variable is not declared\n"
          ],
          "name": "stdout"
        }
      ]
    },
    {
      "cell_type": "markdown",
      "metadata": {
        "id": "9-j71czQDn-V"
      },
      "source": [
        "# Functions"
      ]
    },
    {
      "cell_type": "code",
      "metadata": {
        "id": "o_yM60VHDx72",
        "outputId": "8a47d88d-b8fe-4324-cffc-d2b01a302f11",
        "colab": {
          "base_uri": "https://localhost:8080/",
          "height": 52
        }
      },
      "source": [
        "#function no argumens and no return\n",
        "\n",
        "def cube():\n",
        "  x = input('Choose a integer number: ')\n",
        "  try:\n",
        "    print(int(x)**3)\n",
        "  except:\n",
        "    print('Invalid Input')\n",
        "\n",
        "if __name__ == '__main__':\n",
        "  cube()"
      ],
      "execution_count": null,
      "outputs": [
        {
          "output_type": "stream",
          "text": [
            "Choose a integer number: 3\n",
            "27\n"
          ],
          "name": "stdout"
        }
      ]
    },
    {
      "cell_type": "code",
      "metadata": {
        "id": "rn7_AA0x8Pr7",
        "outputId": "05e0cde7-98aa-4d59-9832-ece1e933a4bd",
        "colab": {
          "base_uri": "https://localhost:8080/",
          "height": 34
        }
      },
      "source": [
        "#function no arguments and return\n",
        "def pi():\n",
        "  return 3.14159265359\n",
        "\n",
        "if __name__ == '__main__':\n",
        "  pinumber = pi()\n",
        "  print(pinumber)"
      ],
      "execution_count": null,
      "outputs": [
        {
          "output_type": "stream",
          "text": [
            "3.14159265359\n"
          ],
          "name": "stdout"
        }
      ]
    },
    {
      "cell_type": "code",
      "metadata": {
        "id": "n_PTv9ou8T8N",
        "outputId": "cf35f8bd-a440-4aa0-e336-0642ec87761d",
        "colab": {
          "base_uri": "https://localhost:8080/",
          "height": 52
        }
      },
      "source": [
        "#function with arguments and no return\n",
        "def power(x,n):\n",
        "  try:\n",
        "    result = x**n\n",
        "    print(result)\n",
        "  except:\n",
        "    print('Invalid input')\n",
        "\n",
        "if __name__ == '__main__':\n",
        "  power(2,pinumber)\n",
        "  power(n=2,x=3) #with names order don't matter"
      ],
      "execution_count": null,
      "outputs": [
        {
          "output_type": "stream",
          "text": [
            "8.824977827077554\n",
            "9\n"
          ],
          "name": "stdout"
        }
      ]
    },
    {
      "cell_type": "code",
      "metadata": {
        "id": "RmCusW788YTL",
        "outputId": "9cc0e7bb-5c06-49d0-d40f-b66f0bce746a",
        "colab": {
          "base_uri": "https://localhost:8080/",
          "height": 34
        }
      },
      "source": [
        "#function with deafult arguments and return\n",
        "def areaCircle(r=2):\n",
        "  try:\n",
        "    result = pi()*r**2\n",
        "  except:\n",
        "    print('Invalid Input')\n",
        "  return result\n",
        "\n",
        "if __name__ == '__main__':\n",
        "  print(areaCircle())"
      ],
      "execution_count": null,
      "outputs": [
        {
          "output_type": "stream",
          "text": [
            "12.56637061436\n"
          ],
          "name": "stdout"
        }
      ]
    },
    {
      "cell_type": "code",
      "metadata": {
        "id": "-huGSGIW8bhW",
        "outputId": "aca09675-1982-43fb-b45a-f1d08e1acfbd",
        "colab": {
          "base_uri": "https://localhost:8080/",
          "height": 70
        }
      },
      "source": [
        "#function with variable number of arguments\n",
        "def multi_add(*args):\n",
        "  try:\n",
        "    return sum([x  for x in args])\n",
        "  except:\n",
        "    print('Invalid Input')\n",
        "\n",
        "if __name__ == '__main__':\n",
        "  print(multi_add(2,3))\n",
        "  print(multi_add(5,4,6))\n",
        "  print(multi_add())"
      ],
      "execution_count": null,
      "outputs": [
        {
          "output_type": "stream",
          "text": [
            "5\n",
            "15\n",
            "0\n"
          ],
          "name": "stdout"
        }
      ]
    },
    {
      "cell_type": "code",
      "metadata": {
        "id": "LBssoFIgLQrO",
        "outputId": "bc0bab77-2006-4c64-afac-5f22bbd1f1d1",
        "colab": {
          "base_uri": "https://localhost:8080/",
          "height": 35
        }
      },
      "source": [
        "#lambda function\n",
        "count_words = lambda list_Words : [len(x) for x in list_Words]\n",
        "\n",
        "list_words = ['python','is','awesome','right?']\n",
        "\n",
        "count_words(list_words)"
      ],
      "execution_count": null,
      "outputs": [
        {
          "output_type": "execute_result",
          "data": {
            "text/plain": [
              "[6, 2, 7, 6]"
            ]
          },
          "metadata": {
            "tags": []
          },
          "execution_count": 3
        }
      ]
    },
    {
      "cell_type": "code",
      "metadata": {
        "id": "vbiUg_gcKqOI",
        "outputId": "dd78ea77-5f41-46d8-ad9b-0fa3e017e47f",
        "colab": {
          "base_uri": "https://localhost:8080/",
          "height": 34
        }
      },
      "source": [
        "#lambda as argument of function\n",
        "def calculator(operation, x, y):\n",
        "  return operation(x,y)\n",
        "\n",
        "result = calculator(lambda n1,n2: n1*n2, 4,6)\n",
        "print(result)\n",
        "\n",
        "def doublelist()"
      ],
      "execution_count": null,
      "outputs": [
        {
          "output_type": "stream",
          "text": [
            "24\n"
          ],
          "name": "stdout"
        }
      ]
    },
    {
      "cell_type": "code",
      "metadata": {
        "id": "u8qchfzBQ-C-",
        "outputId": "d4657d6d-05c6-48dd-e6dc-2ff8e651b97e",
        "colab": {
          "base_uri": "https://localhost:8080/",
          "height": 34
        }
      },
      "source": [
        "#Recursion\n",
        "def fibonacci(num):\n",
        "  if num <= 1:\n",
        "    return 0\n",
        "  elif num == 2:\n",
        "    return 1\n",
        "  else:\n",
        "    return fibonacci(num - 1) + fibonacci(num-2)\n",
        "\n",
        "print(fibonacci(6))"
      ],
      "execution_count": null,
      "outputs": [
        {
          "output_type": "stream",
          "text": [
            "5\n"
          ],
          "name": "stdout"
        }
      ]
    },
    {
      "cell_type": "code",
      "metadata": {
        "id": "EJQPbKRG3WWg"
      },
      "source": [
        ""
      ],
      "execution_count": null,
      "outputs": []
    },
    {
      "cell_type": "markdown",
      "metadata": {
        "id": "YuT5lYjLeF92"
      },
      "source": [
        "# Conditionals"
      ]
    },
    {
      "cell_type": "code",
      "metadata": {
        "id": "5s05d1ZwUdz-",
        "outputId": "3032b253-1085-4418-9bff-a58c9f4713df",
        "colab": {
          "base_uri": "https://localhost:8080/",
          "height": 52
        }
      },
      "source": [
        "def main():\n",
        "  x,y = 10,100\n",
        "  #Traditional if\n",
        "  if (x==y):\n",
        "    print('Value of x=',x,'is equal to y=',y)\n",
        "  elif(x>y):\n",
        "    print('Value of x=',x,'is greater then y=',y)\n",
        "  else:\n",
        "    print('Value of x=',x,'is smaller then y=',y)\n",
        "  \n",
        "  #conditional statements\n",
        "  print('x=',x,'is divisible by y=',y) if (x % y ==0) else print('x',x,'is not divisible by y',y)\n",
        "\n",
        "if __name__ == '__main__':\n",
        "  main()"
      ],
      "execution_count": null,
      "outputs": [
        {
          "output_type": "stream",
          "text": [
            "Value of x= 10 is smaller then y= 100\n",
            "x 10 is not divisible by y 100\n"
          ],
          "name": "stdout"
        }
      ]
    },
    {
      "cell_type": "markdown",
      "metadata": {
        "id": "B0hTuX00iy9Z"
      },
      "source": [
        "# Loops"
      ]
    },
    {
      "cell_type": "code",
      "metadata": {
        "id": "SxfNMPvdiypc",
        "outputId": "4308cfb6-763b-408e-a5f2-8954ce478a14",
        "colab": {
          "base_uri": "https://localhost:8080/",
          "height": 158
        }
      },
      "source": [
        "#while\n",
        "from time import sleep\n",
        "def itIsOver():\n",
        "  print('Departure 🛫')\n",
        "  flightTime = 3\n",
        "  while (flightTime > 0):\n",
        "    sleep(flightTime)\n",
        "    print('Still Travelling ☁ ✈ ☁')\n",
        "    flightTime = flightTime - 0.5\n",
        "  print('Arrival 🛬')\n",
        "\n",
        "if __name__ == '__main__':\n",
        "  itIsOver()"
      ],
      "execution_count": null,
      "outputs": [
        {
          "output_type": "stream",
          "text": [
            "Departure 🛫\n",
            "Still Travelling ☁ ✈ ☁\n",
            "Still Travelling ☁ ✈ ☁\n",
            "Still Travelling ☁ ✈ ☁\n",
            "Still Travelling ☁ ✈ ☁\n",
            "Still Travelling ☁ ✈ ☁\n",
            "Still Travelling ☁ ✈ ☁\n",
            "Arrival 🛬\n"
          ],
          "name": "stdout"
        }
      ]
    },
    {
      "cell_type": "code",
      "metadata": {
        "id": "aXcCJFAy7Roc",
        "outputId": "24f77b22-fa90-4be7-f3fc-fa5dc718d48e",
        "colab": {
          "base_uri": "https://localhost:8080/",
          "height": 176
        }
      },
      "source": [
        "#for\n",
        "def canIcross():\n",
        "  print('Oh! a railway track 🛤 Can I cross?')\n",
        "  views = ['🚂','🚃','🚃','🚃','🚃','🚃','🚃','🌳🛣🌳']\n",
        "  for view in views:\n",
        "      print(view,'Better wait train pass') if (view == '🚂' or view == '🚃') else print(view,\"Let's go\")\n",
        "\n",
        "if __name__ == '__main__':\n",
        "  canIcross()"
      ],
      "execution_count": null,
      "outputs": [
        {
          "output_type": "stream",
          "text": [
            "Oh! a railway track 🛤 Can I cross?\n",
            "🚂 Better wait train pass\n",
            "🚃 Better wait train pass\n",
            "🚃 Better wait train pass\n",
            "🚃 Better wait train pass\n",
            "🚃 Better wait train pass\n",
            "🚃 Better wait train pass\n",
            "🚃 Better wait train pass\n",
            "🌳🛣🌳 Let's go\n"
          ],
          "name": "stdout"
        }
      ]
    },
    {
      "cell_type": "code",
      "metadata": {
        "id": "BSppbgNT7TqD",
        "outputId": "6b3dfe18-f012-4e3a-9763-e7dd8db4dc69",
        "colab": {
          "base_uri": "https://localhost:8080/",
          "height": 283
        }
      },
      "source": [
        "#enumerate\n",
        "def planets():\n",
        "  planets = ['Mercury', 'Venus', 'Earth', 'Mars','Ceres', 'Jupiter', 'Saturn', 'Uranus', 'Neptune', 'Pluto', 'Haumea', 'Makemake','Eris']\n",
        "  key=0\n",
        "  print('Planets and Dwarf in order of their distance from the Sun:')\n",
        "  print('☀')\n",
        "  for key, value in enumerate(planets,start=1):\n",
        "    print(key, value)\n",
        "\n",
        "if __name__=='__main__':\n",
        "  planets()"
      ],
      "execution_count": null,
      "outputs": [
        {
          "output_type": "stream",
          "text": [
            "Planets and Dwarf in order of their distance from the Sun:\n",
            "☀\n",
            "1 Mercury\n",
            "2 Venus\n",
            "3 Earth\n",
            "4 Mars\n",
            "5 Ceres\n",
            "6 Jupiter\n",
            "7 Saturn\n",
            "8 Uranus\n",
            "9 Neptune\n",
            "10 Pluto\n",
            "11 Haumea\n",
            "12 Makemake\n",
            "13 Eris\n"
          ],
          "name": "stdout"
        }
      ]
    },
    {
      "cell_type": "code",
      "metadata": {
        "id": "7GF0-e9T7V7-",
        "outputId": "dc0bbcea-fe98-443f-bee4-e053c5bbf7a5",
        "colab": {
          "base_uri": "https://localhost:8080/",
          "height": 34
        }
      },
      "source": [
        "#concise for\n",
        "def count_negatives(nums):\n",
        "    return len([num for num in nums if num < 0])\n",
        "\n",
        "if __name__=='__main__':\n",
        "    print(count_negatives([93,73,9,98,56,68,-38,99,-54,13,-84,29,79,23,-20,26,18,48,15,-45,-68,52,-46,28,-13,-37,-28,-51,67,-41,-6,-35,-30,-21,-77,-91,-9,7,-55,-69,37,74,-65,85,5,86,47,-29,69,-62,-27,-10,-8,55,-86,35,21,30,-14,-17,19,-44,-15,96,8,-89,-50,-16,-11,75,-92,53,-100,49,80,3,-96,-60,-39,44,76,-52,4,-63,-3,-67,-26,91,17,-56,-83,83,92,-34,100,34,-43,-71,64,-76,-80,-73,31,-79,-85,-57,-87,24,63,27,-23,54,43,-95,-88,32,-1,84,20,-40,59,-93,-24,51,-32,-7,12,89,-22,-75,-99,-25,-64,46,-58,66,60,0,-19,-4,61,40,-59,22,-2,-42,-94,-47,57,95,-18,-31,10,90,58,50,94,-70,36,38,-81,78,2,14,-66,-33,-97,72,65,16,45,-48,97,88,-82,82,-5,-74,87,1,-53,41,62,-49,25,-36,71,11,81,42,77,-12,-78,-98,-72,-61,33,6,39,-90,70]))\n"
      ],
      "execution_count": null,
      "outputs": [
        {
          "output_type": "stream",
          "text": [
            "100\n"
          ],
          "name": "stdout"
        }
      ]
    },
    {
      "cell_type": "code",
      "metadata": {
        "id": "YYiJkeiyDdQv",
        "outputId": "18edd451-859a-40c3-db99-9eb2517414fc",
        "colab": {
          "base_uri": "https://localhost:8080/",
          "height": 34
        }
      },
      "source": [
        "#break and continue\n",
        "def numero_perfeito(num):\n",
        "    somadivisores = 0\n",
        "    for i in range(num):\n",
        "        if i ==0: continue #not interested in 0\n",
        "        if i == num: continue #not interested in the number itself\n",
        "        if num % i ==0: somadivisores +=  i\n",
        "    return somadivisores == num and num!=0\n",
        "\n",
        "if __name__=='__main__':\n",
        "  for a in range (1000000):\n",
        "      if numero_perfeito(a):\n",
        "        print(\"O numero \"+str(a)+\" eh perfeito\")\n",
        "        break #Stop in first perfect number"
      ],
      "execution_count": null,
      "outputs": [
        {
          "output_type": "stream",
          "text": [
            "O numero 6 eh perfeito\n"
          ],
          "name": "stdout"
        }
      ]
    },
    {
      "cell_type": "markdown",
      "metadata": {
        "id": "u_XcYeatjlVK"
      },
      "source": [
        "# Lists"
      ]
    },
    {
      "cell_type": "code",
      "metadata": {
        "id": "yztsSoC0jnXh",
        "outputId": "1a54ac9d-afeb-413e-ffa3-740a33fac9ca",
        "colab": {
          "base_uri": "https://localhost:8080/",
          "height": 105
        }
      },
      "source": [
        "from random import randint\n",
        "\n",
        "def lotoPick(numbers=6, numberofGames = 1):\n",
        "  numberList = [number for number in range(61)] #create a list with all available numbers in Megasena loto\n",
        "  for games in range(numberofGames): #generate games until  numberofGames\n",
        "    randList = [] #empty list\n",
        "    while len(randList) < numbers: #pick numbers until parameter numbers\n",
        "      rand = randint(1,60)\n",
        "      if rand in numberList: # only unique numbers\n",
        "        numberList.remove(rand)\n",
        "        randList.append(rand)\n",
        "      randList.sort() #sort numbers\n",
        "    print(games+1,'jogo :',randList)\n",
        "\n",
        "def main():\n",
        "  lotoPick()\n",
        "  lotoPick(15)\n",
        "  lotoPick(6,3)\n",
        "\n",
        "\n",
        "if __name__ == '__main__':\n",
        "  main()"
      ],
      "execution_count": null,
      "outputs": [
        {
          "output_type": "stream",
          "text": [
            "1 jogo : [5, 8, 45, 47, 49, 60]\n",
            "1 jogo : [1, 5, 16, 17, 23, 27, 29, 33, 35, 39, 43, 44, 45, 55, 58]\n",
            "1 jogo : [2, 38, 44, 46, 50, 52]\n",
            "2 jogo : [15, 22, 32, 34, 41, 43]\n",
            "3 jogo : [8, 37, 40, 54, 56, 60]\n"
          ],
          "name": "stdout"
        }
      ]
    },
    {
      "cell_type": "code",
      "metadata": {
        "id": "dxlEhbumGx2J",
        "outputId": "9493d736-c3b1-4475-8f95-1810791013f6",
        "colab": {
          "base_uri": "https://localhost:8080/",
          "height": 247
        }
      },
      "source": [
        "#Insert, append and extend\n",
        "example = [1,2]\n",
        "print('Initial list: ',example)\n",
        "example.append(3) #last position\n",
        "print('append 3 to last position',example)\n",
        "example.insert(0,'zero') #'zero' in a specific position. All other elements are repositioned\n",
        "print('insert allow choose position: ',example)\n",
        "example.extend(['monkey',6,[6,7],5,4])#append more elements. Parameter is a list.\n",
        "print('extend append multiple elements: ',example)\n",
        "\n",
        "\n",
        "#pop, remove e del\n",
        "try:\n",
        "  example.remove(7) #element 7 not 7 index\n",
        "except:\n",
        "  print('element 7 not in the list')\n",
        "print(example)\n",
        "\n",
        "\n",
        "#removing all 6\n",
        "if 6 in example:\n",
        "  example.remove(6) #remove 6 in list, but not in inner list\n",
        "for element in example:\n",
        "  if type(element) == list:\n",
        "    element[:] = [el for el in element if el !=6] #remove 6 in inner list\n",
        "print('Removing all 6:',example)\n",
        "      \n",
        "print('Remove 4th element and return it',example.pop(4)) #remove 4th element 'monkey' and return it\n",
        "print('Result list: ',example)\n",
        "try:\n",
        "  example.pop('zero')\n",
        "except:\n",
        "  print('pop can only recieve indexes')\n",
        "print('Remove the last element and return it: ',example.pop()) #remove the last element and return it\n",
        "print('Result list: ',example)\n",
        "\n",
        "for i,element in enumerate(example):\n",
        "  if type(element) == list:\n",
        "    del example[i] #del use index\n",
        "print('del list in list: ',example)"
      ],
      "execution_count": null,
      "outputs": [
        {
          "output_type": "stream",
          "text": [
            "Initial list:  [1, 2]\n",
            "append 3 to last position [1, 2, 3]\n",
            "insert allow choose position:  ['zero', 1, 2, 3]\n",
            "extend append multiple elements:  ['zero', 1, 2, 3, 'monkey', 6, [6, 7], 5, 4]\n",
            "element 7 not in the list\n",
            "['zero', 1, 2, 3, 'monkey', 6, [6, 7], 5, 4]\n",
            "Removing all 6: ['zero', 1, 2, 3, 'monkey', [7], 5, 4]\n",
            "Remove 4th element and return it monkey\n",
            "Result list:  ['zero', 1, 2, 3, [7], 5, 4]\n",
            "pop can only recieve indexes\n",
            "Remove the last element and return it:  4\n",
            "Result list:  ['zero', 1, 2, 3, [7], 5]\n",
            "del list in list:  ['zero', 1, 2, 3, 5]\n"
          ],
          "name": "stdout"
        }
      ]
    },
    {
      "cell_type": "code",
      "metadata": {
        "id": "yxYKDTwWL18C",
        "outputId": "068423c3-2421-4cd6-ca0a-68f369a915e9",
        "colab": {
          "base_uri": "https://localhost:8080/",
          "height": 194
        }
      },
      "source": [
        "def equation(x):\n",
        "  return 2*x+1\n",
        "\n",
        "x = [value for value in range(10)]\n",
        "y = [equation(value) for value in x]\n",
        "\n",
        "for valuex,valuey in zip(x,y):\n",
        "  print('F(',valuex,')=',valuey)"
      ],
      "execution_count": null,
      "outputs": [
        {
          "output_type": "stream",
          "text": [
            "F( 0 )= 1\n",
            "F( 1 )= 3\n",
            "F( 2 )= 5\n",
            "F( 3 )= 7\n",
            "F( 4 )= 9\n",
            "F( 5 )= 11\n",
            "F( 6 )= 13\n",
            "F( 7 )= 15\n",
            "F( 8 )= 17\n",
            "F( 9 )= 19\n"
          ],
          "name": "stdout"
        }
      ]
    },
    {
      "cell_type": "code",
      "metadata": {
        "id": "JYP7EkJvnMtV",
        "outputId": "963c5bbc-b5de-4431-cb56-62b3479f6675",
        "colab": {
          "base_uri": "https://localhost:8080/",
          "height": 34
        }
      },
      "source": [
        "listone = [2,8,17,33,51]\n",
        "listtwo = [1,9,17,45,96]\n",
        "\n",
        "result = [(n1,n2) for n1 in listone for n2 in listtwo if (n1+n2) % 2 == 0 and (n1+n2) % 5 == 0 ]\n",
        "\n",
        "print(result)"
      ],
      "execution_count": null,
      "outputs": [
        {
          "output_type": "stream",
          "text": [
            "[(33, 17), (51, 9)]\n"
          ],
          "name": "stdout"
        }
      ]
    },
    {
      "cell_type": "markdown",
      "metadata": {
        "id": "vnkGphdv25ol"
      },
      "source": [
        "# Sets"
      ]
    },
    {
      "cell_type": "code",
      "metadata": {
        "id": "ya_YBbQP288B",
        "outputId": "4e4a6714-858f-4d0a-d616-ee473ab52984",
        "colab": {
          "base_uri": "https://localhost:8080/",
          "height": 105
        }
      },
      "source": [
        "import random\n",
        "\n",
        "def inner(setA,setB):\n",
        " return setA.intersection(setB) #setA & setB\n",
        "\n",
        "def leftIncl(setA,setB):\n",
        "  return setA\n",
        "\n",
        "def leftExcl(setA,setB):\n",
        "  return setA.difference(setB) #setA - setB\n",
        "\n",
        "def fullIncl(setA,setB):\n",
        "  return setA.union(setB) #setA | setB\n",
        "\n",
        "def fullExcl(setA,setB):\n",
        "  return setA.symmetric_difference(setB) #setA ^ setB\n",
        "\n",
        "\n",
        "def main():\n",
        "\n",
        "  setA = set()\n",
        "  setA.add(8)\n",
        "  setA.update([37, 40, 54, 56, 60])\n",
        "  setB = set([5, 37, 38, 52, 56, 59,61])\n",
        "  setB.remove(61) #setB.clear() result in a empty set. #setB.pop() remove and return the first element. setB.discart(61) if the element not exists raise an error \n",
        "\n",
        "  print('Inner join',inner(setA,setB))\n",
        "  print('Left outterjoin inclusive',leftIncl(setA,setB))\n",
        "  print('Left outter join exclusive',leftExcl(setA,setB))\n",
        "  print('Full outter join inclusive',fullIncl(setA,setB))\n",
        "  print('Full outter join exclusive',fullExcl(setA,setB))\n",
        "  \n",
        "\n",
        "if __name__ == '__main__':\n",
        "  main()\n"
      ],
      "execution_count": null,
      "outputs": [
        {
          "output_type": "stream",
          "text": [
            "Inner join {56, 37}\n",
            "Left outterjoin inclusive {37, 8, 40, 54, 56, 60}\n",
            "Left outter join exclusive {8, 40, 60, 54}\n",
            "Full outter join inclusive {37, 5, 38, 8, 40, 52, 54, 56, 59, 60}\n",
            "Full outter join exclusive {5, 8, 38, 40, 52, 54, 59, 60}\n"
          ],
          "name": "stdout"
        }
      ]
    },
    {
      "cell_type": "markdown",
      "metadata": {
        "id": "9k5pquKqKjvn"
      },
      "source": [
        "#Dict"
      ]
    },
    {
      "cell_type": "code",
      "metadata": {
        "id": "Qh9PnzaSKjWI",
        "outputId": "03b26a0f-e4b1-4f62-e248-3b465320be1d",
        "colab": {
          "base_uri": "https://localhost:8080/",
          "height": 214
        }
      },
      "source": [
        "import json\n",
        "\n",
        "with open('/content/sample_data/anscombe.json') as json_file:\n",
        "  listdict = json.load(json_file)\n",
        "\n",
        "print(listdict)\n",
        "print(listdict[0])\n",
        "listdict[0]['Series'] = 'IV'\n",
        "print(listdict[0])\n",
        "newdict = dict([('Series','IV'),('X',9.5),('Y',6.3)]) #dict constructor\n",
        "otherdict = {'Series': 'IV', 'X': 12.0, 'Y': 5.02} #key:value\n",
        "\n",
        "listdict.append(newdict)\n",
        "listdict.append(otherdict)\n",
        "\n",
        "print(listdict[-1],listdict[-2])\n",
        "\n",
        "print(listdict[-1]['X'])#value of key X\n",
        "print(listdict[-1].get('Y')) #get value of key Y\n",
        "\n",
        "del listdict[-2]['Y']\n",
        "print(listdict[-2])\n",
        "\n",
        "listdict[-2].pop('X')\n",
        "print(listdict[-2])\n",
        "\n",
        "listdict[-2].clear()\n",
        "print(listdict[-2])\n",
        "\n",
        "upddict = {'Series': 'V', 'X': 10.0, 'Y': 4.02}\n",
        "listdict[-2].update(upddict)#update the content in a dict\n",
        "print(listdict[-2])"
      ],
      "execution_count": null,
      "outputs": [
        {
          "output_type": "stream",
          "text": [
            "[{'Series': 'I', 'X': 10.0, 'Y': 8.04}, {'Series': 'I', 'X': 8.0, 'Y': 6.95}, {'Series': 'I', 'X': 13.0, 'Y': 7.58}, {'Series': 'I', 'X': 9.0, 'Y': 8.81}, {'Series': 'I', 'X': 11.0, 'Y': 8.33}, {'Series': 'I', 'X': 14.0, 'Y': 9.96}, {'Series': 'I', 'X': 6.0, 'Y': 7.24}, {'Series': 'I', 'X': 4.0, 'Y': 4.26}, {'Series': 'I', 'X': 12.0, 'Y': 10.84}, {'Series': 'I', 'X': 7.0, 'Y': 4.81}, {'Series': 'I', 'X': 5.0, 'Y': 5.68}, {'Series': 'II', 'X': 10.0, 'Y': 9.14}, {'Series': 'II', 'X': 8.0, 'Y': 8.14}, {'Series': 'II', 'X': 13.0, 'Y': 8.74}, {'Series': 'II', 'X': 9.0, 'Y': 8.77}, {'Series': 'II', 'X': 11.0, 'Y': 9.26}, {'Series': 'II', 'X': 14.0, 'Y': 8.1}, {'Series': 'II', 'X': 6.0, 'Y': 6.13}, {'Series': 'II', 'X': 4.0, 'Y': 3.1}, {'Series': 'II', 'X': 12.0, 'Y': 9.13}, {'Series': 'II', 'X': 7.0, 'Y': 7.26}, {'Series': 'II', 'X': 5.0, 'Y': 4.74}, {'Series': 'III', 'X': 10.0, 'Y': 7.46}, {'Series': 'III', 'X': 8.0, 'Y': 6.77}, {'Series': 'III', 'X': 13.0, 'Y': 12.74}, {'Series': 'III', 'X': 9.0, 'Y': 7.11}, {'Series': 'III', 'X': 11.0, 'Y': 7.81}, {'Series': 'III', 'X': 14.0, 'Y': 8.84}, {'Series': 'III', 'X': 6.0, 'Y': 6.08}, {'Series': 'III', 'X': 4.0, 'Y': 5.39}, {'Series': 'III', 'X': 12.0, 'Y': 8.15}, {'Series': 'III', 'X': 7.0, 'Y': 6.42}, {'Series': 'III', 'X': 5.0, 'Y': 5.73}, {'Series': 'IV', 'X': 8.0, 'Y': 6.58}, {'Series': 'IV', 'X': 8.0, 'Y': 5.76}, {'Series': 'IV', 'X': 8.0, 'Y': 7.71}, {'Series': 'IV', 'X': 8.0, 'Y': 8.84}, {'Series': 'IV', 'X': 8.0, 'Y': 8.47}, {'Series': 'IV', 'X': 8.0, 'Y': 7.04}, {'Series': 'IV', 'X': 8.0, 'Y': 5.25}, {'Series': 'IV', 'X': 19.0, 'Y': 12.5}, {'Series': 'IV', 'X': 8.0, 'Y': 5.56}, {'Series': 'IV', 'X': 8.0, 'Y': 7.91}, {'Series': 'IV', 'X': 8.0, 'Y': 6.89}]\n",
            "{'Series': 'I', 'X': 10.0, 'Y': 8.04}\n",
            "{'Series': 'IV', 'X': 10.0, 'Y': 8.04}\n",
            "{'Series': 'IV', 'X': 12.0, 'Y': 5.02} {'Series': 'IV', 'X': 9.5, 'Y': 6.3}\n",
            "12.0\n",
            "5.02\n",
            "{'Series': 'IV', 'X': 9.5}\n",
            "{'Series': 'IV'}\n",
            "{}\n",
            "{'Series': 'V', 'X': 10.0, 'Y': 4.02}\n"
          ],
          "name": "stdout"
        }
      ]
    },
    {
      "cell_type": "code",
      "metadata": {
        "id": "lnsijL_8sBrV",
        "outputId": "f759b492-c4a8-43b1-fde0-a2f464abb0ca",
        "colab": {
          "base_uri": "https://localhost:8080/",
          "height": 52
        }
      },
      "source": [
        "houses = {1: \"Gryffindor\", 2: \"Slytherin\", 3: \"Hufflepuff\", 4: \"Ravenclaw\"}\n",
        "new_houses = {n**2 : house + '!' for (n,house) in  houses.items()} #dict.items() operation turns a dictionary into a list of (key, value) tuples\n",
        "print(houses)\n",
        "print(new_houses)"
      ],
      "execution_count": null,
      "outputs": [
        {
          "output_type": "stream",
          "text": [
            "{1: 'Gryffindor', 2: 'Slytherin', 3: 'Hufflepuff', 4: 'Ravenclaw'}\n",
            "{1: 'Gryffindor!', 4: 'Slytherin!', 9: 'Hufflepuff!', 16: 'Ravenclaw!'}\n"
          ],
          "name": "stdout"
        }
      ]
    },
    {
      "cell_type": "markdown",
      "metadata": {
        "id": "12og-AtWLHzA"
      },
      "source": [
        "#Class"
      ]
    },
    {
      "cell_type": "code",
      "metadata": {
        "id": "dbsIxzvWLCdF"
      },
      "source": [
        "#class with no method\n",
        "class Article():\n",
        "  def __init__(self,title,p):#constructor\n",
        "    self.title = title\n",
        "    self.p = p"
      ],
      "execution_count": null,
      "outputs": []
    },
    {
      "cell_type": "code",
      "metadata": {
        "id": "ciMIbEJ2OtNt"
      },
      "source": [
        "#class with only methods\n",
        "class ArticleMethods():\n",
        "  def renderHTML(self):\n",
        "        return '<html><head></head><body><main><article><h3>'+self.title+'</h3><p>'+self.p+'</p></article></main></body></html>'"
      ],
      "execution_count": null,
      "outputs": []
    },
    {
      "cell_type": "code",
      "metadata": {
        "id": "I2CRWVLIedc3"
      },
      "source": [
        "#Mixing\n",
        "class ArticleHTML(Article,ArticleMethods):\n",
        "  pass"
      ],
      "execution_count": null,
      "outputs": []
    },
    {
      "cell_type": "code",
      "metadata": {
        "id": "HBbDzXh0eB7U"
      },
      "source": [
        "def main():\n",
        "  #instance\n",
        "  article = ArticleHTML('Python','Everithing in python is an object')\n",
        "  #calling method \n",
        "  print(article.renderHTML())\n"
      ],
      "execution_count": null,
      "outputs": []
    },
    {
      "cell_type": "code",
      "metadata": {
        "id": "dZM4QMIwdzBT",
        "outputId": "00c88d95-c8bb-470c-833f-e49a32b741f6",
        "colab": {
          "base_uri": "https://localhost:8080/",
          "height": 34
        }
      },
      "source": [
        "if __name__=='__main__':\n",
        "  main()"
      ],
      "execution_count": null,
      "outputs": [
        {
          "output_type": "stream",
          "text": [
            "<html><head></head><body><main><article><h3>Python</h3><p>Everithing in python is an object</p></article></main></body></html>\n"
          ],
          "name": "stdout"
        }
      ]
    },
    {
      "cell_type": "code",
      "metadata": {
        "id": "fXbzfUQqh-4q"
      },
      "source": [
        "#All classes inherit from object\n",
        "class Person(object):\n",
        "  def __init__(self, name):\n",
        "    self.name = name"
      ],
      "execution_count": null,
      "outputs": []
    },
    {
      "cell_type": "code",
      "metadata": {
        "id": "yvigONfJlAli"
      },
      "source": [
        "class naturalPerson(Person):\n",
        "  #Polymorphism\n",
        "  '''Represent a person with name and cpf'''\n",
        "  def __init__(self, name, cpf):\n",
        "    super().__init__(name) #inherit __init__\n",
        "    self.cpf = cpf\n",
        "\n",
        "  def checkCPF(self):\n",
        "    \n",
        "     # Remove some unwanted characters\n",
        "    numcpf = ''.join(letter for letter in self.cpf if letter.isalnum())\n",
        "    if not numcpf.isnumeric():\n",
        "      return False\n",
        "\n",
        "     # Checks if string has 11 characters\n",
        "    if len(numcpf)!=11:\n",
        "      return False\n",
        "\n",
        "    # Verify if CPF number is equal\n",
        "    if numcpf=='00000000000' or numcpf=='11111111111' or numcpf=='22222222222' or numcpf=='33333333333' or numcpf=='44444444444' or numcpf=='55555555555' or numcpf=='66666666666' or numcpf=='77777777777' or numcpf=='88888888888' or numcpf=='99999999999':\n",
        "        return False\n",
        "\n",
        "    #Calculating the first cpf check digit\n",
        "    sum = 0\n",
        "    weight = 10\n",
        "\n",
        "    for number in range(9):\n",
        "        sum = sum + int(numcpf[number]) * weight\n",
        "        weight = weight -1\n",
        "\n",
        "    firstCheckDigit = 11 - sum % 11\n",
        "\n",
        "    firstCheckDigit = 0 if firstCheckDigit > 9 else firstCheckDigit\n",
        "\n",
        "    #verify first check digit\n",
        "    if firstCheckDigit != int(numcpf[-2]):\n",
        "      return False\n",
        "\n",
        "    #Calculating the seconf cpf digit\n",
        "    sum = 0\n",
        "    weight = 11\n",
        "\n",
        "    for number in range(10):\n",
        "      sum = sum + int(numcpf[number]) * weight\n",
        "      weight = weight -1\n",
        "\n",
        "    secondCheckDigit = 11 - sum % 11\n",
        "\n",
        "    secondCheckDigit = 0 if secondCheckDigit > 9 else secondCheckDigit\n",
        "\n",
        "     #verify second check digit\n",
        "    if secondCheckDigit != int(numcpf[-1]):\n",
        "      return False\n",
        "    \n",
        "    return True"
      ],
      "execution_count": null,
      "outputs": []
    },
    {
      "cell_type": "code",
      "metadata": {
        "id": "2gVGetFWlEWf"
      },
      "source": [
        "def main():\n",
        "  marcos = naturalPerson('Marcos', '729.807.080-03')\n",
        "  print(marcos.__doc__)\n",
        "  print(marcos.checkCPF())"
      ],
      "execution_count": null,
      "outputs": []
    },
    {
      "cell_type": "code",
      "metadata": {
        "id": "EMPf8HPimOx9",
        "outputId": "5e88e549-2fcf-4c81-cb6f-385df5f4a635",
        "colab": {
          "base_uri": "https://localhost:8080/",
          "height": 52
        }
      },
      "source": [
        "if __name__ == '__main__':\n",
        "  main()"
      ],
      "execution_count": null,
      "outputs": [
        {
          "output_type": "stream",
          "text": [
            "'Represent a person with name and cpf\n",
            "True\n"
          ],
          "name": "stdout"
        }
      ]
    },
    {
      "cell_type": "markdown",
      "metadata": {
        "id": "A8Th1KIeXs4c"
      },
      "source": [
        "#Input"
      ]
    },
    {
      "cell_type": "code",
      "metadata": {
        "id": "6Jr-SiuAXv8-",
        "outputId": "29d4a760-93cf-4234-a55e-f9d782fd402d",
        "colab": {
          "base_uri": "https://localhost:8080/",
          "height": 318
        }
      },
      "source": [
        "class Student():\n",
        "  def __ini__(self,name, grade, birthday=\"01/01/1900\", address=\"\", phone=\"\"):\n",
        "    self.name = name\n",
        "    self.grade = grade\n",
        "    self.birthday = birthday\n",
        "    self.address = address\n",
        "    self.phone = phone\n",
        "\n",
        "class Class():\n",
        "  def __init__(self,listclass=[]):\n",
        "    self.listclass = listclass\n",
        "\n",
        "class ClassMethods():\n",
        "\n",
        "  def answername(self):\n",
        "    ans = input(\"Input student's name: \")\n",
        "    if not ans:\n",
        "      print(\"Empty input.\")\n",
        "      return answername()\n",
        "    return ans\n",
        "\n",
        "  def answergrade(self):\n",
        "    ans = input(\"Input student's grade: \")\n",
        "    if not ans:\n",
        "      print('Empty input')\n",
        "      return input()\n",
        "    elif not ans.isnumeric():\n",
        "      print(\"Not a valid grade.\")\n",
        "      return answergrade()\n",
        "    return int(ans)\n",
        "\n",
        "  def answeryorn(self):\n",
        "    ans = input(\"Do you like Insert another student? Y or N: \")\n",
        "    if not ans:\n",
        "      print(\"Empty input.\")\n",
        "      return answeryorn()\n",
        "    elif ans.lower() not in ('y','n'):\n",
        "      print('Only Y or N are valid inputs')\n",
        "      return answeryorn()\n",
        "    return ans.lower()\n",
        "\n",
        "  def insert_students(self):\n",
        "    inserting = True\n",
        "    while inserting:\n",
        "      name = self.answername()\n",
        "      grade = self.answergrade()\n",
        "      student = Student()\n",
        "      student.name = name\n",
        "      student.grade = grade\n",
        "      self.listclass.append(student)\n",
        "      yorn = self.answeryorn()\n",
        "      if yorn == 'y':\n",
        "        continue\n",
        "      else:\n",
        "        inserting = False\n",
        "      print('New Class:')\n",
        "      for obj in self.listclass:\n",
        "        print(obj.name,obj.grade)\n",
        "\n",
        "  def remove_student(self,name):\n",
        "    for i,student in enumerate(self.listclass):\n",
        "      if student.name.lower() == name.lower():\n",
        "        self.listclass.pop(i)\n",
        "    print(name+\" removed.\",'New Class:')\n",
        "    for obj in self.listclass:\n",
        "        print(obj.name,obj.grade)\n",
        "\n",
        "class ClassNew(Class,ClassMethods):\n",
        "  pass\n",
        "\n",
        "def main():\n",
        "  newclass  = ClassNew()\n",
        "  newclass.insert_students()\n",
        "  newclass.remove_student('Joao')\n",
        "  newclass.insert_students()\n",
        "\n",
        "\n",
        "\n",
        "if __name__=='__main__':\n",
        "  main()"
      ],
      "execution_count": null,
      "outputs": [
        {
          "output_type": "stream",
          "text": [
            "Input student's name: Vinicius\n",
            "Input student's grade: 10\n",
            "Do you like Insert another student? Y or N: y\n",
            "Input student's name: Joao\n",
            "Input student's grade: 3\n",
            "Do you like Insert another student? Y or N: n\n",
            "New Class:\n",
            "Vinicius 10\n",
            "Joao 3\n",
            "Joao removed. New Class:\n",
            "Vinicius 10\n",
            "Input student's name: Ana\n",
            "Input student's grade: 5\n",
            "Do you like Insert another student? Y or N: n\n",
            "New Class:\n",
            "Vinicius 10\n",
            "Ana 5\n"
          ],
          "name": "stdout"
        }
      ]
    },
    {
      "cell_type": "code",
      "metadata": {
        "id": "hWec0h3wqsyl",
        "outputId": "78c7b9a8-0b64-4738-aaaf-3f97dac95d96",
        "colab": {
          "base_uri": "https://localhost:8080/",
          "height": 70
        }
      },
      "source": [
        "def invert_string(userinput):\n",
        "  stack = \"\"\n",
        "  for character in userinput:\n",
        "    stack = character + stack \n",
        "  return stack\n",
        "\n",
        "def main():\n",
        "  userinput = input('Input something or press Enter to exit: ')\n",
        "  while userinput.strip() !=\"\": #strp = Trim\n",
        "    print(userinput,'inverted is',invert_string(userinput))\n",
        "    userinput = input('Input something or press Enter to exit: ')\n",
        "if __name__ == '__main__':\n",
        "  main()"
      ],
      "execution_count": null,
      "outputs": [
        {
          "output_type": "stream",
          "text": [
            "Input something or press Enter to exit: Mario\n",
            "Mario inverted is oiraM\n",
            "Input something or press Enter to exit: \n"
          ],
          "name": "stdout"
        }
      ]
    },
    {
      "cell_type": "markdown",
      "metadata": {
        "id": "MaeFYIP7-G2H"
      },
      "source": [
        "#Try"
      ]
    },
    {
      "cell_type": "code",
      "metadata": {
        "id": "uirSll7l-Jpl",
        "outputId": "5bb2db40-3b9b-440c-9382-1a55594fa625",
        "colab": {
          "base_uri": "https://localhost:8080/",
          "height": 70
        }
      },
      "source": [
        "def divide():\n",
        "  try:\n",
        "    x = int(input('Please insert the Numerator: '))\n",
        "    y = int(input('Please insert the Denominator: '))\n",
        "    result = x / y\n",
        "    if x == 0:\n",
        "      raise Exception('Numerator should be greater than zero')\n",
        "  except ZeroDivisionError:\n",
        "    print(\"Division by zero!\")\n",
        "  except TypeError:\n",
        "    print('Invalid inputs, only integers')\n",
        "  except ValueError:\n",
        "    print('Invalid inputs, only integers')\n",
        "  except Exception as error:\n",
        "    print('Error: ',error)\n",
        "  else:\n",
        "    print(\"result is\", result)\n",
        "divide()\n"
      ],
      "execution_count": null,
      "outputs": [
        {
          "output_type": "stream",
          "text": [
            "Please insert the Numerator: 0\n",
            "Please insert the Denominator: 0\n",
            "Division by zero!\n"
          ],
          "name": "stdout"
        }
      ]
    },
    {
      "cell_type": "markdown",
      "metadata": {
        "id": "p1D1YR_Uq5QT"
      },
      "source": [
        "# Import & pip"
      ]
    },
    {
      "cell_type": "code",
      "metadata": {
        "id": "jtfVbpX_sFIu",
        "outputId": "dd623dad-5d57-4123-f394-e13eefe2e6e0",
        "colab": {
          "base_uri": "https://localhost:8080/",
          "height": 105
        }
      },
      "source": [
        "!pip install requests"
      ],
      "execution_count": 1,
      "outputs": [
        {
          "output_type": "stream",
          "text": [
            "Requirement already satisfied: requests in /usr/local/lib/python3.6/dist-packages (2.23.0)\n",
            "Requirement already satisfied: idna<3,>=2.5 in /usr/local/lib/python3.6/dist-packages (from requests) (2.10)\n",
            "Requirement already satisfied: chardet<4,>=3.0.2 in /usr/local/lib/python3.6/dist-packages (from requests) (3.0.4)\n",
            "Requirement already satisfied: urllib3!=1.25.0,!=1.25.1,<1.26,>=1.21.1 in /usr/local/lib/python3.6/dist-packages (from requests) (1.24.3)\n",
            "Requirement already satisfied: certifi>=2017.4.17 in /usr/local/lib/python3.6/dist-packages (from requests) (2020.6.20)\n"
          ],
          "name": "stdout"
        }
      ]
    },
    {
      "cell_type": "code",
      "metadata": {
        "id": "Ap-XU7GQsTcH"
      },
      "source": [
        "import requests"
      ],
      "execution_count": 2,
      "outputs": []
    },
    {
      "cell_type": "code",
      "metadata": {
        "id": "z_3DaUEosaH3"
      },
      "source": [
        "def validacep(cep):\n",
        "  try:\n",
        "    response = requests.get('https://viacep.com.br/ws/'+cep+'/json')\n",
        "    if response.status_code == 400:\n",
        "      print('Page not Found')\n",
        "    if response.status_code == 200:\n",
        "      dictresp = response.json()\n",
        "      return dictresp\n",
        "  except:\n",
        "    print(cep,'is a invalid input')"
      ],
      "execution_count": null,
      "outputs": []
    },
    {
      "cell_type": "code",
      "metadata": {
        "id": "iLZA9saGuidj",
        "outputId": "08f5753a-ad64-4916-9b0e-615f0cf360c2",
        "colab": {
          "base_uri": "https://localhost:8080/",
          "height": 34
        }
      },
      "source": [
        "ceptest = validacep('11673230')\n",
        "print(ceptest['logradouro'],'-',ceptest['bairro'],ceptest['localidade'],'/',ceptest['uf'])"
      ],
      "execution_count": null,
      "outputs": [
        {
          "output_type": "stream",
          "text": [
            "Rua Arthur Bernardes - Poiares Caraguatatuba / SP\n"
          ],
          "name": "stdout"
        }
      ]
    },
    {
      "cell_type": "code",
      "metadata": {
        "id": "L9erEkHtoyq8",
        "outputId": "b5f549a0-dab3-4a72-cb83-ac64a3a22144",
        "colab": {
          "base_uri": "https://localhost:8080/",
          "height": 116
        }
      },
      "source": [
        "def pokedex(pokemon:str):\n",
        "  from IPython.display import Image\n",
        "  try:\n",
        "    response = requests.get('http://pokeapi.co/api/v2/pokemon/'+pokemon)\n",
        "    datapoke = response.json()\n",
        "    return Image(datapoke['sprites']['front_shiny'],width=100, height=100)\n",
        "  except:\n",
        "    return Image('https://i.pinimg.com/600x315/b7/3e/a1/b73ea173b08e8f5b7b16692bdc750452.jpg')\n",
        "\n",
        "pokedex('eevee')"
      ],
      "execution_count": 25,
      "outputs": [
        {
          "output_type": "execute_result",
          "data": {
            "image/png": "[encoded data removed]",
            "text/plain": [
              "<IPython.core.display.Image object>"
            ]
          },
          "metadata": {
            "tags": [],
            "image/png": {
              "width": 100,
              "height": 100
            }
          },
          "execution_count": 25
        }
      ]
    },
    {
      "cell_type": "code",
      "metadata": {
        "id": "ZAxgzrCBvo7h",
        "outputId": "e0972094-a020-4119-f430-df8df0084b89",
        "colab": {
          "base_uri": "https://localhost:8080/",
          "height": 106
        }
      },
      "source": [
        "def webscraping(url:str):\n",
        "  response = requests.get(url)\n",
        "  return response.text\n",
        "\n",
        "webscraping('https://webscraper.io/test-sites/e-commerce/allinone')\n"
      ],
      "execution_count": 27,
      "outputs": [
        {
          "output_type": "execute_result",
          "data": {
            "application/vnd.google.colaboratory.intrinsic+json": {
              "type": "string"
            },
            "text/plain": [
              "'<!DOCTYPE html>\\n<html lang=\"en\">\\n<head>\\n\\n\\t\\t\\t<!-- Anti-flicker snippet (recommended)  -->\\n<style>.async-hide {\\n\\t\\topacity: 0 !important\\n\\t} </style>\\n<script>(function (a, s, y, n, c, h, i, d, e) {\\n\\t\\ts.className += \\' \\' + y;\\n\\t\\th.start = 1 * new Date;\\n\\t\\th.end = i = function () {\\n\\t\\t\\ts.className = s.className.replace(RegExp(\\' ?\\' + y), \\'\\')\\n\\t\\t};\\n\\t\\t(a[n] = a[n] || []).hide = h;\\n\\t\\tsetTimeout(function () {\\n\\t\\t\\ti();\\n\\t\\t\\th.end = null\\n\\t\\t}, c);\\n\\t\\th.timeout = c;\\n\\t})(window, document.documentElement, \\'async-hide\\', \\'dataLayer\\', 4000,\\n\\t\\t{\\'GTM-NVFPDWB\\': true});</script>\\n\\t\\n\\t<!-- Google Tag Manager -->\\n<script>(function (w, d, s, l, i) {\\n\\t\\tw[l] = w[l] || [];\\n\\t\\tw[l].push({\\n\\t\\t\\t\\'gtm.start\\':\\n\\t\\t\\t\\tnew Date().getTime(), event: \\'gtm.js\\'\\n\\t\\t});\\n\\t\\tvar f = d.getElementsByTagName(s)[0],\\n\\t\\t\\tj = d.createElement(s), dl = l != \\'dataLayer\\' ? \\'&l=\\' + l : \\'\\';\\n\\t\\tj.async = true;\\n\\t\\tj.src =\\n\\t\\t\\t\\'https://www.googletagmanager.com/gtm.js?id=\\' + i + dl;\\n\\t\\tf.parentNode.insertBefore(j, f);\\n\\t})(window, document, \\'script\\', \\'dataLayer\\', \\'GTM-NVFPDWB\\');</script>\\n<!-- End Google Tag Manager -->\\n\\t<title>Web Scraper Test Sites</title>\\n\\t<meta charset=\"utf-8\">\\n\\t<meta http-equiv=\"X-UA-Compatible\" content=\"IE=edge,chrome=1\">\\n\\n\\t<meta name=\"keywords\"\\n\\t      content=\"web scraping,Web Scraper,Chrome extension,Crawling,Cross platform scraper\"/>\\n\\t<meta name=\"description\"\\n\\t      content=\"The most popular web scraping extension. Start scraping in minutes. Automate your tasks with our Cloud Scraper. No software to download, no coding needed.\"/>\\n\\t<link rel=\"icon\" sizes=\"128x128\" href=\"/favicon.png\">\\n\\n\\t<meta name=\"viewport\" content=\"width=device-width, initial-scale=1.0\">\\n\\t\\n\\t<link rel=\"stylesheet\" href=\"/css/app.css?id=e4de8db16b64e604046e\">\\n\\n\\t<link rel=\"canonical\" href=\"https://webscraper.io/test-sites/e-commerce/allinone\">\\n\\t<link rel=\"apple-touch-icon\" href=\"/img/logo-icon.png\">\\n\\n\\t\\t<script defer src=\"/js/app.js?id=e64f07a3ce1d466cf04c\"></script>\\n\\n\\t\\n</head>\\n<body>\\n<!-- Google Tag Manager (noscript) -->\\n<noscript>\\n\\t<iframe src=\"https://www.googletagmanager.com/ns.html?id=GTM-NVFPDWB\"\\n\\t        height=\"0\" width=\"0\" style=\"display:none;visibility:hidden\"></iframe>\\n</noscript>\\n<!-- End Google Tag Manager (noscript) -->\\n<header role=\"banner\" class=\"navbar navbar-fixed-top navbar-static\">\\n\\t<div class=\"container\">\\n\\n\\t\\t<div class=\"navbar-header\">\\n\\n\\t\\t\\t<a data-toggle=\"collapse-side\" data-target=\".side-collapse\" data-target-2=\".side-collapse-container\">\\n\\t\\t\\t\\t<button type=\"button\" class=\"navbar-toggle pull-right collapsed\" data-toggle=\"collapse\"\\n\\t\\t\\t\\t        data-target=\"#navbar\" data-target-2=\".side-collapse-container\" data-target-3=\".side-collapse\"\\n\\t\\t\\t\\t        aria-expanded=\"false\" aria-controls=\"navbar\">\\n\\n\\t\\t\\t\\t\\t<span class=\"sr-only\">Toggle navigation</span>\\n\\t\\t\\t\\t\\t<span class=\"icon-bar top-bar\"></span>\\n\\t\\t\\t\\t\\t<span class=\"icon-bar middle-bar\"></span>\\n\\t\\t\\t\\t\\t<span class=\"icon-bar bottom-bar\"></span>\\n\\n\\t\\t\\t\\t</button>\\n\\t\\t\\t</a>\\n\\t\\t\\t<div class=\"navbar-brand\">\\n\\t\\t\\t\\t<a href=\"/\"><img src=\"/img/logo_white.svg\" alt=\"Web Scraper\"></a>\\n\\t\\t\\t</div>\\n\\t\\t</div>\\n\\n\\t\\t<div class=\"side-collapse in\">\\n\\t\\t\\t<nav id=\"navbar\" role=\"navigation\" class=\"navbar-collapse collapse\">\\n\\t\\t\\t\\t<ul class=\"nav navbar-nav navbar-right\">\\n\\t\\t\\t\\t\\t<li class=\"hidden\">\\n\\t\\t\\t\\t\\t\\t<a href=\"#page-top\"></a>\\n\\t\\t\\t\\t\\t</li>\\n\\t\\t\\t\\t\\t\\n\\t\\t\\t\\t\\t\\n\\t\\t\\t\\t\\t\\n\\t\\t\\t\\t\\t\\n\\t\\t\\t\\t\\t\\n\\t\\t\\t\\t\\t\\n\\t\\t\\t\\t\\t\\n\\t\\t\\t\\t\\t<li>\\n\\t\\t\\t\\t\\t\\t<a href=\"/\" class=\"menuitm\">\\n\\t\\t\\t\\t\\t\\t\\t<p>Web Scraper</p>\\n\\t\\t\\t\\t\\t\\t\\t<div class=\"crta\"></div>\\n\\t\\t\\t\\t\\t\\t</a>\\n\\t\\t\\t\\t\\t</li>\\n\\t\\t\\t\\t\\t<li>\\n\\t\\t\\t\\t\\t\\t<a href=\"/cloud-scraper\" class=\"menuitm\">\\n\\t\\t\\t\\t\\t\\t\\t<p>Cloud Scraper</p>\\n\\t\\t\\t\\t\\t\\t\\t<div class=\"crta\"></div>\\n\\t\\t\\t\\t\\t\\t</a>\\n\\t\\t\\t\\t\\t</li>\\n\\t\\t\\t\\t\\t<li>\\n\\t\\t\\t\\t\\t\\t<a href=\"/pricing\" class=\"menuitm\">\\n\\t\\t\\t\\t\\t\\t\\t<p>Pricing</p>\\n\\t\\t\\t\\t\\t\\t\\t<div class=\"crta\"></div>\\n\\t\\t\\t\\t\\t\\t</a>\\n\\t\\t\\t\\t\\t</li>\\n\\t\\t\\t\\t\\t\\n\\t\\t\\t\\t\\t\\n\\t\\t\\t\\t\\t\\n\\t\\t\\t\\t\\t\\n\\t\\t\\t\\t\\t\\n\\t\\t\\t\\t\\t\\n\\t\\t\\t\\t\\t\\n\\t\\t\\t\\t\\t\\n\\t\\t\\t\\t\\t\\n\\t\\t\\t\\t\\t\\n\\t\\t\\t\\t\\t<li class=\"dropdown\">\\n\\t\\t\\t\\t\\t\\t<a href=\"#section3\" class=\"menuitm dropdown-toggle\" data-toggle=\"dropdown\">\\n\\t\\t\\t\\t\\t\\t\\t<p>Learn</p>\\n\\t\\t\\t\\t\\t\\t\\t<div class=\"crta\"></div>\\n\\t\\t\\t\\t\\t\\t</a>\\n\\t\\t\\t\\t\\t\\t<ul class=\"dropdown-menu\">\\n\\t\\t\\t\\t\\t\\t\\t<li>\\n\\t\\t\\t\\t\\t\\t\\t\\t<a href=\"/documentation\">Documentation</a>\\n\\t\\t\\t\\t\\t\\t\\t</li>\\n\\t\\t\\t\\t\\t\\t\\t<li>\\n\\t\\t\\t\\t\\t\\t\\t\\t<a href=\"/tutorials\">Video Tutorials</a>\\n\\t\\t\\t\\t\\t\\t\\t</li>\\n\\t\\t\\t\\t\\t\\t\\t<li>\\n\\t\\t\\t\\t\\t\\t\\t\\t<a href=\"/how-to-videos\">How to</a>\\n\\t\\t\\t\\t\\t\\t\\t</li>\\n\\t\\t\\t\\t\\t\\t\\t<li>\\n\\t\\t\\t\\t\\t\\t\\t\\t<a href=\"/test-sites\">Test Sites</a>\\n\\t\\t\\t\\t\\t\\t\\t</li>\\n\\t\\t\\t\\t\\t\\t\\t<li>\\n\\t\\t\\t\\t\\t\\t\\t\\t<a href=\"https://forum.webscraper.io/\" target=\"_blank\" rel=\"noopener\">Forum</a>\\n\\t\\t\\t\\t\\t\\t\\t</li>\\n\\t\\t\\t\\t\\t\\t</ul>\\n\\t\\t\\t\\t\\t</li>\\n\\t\\t\\t\\t\\t<li>\\n\\t\\t\\t\\t\\t\\t<a target=\"_blank\" href=\"https://chrome.google.com/webstore/detail/web-scraper/jnhgnonknehpejjnehehllkliplmbmhn?hl=en\" class=\"btn-menu1 install-extension\" rel=\"noopener\">Install</a>\\n\\t\\t\\t\\t\\t</li>\\n\\t\\t\\t\\t\\t<li>\\n\\t\\t\\t\\t\\t\\t<a href=\"https://cloud.webscraper.io/\" class=\"btn-menu2\">Login</a>\\n\\t\\t\\t\\t\\t</li>\\n\\t\\t\\t\\t</ul>\\n\\t\\t\\t</nav>\\n\\t\\t</div>\\n\\t</div>\\n</header>\\n\\n<div class=\"wrapper\">\\n\\t\\t<div class=\"formenu-here container-fluid\">\\n\\n\\t</div>\\n\\t<div class=\"container-fluid blog-hero\">\\n\\t\\t<div class=\"container\">\\n\\t\\t\\t<div class=\"row\">\\n\\t\\t\\t\\t<div class=\"col-md-12\">\\n\\t\\t\\t\\t\\t<h1>Test Sites</h1>\\n\\t\\t\\t\\t</div>\\n\\t\\t\\t</div>\\n\\t\\t</div>\\n\\t</div>\\n\\n\\t<div class=\"container test-site\">\\n\\t\\t<div class=\"row\">\\n\\t\\t\\t<div class=\"col-md-3 sidebar\">\\n\\t\\t\\t\\t\\t<div class=\"navbar-default sidebar\" role=\"navigation\">\\n\\t<div class=\"sidebar-nav navbar-collapse\">\\n\\t\\t<ul class=\"nav\" id=\"side-menu\">\\n\\n\\t\\t\\t<li class=\"active\">\\n\\t\\t\\t\\t<a href=\"/test-sites/e-commerce/allinone\">Home</a>\\n\\t\\t\\t</li>\\n\\n\\t\\t\\t\\t\\t\\t<li >\\n\\t\\t\\t\\t<a href=\"/test-sites/e-commerce/allinone/computers\" class=\"category-link \">\\n\\t\\t\\t\\t\\tComputers\\n\\t\\t\\t\\t\\t<span class=\"fa arrow\"></span>\\n\\t\\t\\t\\t</a>\\n\\n\\t\\t\\t\\t\\t\\t\\t</li>\\n\\t\\t\\t\\t\\t\\t<li >\\n\\t\\t\\t\\t<a href=\"/test-sites/e-commerce/allinone/phones\" class=\"category-link \">\\n\\t\\t\\t\\t\\tPhones\\n\\t\\t\\t\\t\\t<span class=\"fa arrow\"></span>\\n\\t\\t\\t\\t</a>\\n\\n\\t\\t\\t\\t\\t\\t\\t</li>\\n\\t\\t\\t\\t\\t</ul>\\n\\t</div>\\n</div>\\n\\n\\t\\t\\t</div>\\n\\t\\t\\t<div class=\"col-md-9\">\\n\\t\\t\\t\\t\\n\\t<div class=\"jumbotron\">\\n\\t\\t<h1>E-commerce training site</h1>\\n\\t\\t<p>\\n\\t\\t\\tWelcome to WebScraper e-commerce site. You can use this site for training\\n\\t\\t\\tto learn how to use the Web Scraper. Items listed here are not for sale.\\n\\t\\t</p>\\n\\t</div>\\n\\n\\t<h2>Top items being scraped right now</h2>\\n\\n\\t<div class=\"row\">\\n\\t\\t\\t<div class=\"col-sm-4 col-lg-4 col-md-4\">\\n\\t<div class=\"thumbnail\">\\n\\t\\t<img class=\"img-responsive\" alt=\"item\"\\n\\t\\t     src=\"/images/test-sites/e-commerce/items/cart2.png\">\\n\\t\\t<div class=\"caption\">\\n\\t\\t\\t<h4 class=\"pull-right price\">$1203.41</h4>\\n\\t\\t\\t<h4>\\n\\t\\t\\t\\t\\t\\t\\t\\t\\t<a href=\"/test-sites/e-commerce/allinone/product/609\" class=\"title\" title=\"Toshiba Portege X30-D-10J Black/Blue\">Toshiba Portege...</a>\\n\\t\\t\\t\\t\\t\\t\\t</h4>\\n\\t\\t\\t<p class=\"description\">Toshiba Portege X30-D-10J Black/Blue, 13.3&quot; FHD IPS, Core i5-7200U, 8GB, 256GB SSD, Windows 10 Pro</p>\\n\\n\\t\\t</div>\\n\\t\\t<div class=\"ratings\">\\n\\t\\t\\t<p class=\"pull-right\">13 reviews</p>\\n\\t\\t\\t<p data-rating=\"4\">\\n\\t\\t\\t\\t\\t\\t\\t\\t<span class=\"glyphicon glyphicon-star\"></span>\\n\\t\\t\\t\\t\\t\\t\\t\\t<span class=\"glyphicon glyphicon-star\"></span>\\n\\t\\t\\t\\t\\t\\t\\t\\t<span class=\"glyphicon glyphicon-star\"></span>\\n\\t\\t\\t\\t\\t\\t\\t\\t<span class=\"glyphicon glyphicon-star\"></span>\\n\\t\\t\\t\\t\\t\\t\\t</p>\\n\\t\\t</div>\\n\\t</div>\\n</div>\\n\\t\\t\\t<div class=\"col-sm-4 col-lg-4 col-md-4\">\\n\\t<div class=\"thumbnail\">\\n\\t\\t<img class=\"img-responsive\" alt=\"item\"\\n\\t\\t     src=\"/images/test-sites/e-commerce/items/cart2.png\">\\n\\t\\t<div class=\"caption\">\\n\\t\\t\\t<h4 class=\"pull-right price\">$118.99</h4>\\n\\t\\t\\t<h4>\\n\\t\\t\\t\\t\\t\\t\\t\\t\\t<a href=\"/test-sites/e-commerce/allinone/product/490\" class=\"title\" title=\"Sony Xperia\">Sony Xperia</a>\\n\\t\\t\\t\\t\\t\\t\\t</h4>\\n\\t\\t\\t<p class=\"description\">GPS, waterproof</p>\\n\\n\\t\\t</div>\\n\\t\\t<div class=\"ratings\">\\n\\t\\t\\t<p class=\"pull-right\">6 reviews</p>\\n\\t\\t\\t<p data-rating=\"1\">\\n\\t\\t\\t\\t\\t\\t\\t\\t<span class=\"glyphicon glyphicon-star\"></span>\\n\\t\\t\\t\\t\\t\\t\\t</p>\\n\\t\\t</div>\\n\\t</div>\\n</div>\\n\\t\\t\\t<div class=\"col-sm-4 col-lg-4 col-md-4\">\\n\\t<div class=\"thumbnail\">\\n\\t\\t<img class=\"img-responsive\" alt=\"item\"\\n\\t\\t     src=\"/images/test-sites/e-commerce/items/cart2.png\">\\n\\t\\t<div class=\"caption\">\\n\\t\\t\\t<h4 class=\"pull-right price\">$1101.83</h4>\\n\\t\\t\\t<h4>\\n\\t\\t\\t\\t\\t\\t\\t\\t\\t<a href=\"/test-sites/e-commerce/allinone/product/583\" class=\"title\" title=\"Asus ROG Strix GL553VD-DM535T\">Asus ROG Strix G...</a>\\n\\t\\t\\t\\t\\t\\t\\t</h4>\\n\\t\\t\\t<p class=\"description\">Apple MacBook Air 13.3&quot;, Core i5 1.8GHz, 8GB, 128GB SSD, Intel HD 4000, RUS</p>\\n\\n\\t\\t</div>\\n\\t\\t<div class=\"ratings\">\\n\\t\\t\\t<p class=\"pull-right\">4 reviews</p>\\n\\t\\t\\t<p data-rating=\"2\">\\n\\t\\t\\t\\t\\t\\t\\t\\t<span class=\"glyphicon glyphicon-star\"></span>\\n\\t\\t\\t\\t\\t\\t\\t\\t<span class=\"glyphicon glyphicon-star\"></span>\\n\\t\\t\\t\\t\\t\\t\\t</p>\\n\\t\\t</div>\\n\\t</div>\\n</div>\\n\\t</div>\\n\\n\\n\\t\\t\\t</div>\\n\\t\\t</div>\\n\\t</div>\\n\\t<div class=\"clearfix\"></div>\\n\\t<div class=\"push\"></div>\\n</div>\\n\\n<div class=\"container-fluid footer\" id=\"layout-footer\">\\n\\t<div class=\"container\">\\n\\t\\t<div class=\"row\">\\n\\t\\t\\t<div class=\"col-md-3\">\\n\\t\\t\\t\\t<ul>\\n\\t\\t\\t\\t\\t<li><p>Products</p></li>\\n\\t\\t\\t\\t\\t<li>\\n\\t\\t\\t\\t\\t\\t<a href=\"/\">Web Scraper browser extension</a>\\n\\t\\t\\t\\t\\t</li>\\n\\t\\t\\t\\t\\t<li>\\n\\t\\t\\t\\t\\t\\t<a href=\"/pricing\">Web Scraper Cloud</a>\\n\\t\\t\\t\\t\\t</li>\\n\\t\\t\\t\\t\\t\\t\\t\\t\\t\\t\\n\\t\\t\\t\\t\\t\\n\\t\\t\\t\\t</ul>\\n\\t\\t\\t</div>\\n\\t\\t\\t<div class=\"col-md-3\">\\n\\t\\t\\t\\t<ul>\\n\\t\\t\\t\\t\\t<li><p>Company</p></li>\\n\\t\\t\\t\\t\\t\\n\\t\\t\\t\\t\\t<li><a href=\"/contact\">Contact</a>\\n\\t\\t\\t\\t\\t</li>\\n\\t\\t\\t\\t\\t\\n\\t\\t\\t\\t\\t<li>\\n\\t\\t\\t\\t\\t\\t<a href=\"/privacy-policy\">Website Privacy Policy</a>\\n\\t\\t\\t\\t\\t</li>\\n\\t\\t\\t\\t\\t<li>\\n\\t\\t\\t\\t\\t\\t<a href=\"/extension-privacy-policy\">Browser Extension Privacy Policy</a>\\n\\t\\t\\t\\t\\t</li>\\n\\t\\t\\t\\t\\t<li>\\n\\t\\t\\t\\t\\t\\t<a href=\"http://webscraperio.us-east-1.elasticbeanstalk.com/downloads/Web_Scraper_Media_Kit.zip\">Media kit</a>\\n\\t\\t\\t\\t\\t</li>\\n\\t\\t\\t\\t\\t\\n\\t\\t\\t\\t\\t<li><a href=\"/jobs\">Jobs</a></li>\\n\\t\\t\\t\\t</ul>\\n\\t\\t\\t</div>\\n\\t\\t\\t<div class=\"col-md-3\">\\n\\t\\t\\t\\t<ul>\\n\\t\\t\\t\\t\\t<li><p>Resources</p></li>\\n\\t\\t\\t\\t\\t<li><a href=\"/blog\">Blog</a></li>\\n\\t\\t\\t\\t\\t<li>\\n\\t\\t\\t\\t\\t\\t<a href=\"/documentation\">Documentation</a>\\n\\t\\t\\t\\t\\t</li>\\n\\t\\t\\t\\t\\t<li>\\n\\t\\t\\t\\t\\t\\t<a href=\"/tutorials\">Video Tutorials</a>\\n\\t\\t\\t\\t\\t</li>\\n\\t\\t\\t\\t\\t<li>\\n\\t\\t\\t\\t\\t\\t<a href=\"/screenshots\">Screenshots</a>\\n\\t\\t\\t\\t\\t</li>\\n\\t\\t\\t\\t\\t<li>\\n\\t\\t\\t\\t\\t\\t<a href=\"/test-sites\">Test Sites</a>\\n\\t\\t\\t\\t\\t</li>\\n\\t\\t\\t\\t\\t<li>\\n\\t\\t\\t\\t\\t\\t<a target=\"_blank\" href=\"https://forum.webscraper.io/\" rel=\"noopener\">Forum</a>\\n\\t\\t\\t\\t\\t</li>\\n\\t\\t\\t\\t</ul>\\n\\t\\t\\t</div>\\n\\t\\t\\t<div class=\"col-md-3\">\\n\\t\\t\\t\\t<ul>\\n\\t\\t\\t\\t\\t<li><p>CONTACT US</p></li>\\n\\t\\t\\t\\t\\t<li>\\n\\t\\t\\t\\t\\t\\t<a href=\"mailto:info@webscraper.io\">info@webscraper.io</a>\\n\\t\\t\\t\\t\\t</li>\\n\\t\\t\\t\\t\\t\\n\\t\\t\\t\\t\\t<li>Rupniecibas iela 30,<br> Riga, Latvia, LV-1045</li>\\n\\t\\t\\t\\t</ul>\\n\\t\\t\\t\\t<ul class=\"smedia\">\\n\\t\\t\\t\\t\\t<li>\\n\\t\\t\\t\\t\\t\\t<a href=\"https://www.facebook.com/webscraperio/\" target=\"_blank\" rel=\"noopener\"><img src=\"/img/fbicon.png\" alt=\"Web Scraper on Facebook\"></a>\\n\\t\\t\\t\\t\\t</li>\\n\\t\\t\\t\\t\\t<li>\\n\\t\\t\\t\\t\\t\\t<a href=\"https://twitter.com/webscraperio\" target=\"_blank\" rel=\"noopener\"><img src=\"/img/twicon.png\" alt=\"Web Scraper on Twitter\"></a>\\n\\t\\t\\t\\t\\t</li>\\n\\t\\t\\t\\t\\t\\n\\n\\t\\t\\t\\t</ul>\\n\\t\\t\\t</div>\\n\\t\\t</div>\\n\\t\\t<div class=\"row\">\\n\\t\\t\\t<div class=\"col-md-12\">\\n\\t\\t\\t\\t<p class=\"copyright\">Copyright &copy 2020\\n\\t\\t\\t\\t\\t<a href=\"#\">Web Scraper</a> | All rights\\n\\t\\t\\t\\t\\treserved | Made by zoom59</p>\\n\\t\\t\\t</div>\\n\\t\\t</div>\\n\\t</div>\\n</div>\\n\\n\\n</body>\\n</html>\\n'"
            ]
          },
          "metadata": {
            "tags": []
          },
          "execution_count": 27
        }
      ]
    }
  ]
}