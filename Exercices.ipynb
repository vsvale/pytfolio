{
  "nbformat": 4,
  "nbformat_minor": 0,
  "metadata": {
    "colab": {
      "name": "Exercices.ipynb",
      "provenance": [],
      "collapsed_sections": [
        "QHxof5n7-Mue",
        "dYsVRyJl-LsC",
        "QzDF39T1-gNm",
        "YbYnHqEI-wEF",
        "qTxDVn6FKKC9",
        "YMxdasmm_p_t",
        "_RtBFtbu8SAB",
        "kn3DR2RDaYjH",
        "uOCW_PuR-ikR",
        "U0kz23YSdRgx",
        "zqoHZv3cFhHi",
        "RpTSvUilKpwz",
        "mp0hXGWOQQpe",
        "3tazvC-fU4f4",
        "Rscv3iPbc4Mn",
        "UOEc8FehlZus",
        "lTMKbfpdAi2A",
        "AqIHaTbNoZSi",
        "97lOXgT1l6YG",
        "RqaKGrmioFzB",
        "iTs9jRVOKXpC",
        "521295dH1J9w",
        "PZPfOLhS236p",
        "gG0jcjLbFiL3",
        "T1qtfsL0CTdV",
        "FyL21hTxCdwp",
        "CKNpXEIqEjTb",
        "buPTdgRlF_rg",
        "PBRoMQIgGF5p",
        "hWSrtEtk2SSo",
        "DAorBCrD788H",
        "-q-XN9ot8_h7",
        "itnOEwrO1DDd",
        "6yC_MsCDKPbD",
        "dJg9onijWdpq",
        "kquhDIItYT7k"
      ],
      "authorship_tag": "ABX9TyOK6cQbWvpxEWzg4SqBRxFC",
      "include_colab_link": true
    },
    "kernelspec": {
      "name": "python3",
      "display_name": "Python 3"
    }
  },
  "cells": [
    {
      "cell_type": "markdown",
      "metadata": {
        "id": "view-in-github",
        "colab_type": "text"
      },
      "source": [
        "<a href=\"https://colab.research.google.com/github/vsvale/pytfolio/blob/master/Exercices.ipynb\" target=\"_parent\"><img src=\"https://colab.research.google.com/assets/colab-badge.svg\" alt=\"Open In Colab\"/></a>"
      ]
    },
    {
      "cell_type": "markdown",
      "metadata": {
        "id": "QHxof5n7-Mue"
      },
      "source": [
        "# Update GPA"
      ]
    },
    {
      "cell_type": "code",
      "metadata": {
        "id": "VhDAFE_U8vIB",
        "outputId": "7deed9d6-3213-485c-e536-4aa8ee65e98e",
        "colab": {
          "base_uri": "https://localhost:8080/"
        }
      },
      "source": [
        "def main():\n",
        "  studentGPA = 3.45\n",
        "  studentFirtName = \"Kayla\"\n",
        "  studentLastName = \"Hammon\"\n",
        "  print(studentFirtName,studentLastName,'has a GPA of', studentGPA)\n",
        "  studentGPA = float(input('What do you want to update it to? '))\n",
        "  print(studentFirtName,studentLastName,'now has a GPA of', studentGPA)\n",
        "\n",
        "if __name__ == '__main__':\n",
        "  main()"
      ],
      "execution_count": null,
      "outputs": [
        {
          "output_type": "stream",
          "text": [
            "Kayla Hammon has a GPA of 3.45\n"
          ],
          "name": "stdout"
        }
      ]
    },
    {
      "cell_type": "markdown",
      "metadata": {
        "id": "dYsVRyJl-LsC"
      },
      "source": [
        "#Luck of day"
      ]
    },
    {
      "cell_type": "code",
      "metadata": {
        "id": "ktHw9_ib-W02"
      },
      "source": [
        "def main():\n",
        "  pick = input('Pick a number between 1 and 10: ')\n",
        "  try:\n",
        "    if not pick.isdigit():\n",
        "      raise TypeError(\"Sorry, only numbers\")\n",
        "    pick = int(pick)\n",
        "    if pick >10 or pick < 1:\n",
        "      raise Exception(\"Sorry, only numbers between 1 and 10\")\n",
        "    if pick < 5:\n",
        "      print('Enjoy the good luck a friend brings by')\n",
        "    else:\n",
        "      print('Your shoe selection will make you happy today')\n",
        "  except:\n",
        "    print('Sorry, only numbers between 1 and 10')\n",
        "\n",
        "if __name__ == '__main__':\n",
        "  main()"
      ],
      "execution_count": null,
      "outputs": []
    },
    {
      "cell_type": "markdown",
      "metadata": {
        "id": "QzDF39T1-gNm"
      },
      "source": [
        "#Playing Song"
      ]
    },
    {
      "cell_type": "code",
      "metadata": {
        "id": "mop0U01r-gt0"
      },
      "source": [
        "def main():\n",
        "  isOnRepeat = True\n",
        "  while isOnRepeat:\n",
        "    print('Playing current song')\n",
        "    userInput = input('wold you like to take this song off reapeat? If so, answer yes: ')\n",
        "    if userInput.lower() == 'yes':\n",
        "      isOnRepeat = False\n",
        "  print('Playing next song')\n",
        "\n",
        "if __name__ == '__main__':\n",
        "  main()"
      ],
      "execution_count": null,
      "outputs": []
    },
    {
      "cell_type": "markdown",
      "metadata": {
        "id": "YbYnHqEI-wEF"
      },
      "source": [
        "# Chairs and Tables"
      ]
    },
    {
      "cell_type": "code",
      "metadata": {
        "id": "ag_6nEpD-xGR"
      },
      "source": [
        "def main():\n",
        "  print('Choose 1,2,3 or 4', 'The price of 10 chair is equal to that of 4 tables. The price of 15 chairs and 2 tables together is 4000. The total price of 12 chairs and 3 tables is:')\n",
        "  print('1. 3500')\n",
        "  print('2. 3750')\n",
        "  print('3. 3840')\n",
        "  print('4. 3900')\n",
        "  answer = input('What is your answer 1,2,3 or 4? ')\n",
        "  if answer == '4':\n",
        "    print('Correct')\n",
        "  else:\n",
        "    print('Wrong. 4. 3900 is the answer. Chair value = 200 and table value = 500')\n",
        "\n",
        "\n",
        "if __name__ == '__main__':\n",
        "  main()"
      ],
      "execution_count": null,
      "outputs": []
    },
    {
      "cell_type": "markdown",
      "metadata": {
        "id": "qTxDVn6FKKC9"
      },
      "source": [
        "#Salary"
      ]
    },
    {
      "cell_type": "code",
      "metadata": {
        "id": "qxIBxwALKNST"
      },
      "source": [
        "def salary(hoursWorkday, costperHour):\n",
        "    year = 365\n",
        "    sundays = 52\n",
        "    saturdays = 52\n",
        "    vacation = 30\n",
        "    holydays = 10\n",
        "    workdays = year - sundays - saturdays - vacation - holydays\n",
        "    return (hoursWorkday*costperHour) * workdays\n",
        "\n",
        "salary(8,20)"
      ],
      "execution_count": null,
      "outputs": []
    },
    {
      "cell_type": "markdown",
      "metadata": {
        "id": "YMxdasmm_p_t"
      },
      "source": [
        "#Zodiac sign"
      ]
    },
    {
      "cell_type": "code",
      "metadata": {
        "id": "QHFuus_n_vPk"
      },
      "source": [
        "class Person():\n",
        "\n",
        "  def __init__(self,name,lastname, birthdate):\n",
        "    self.name = name\n",
        "    self.lasname = lastname\n",
        "    self.birthdate = birthdate\n",
        "  \n",
        "  def zodiac_sign(self):\n",
        "    from dateutil import parser\n",
        "    \n",
        "    try:\n",
        "      datetime = parser.parse(str(self.birthdate),dayfirst=True)\n",
        "    except:\n",
        "      return 'Not a valid date'\n",
        "    \n",
        "    month, day =  datetime.month, datetime.day\n",
        "\n",
        "    if month == 3 and day >= 21:\n",
        "      return 'Aries'\n",
        "    elif month == 4 and day <= 19:\n",
        "      return 'Aries'\n",
        "    elif month == 4 and day >= 20:\n",
        "      return 'Taurus'\n",
        "    elif month == 5 and day <= 20 :\n",
        "      return 'Taurus'\n",
        "    elif month == 5  and day >= 21 :\n",
        "      return 'Gemini'\n",
        "    elif month == 6 and day <= 20:\n",
        "      return 'Gemini'\n",
        "    elif month == 6  and day >= 21 :\n",
        "      return 'Cancer'\n",
        "    elif month == 7 and day <= 22:\n",
        "      return 'Cancer'\n",
        "    elif month == 7 and day >= 23:\n",
        "      return 'Leo'\n",
        "    elif month == 8 and day <= 22:\n",
        "      return 'Leo'\n",
        "    elif month == 8 and day >= 23:\n",
        "      return 'Virgo'\n",
        "    elif month == 9 and day <= 22:\n",
        "      return 'Virgo'\n",
        "    elif month == 9 and day >= 23:\n",
        "      return 'Libra'\n",
        "    elif month == 10 and day <= 22:\n",
        "      return 'Libra'\n",
        "    elif month == 10 and day >= 23:\n",
        "      return 'Scorpio'\n",
        "    elif month == 11 and day <= 21:\n",
        "      return 'Scorpio'\n",
        "    elif month == 11 and day >= 22:\n",
        "      return 'Sagittarius'\n",
        "    elif month == 12 and day <= 21:\n",
        "      return 'Sagittarius'\n",
        "    elif month == 12 and day >= 22:\n",
        "      return 'Capricorn'\n",
        "    elif month == 1 and day <= 19:\n",
        "      return 'Capricorn'\n",
        "    elif month == 1 and day >= 20:\n",
        "      return 'Aquarius'\n",
        "    elif month == 2 and day <= 18:\n",
        "      return 'Aquarius'\n",
        "    elif month == 2 and day >= 19:\n",
        "      return 'Pisces'\n",
        "    elif month == 3 and day <= 20:\n",
        "      return 'Pisces'\n",
        "    else:\n",
        "      return 'Not Found'\n",
        "\n",
        "maria = Person('Maria','Silva','06/09/1996')\n",
        "maria.zodiac_sign()\n"
      ],
      "execution_count": null,
      "outputs": []
    },
    {
      "cell_type": "markdown",
      "metadata": {
        "id": "_RtBFtbu8SAB"
      },
      "source": [
        "#Discounted Price\n",
        "\n",
        "In this challenge, you must discount a price according to its value.\n",
        "\n",
        "If the price is 300 or above, there will be a 30% discount.\n",
        "\n",
        "If the price is between 200 and 300 (200 inclusive), there will be a 20% discount.\n",
        "\n",
        "If the price is between 100 and 200 (100 inclusive), there will be a 10% discount.\n",
        "\n",
        "If the price is less than 100, there will be a 5% discount.\n",
        "\n",
        "If the price is negative, there will be no discount."
      ]
    },
    {
      "cell_type": "code",
      "metadata": {
        "id": "5SqNDwy_7H8N"
      },
      "source": [
        "def gimmediscount(price):\n",
        "  if price >= 300:\n",
        "    return price * 0.7\n",
        "  elif price >= 200:\n",
        "    return price * 0.8\n",
        "  elif price >= 100:\n",
        "    return price * 0.9\n",
        "  elif price > 0:\n",
        "    return price * 0.95\n",
        "  else:\n",
        "    return price\n",
        "\n",
        "def main():\n",
        "  print(gimmediscount(250))\n",
        "\n",
        "if __name__ == '__main__':\n",
        "  main()"
      ],
      "execution_count": null,
      "outputs": []
    },
    {
      "cell_type": "markdown",
      "metadata": {
        "id": "kn3DR2RDaYjH"
      },
      "source": [
        "#  Repetition and Concatenation\n",
        "\n",
        "In this exercise, you must implement the rep_cat function. You are given two integers, x and y, as arguments. You must convert them into strings. The string value of x must be repeated 10 times and the string value of y must be repeated 5 times.\n",
        "\n",
        "At the end, y will be concatenated to x and the resulting string must returned."
      ]
    },
    {
      "cell_type": "code",
      "metadata": {
        "id": "R4g7kWEcadf8"
      },
      "source": [
        "def rep_cat(x,y):\n",
        "  strx = str(x)\n",
        "  stry = str(y)\n",
        "  str10x = strx * 10\n",
        "  str5y = stry * 5\n",
        "  return  str10x + str5y"
      ],
      "execution_count": null,
      "outputs": []
    },
    {
      "cell_type": "markdown",
      "metadata": {
        "id": "uOCW_PuR-ikR"
      },
      "source": [
        "#Factorial!\n",
        "The factorial of a number, n, is its product with all the integers between 0 and n.\n",
        "\n",
        "\n"
      ]
    },
    {
      "cell_type": "code",
      "metadata": {
        "id": "Ox5-qZgf-hx_"
      },
      "source": [
        "def factorial(n):\n",
        "  try:\n",
        "    n = int(n)\n",
        "    if n < 0:\n",
        "      return -1\n",
        "    if n == 0:\n",
        "      return 1\n",
        "    else:\n",
        "      return n * factorial(n-1)\n",
        "  except:\n",
        "    print('Invalid Input')\n",
        "\n",
        "print(factorial(5))\n",
        "print(factorial(1))\n",
        "print(factorial(0))\n",
        "print(factorial(-10))"
      ],
      "execution_count": null,
      "outputs": []
    },
    {
      "cell_type": "markdown",
      "metadata": {
        "id": "U0kz23YSdRgx"
      },
      "source": [
        "#Balanced Brackets\n",
        "\n",
        "Given a string containing only square brackets, [], you must check whether the brackets are balanced or not. The brackets are said to be balanced if, for every opening bracket, there is a closing bracket.\n"
      ]
    },
    {
      "cell_type": "code",
      "metadata": {
        "id": "z3Tk5O0ZdQ5Z"
      },
      "source": [
        "def check_balance(brackets):\n",
        "  if not brackets:\n",
        "    return True\n",
        "\n",
        "  lenbrac = len(brackets)\n",
        "\n",
        "  if lenbrac % 2 == 1:\n",
        "    return False\n",
        "\n",
        "  if brackets.count('[') != brackets.count(']'):\n",
        "    return False\n",
        "  \n",
        "  listbrackets = list(brackets)\n",
        "\n",
        "  while lenbrac != 0:\n",
        "    \n",
        "    if listbrackets[0] == '[':\n",
        "\n",
        "      for i in range(lenbrac):\n",
        "        if listbrackets[i] == ']':\n",
        "          listbrackets.pop(i)\n",
        "          listbrackets.pop(0)\n",
        "          lenbrac = len(listbrackets)\n",
        "          if lenbrac == 0:\n",
        "            return True\n",
        "          break\n",
        "        else:\n",
        "          continue\n",
        "    else:\n",
        "      return False\n",
        "\n",
        "\n",
        "\n",
        "\n",
        "print(check_balance('[[[[][]]]]'))"
      ],
      "execution_count": null,
      "outputs": []
    },
    {
      "cell_type": "markdown",
      "metadata": {
        "id": "zqoHZv3cFhHi"
      },
      "source": [
        "# A Sum of Zero\n",
        "You must implement the check_sum() function which takes in a list and returns True if the sum of two numbers in the list is zero. If no such pair exists, return False.\n"
      ]
    },
    {
      "cell_type": "code",
      "metadata": {
        "id": "f-yCEn4kAWxE"
      },
      "source": [
        "def check_sum(listzero):\n",
        "  for item in listzero:\n",
        "    if item * -1 in listzero:\n",
        "      return True\n",
        "  return False\n",
        "\n",
        "print(check_sum([10, -14, 26, 5, -3, 13, -5]))"
      ],
      "execution_count": null,
      "outputs": []
    },
    {
      "cell_type": "markdown",
      "metadata": {
        "id": "RpTSvUilKpwz"
      },
      "source": [
        "# Fibonacci Series\n",
        "\n",
        "implement the Fibonacci series using loops!\n",
        "Fibonacci sequence is a series of numbers where every number is the sum of the two numbers before it. The first two numbers are 0 and 1"
      ]
    },
    {
      "cell_type": "code",
      "metadata": {
        "id": "s8hi7IInKoy8"
      },
      "source": [
        "def fib(n):\n",
        "  if n < 0:\n",
        "    return -1\n",
        "  else:\n",
        "    listfib = []\n",
        "    for i in range(n):\n",
        "      if i == 0:\n",
        "        listfib.append(0)\n",
        "      elif i == 1:\n",
        "        listfib.append(1)\n",
        "      else:\n",
        "        listfib.append(listfib[i-1]+listfib[i-2])\n",
        "    return listfib[n-1]\n",
        "\n",
        "print(fib(5))"
      ],
      "execution_count": null,
      "outputs": []
    },
    {
      "cell_type": "markdown",
      "metadata": {
        "id": "mp0hXGWOQQpe"
      },
      "source": [
        "#Secret Password"
      ]
    },
    {
      "cell_type": "code",
      "metadata": {
        "id": "wWJrbgQhQPOX"
      },
      "source": [
        "def password():\n",
        "  from getpass import getpass\n",
        "\n",
        "  i = 0\n",
        "  correct = False\n",
        "  while i < 3 and not correct:\n",
        "    print('What is the pass code?')\n",
        "    try:\n",
        "      passcode = getpass()\n",
        "      if not passcode:\n",
        "        print('Empty')\n",
        "      elif passcode == 'secret':\n",
        "        print('Authenticated')\n",
        "        correct = True\n",
        "      else:\n",
        "        print('Not Aunthenticated. ',i+1,'/3')\n",
        "        i = i + 1\n",
        "    except Exception as error:\n",
        "      print('Error',error)\n",
        "\n",
        "password()"
      ],
      "execution_count": null,
      "outputs": []
    },
    {
      "cell_type": "markdown",
      "metadata": {
        "id": "3tazvC-fU4f4"
      },
      "source": [
        "#Learn Count"
      ]
    },
    {
      "cell_type": "code",
      "metadata": {
        "id": "8M5oZVI0U34X"
      },
      "source": [
        "count =[i for i in range(1,11)]\n",
        "reverse = count[::-1]\n",
        "for i in range(5):\n",
        "  if i % 2 ==0:\n",
        "    print(count)\n",
        "  else:\n",
        "    print(reverse)"
      ],
      "execution_count": null,
      "outputs": []
    },
    {
      "cell_type": "markdown",
      "metadata": {
        "id": "Rscv3iPbc4Mn"
      },
      "source": [
        "#Classify Candidate"
      ]
    },
    {
      "cell_type": "code",
      "metadata": {
        "id": "ZVHISJe0e2tk"
      },
      "source": [
        "stringexp = input('How many years of experience do you have? ')\n",
        "try:\n",
        "  exp = int(stringexp)\n",
        "except:\n",
        "  print('Invalid input, must be a number')\n",
        "if exp <= 0:\n",
        "  print('Inexperienced')\n",
        "elif exp <=2.5:\n",
        "  print('Trainee')\n",
        "elif exp <= 5:\n",
        "  print('Junior')\n",
        "elif exp <=9:\n",
        "  print('Middle')\n",
        "elif exp < 15:\n",
        "  print('Senior')\n",
        "else:\n",
        "  print('Master')"
      ],
      "execution_count": null,
      "outputs": []
    },
    {
      "cell_type": "markdown",
      "metadata": {
        "id": "UOEc8FehlZus"
      },
      "source": [
        "#Student Manager\n",
        "Get student name and grade from console input. Able to handle any number of students. Display all student name and grades once the user finishes adding students. Then implement a way to remove a student."
      ]
    },
    {
      "cell_type": "code",
      "metadata": {
        "id": "Obqb8Pe_FHzh"
      },
      "source": [
        "class Student():\n",
        "  def __ini__(self,name, grade, birthday=\"01/01/1900\", address=\"\", phone=\"\"):\n",
        "    self.name = name\n",
        "    self.grade = grade\n",
        "    self.birthday = birthday\n",
        "    self.address = address\n",
        "    self.phone = phone\n",
        "\n",
        "class Class():\n",
        "  def __init__(self,listclass=[]):\n",
        "    self.listclass = listclass\n",
        "\n",
        "class ClassMethods():\n",
        "\n",
        "  def answername(self):\n",
        "    ans = input(\"Input student's name: \")\n",
        "    if not ans:\n",
        "      print(\"Empty input.\")\n",
        "      return answername()\n",
        "    return ans\n",
        "\n",
        "  def answergrade(self):\n",
        "    ans = input(\"Input student's grade: \")\n",
        "    if not ans:\n",
        "      print('Empty input')\n",
        "      return input()\n",
        "    elif not ans.isnumeric():\n",
        "      print(\"Not a valid grade.\")\n",
        "      return answergrade()\n",
        "    return int(ans)\n",
        "\n",
        "  def answeryorn(self):\n",
        "    ans = input(\"Do you like Insert another student? Y or N: \")\n",
        "    if not ans:\n",
        "      print(\"Empty input.\")\n",
        "      return answeryorn()\n",
        "    elif ans.lower() not in ('y','n'):\n",
        "      print('Only Y or N are valid inputs')\n",
        "      return answeryorn()\n",
        "    return ans.lower()\n",
        "\n",
        "  def insert_students(self):\n",
        "    inserting = True\n",
        "    while inserting:\n",
        "      name = self.answername()\n",
        "      grade = self.answergrade()\n",
        "      student = Student()\n",
        "      student.name = name\n",
        "      student.grade = grade\n",
        "      self.listclass.append(student)\n",
        "      yorn = self.answeryorn()\n",
        "      if yorn == 'y':\n",
        "        continue\n",
        "      else:\n",
        "        inserting = False\n",
        "      print('New Class:')\n",
        "      for obj in self.listclass:\n",
        "        print(obj.name,obj.grade)\n",
        "\n",
        "  def remove_student(self,name):\n",
        "    for i,student in enumerate(self.listclass):\n",
        "      if student.name.lower() == name.lower():\n",
        "        self.listclass.pop(i)\n",
        "    print(name+\" removed.\",'New Class:')\n",
        "    for obj in self.listclass:\n",
        "        print(obj.name,obj.grade)\n",
        "\n",
        "class ClassNew(Class,ClassMethods):\n",
        "  pass\n",
        "\n",
        "def main():\n",
        "  newclass  = ClassNew()\n",
        "  newclass.insert_students()\n",
        "  newclass.remove_student('Joao')\n",
        "  newclass.insert_students()\n",
        "\n",
        "\n",
        "\n",
        "if __name__=='__main__':\n",
        "  main()"
      ],
      "execution_count": null,
      "outputs": []
    },
    {
      "cell_type": "markdown",
      "metadata": {
        "id": "lTMKbfpdAi2A"
      },
      "source": [
        "# Hypotenuse\n",
        "c² = a² + b²"
      ]
    },
    {
      "cell_type": "code",
      "metadata": {
        "id": "iFIHHWvaAl0t"
      },
      "source": [
        "def hypothenuse(a,b):\n",
        "  return ((a**2) + (b**2))**0.5\n",
        "\n",
        "hypothenuse(2,4)"
      ],
      "execution_count": null,
      "outputs": []
    },
    {
      "cell_type": "markdown",
      "metadata": {
        "id": "AqIHaTbNoZSi"
      },
      "source": [
        "#Max\n"
      ]
    },
    {
      "cell_type": "code",
      "metadata": {
        "id": "hwo7vOrvoxYs"
      },
      "source": [
        "def answernumber():\n",
        "  ans = input(\"Input a number: \")\n",
        "  if not ans:\n",
        "    print('Empty input')\n",
        "    return answernumber()\n",
        "  elif not ans.isnumeric():\n",
        "    print(\"Not a valid grade.\")\n",
        "    return answernumber()\n",
        "  return float(ans)\n",
        "\n",
        "def answeryorn():\n",
        "  ans = input(\"Do you like Insert another number? Y or N: \")\n",
        "  if not ans:\n",
        "    print(\"Empty input.\")\n",
        "    return answeryorn()\n",
        "  elif ans.lower() not in ('y','n'):\n",
        "    print('Only Y or N are valid inputs')\n",
        "    return answeryorn()\n",
        "  return ans.lower()\n",
        "\n",
        "def infinputs(listinputs=[]):\n",
        "  listinputs.append(answernumber())\n",
        "  if answeryorn()=='y':\n",
        "    return infinputs(listinputs)\n",
        "  else:\n",
        "    return listinputs\n",
        "\n",
        "def maxnumber():\n",
        "  numbers = infinputs()\n",
        "  return max(numbers)\n",
        "#\n",
        "\n",
        "def main():\n",
        "  print('Biggest number is',maxnumber())\n",
        "\n",
        "if __name__ == '__main__':\n",
        "  main()"
      ],
      "execution_count": null,
      "outputs": []
    },
    {
      "cell_type": "markdown",
      "metadata": {
        "id": "97lOXgT1l6YG"
      },
      "source": [
        "#Min"
      ]
    },
    {
      "cell_type": "code",
      "metadata": {
        "id": "yw0B0nryl54b"
      },
      "source": [
        "import re\n",
        "\n",
        "stringinput = input('Insert a list of positive numbers:')\n",
        "listinput = re.split(r'\\D+',stringinput)\n",
        "numberlist = [element for element in listinput if element.isnumeric()]\n",
        "floatlist = [float(element) for element in numberlist]\n",
        "try:\n",
        "  print(min(floatlist))\n",
        "except:\n",
        "  print('Please insert at leat one positive number')"
      ],
      "execution_count": null,
      "outputs": []
    },
    {
      "cell_type": "markdown",
      "metadata": {
        "id": "RqaKGrmioFzB"
      },
      "source": [
        "#Invert String"
      ]
    },
    {
      "cell_type": "code",
      "metadata": {
        "id": "mJXAZ_uLoHlZ"
      },
      "source": [
        "userinput = input('Input something: ')\n",
        "stack = \"\"\n",
        "notstack = \"\"\n",
        "for character in userinput:\n",
        "  stack = character + stack #stack, 0 receive last element\n",
        "  notstack = notstack + character\n",
        "print(stack)\n",
        "print(notstack)\n"
      ],
      "execution_count": null,
      "outputs": []
    },
    {
      "cell_type": "markdown",
      "metadata": {
        "id": "iTs9jRVOKXpC"
      },
      "source": [
        "# Divisible\n"
      ]
    },
    {
      "cell_type": "code",
      "metadata": {
        "id": "Sdzfh7q6KW9M"
      },
      "source": [
        "import re\n",
        "\n",
        "def input_NumericList():\n",
        "  stringinput = input('Insert a list of positive numbers:')\n",
        "  listinput = re.split(r'\\D+',stringinput)\n",
        "  numberlist = [element for element in listinput if element.isnumeric()]\n",
        "  floatlist = [float(element) for element in numberlist]\n",
        "  return floatlist\n",
        "\n",
        "def divisible(numericlist):\n",
        "  result = []\n",
        "  try:\n",
        "    for numerator in numericlist:\n",
        "      for denominator in numericlist:\n",
        "        if numerator == denominator or denominator ==0:\n",
        "          continue\n",
        "        if numerator % denominator == 0 and [numerator,denominator] not in result:\n",
        "          result.append([numerator,denominator])\n",
        "  except ZeroDivisionError:\n",
        "    print('Error: Division by Zero')\n",
        "    result = []\n",
        "  return result\n",
        "\n",
        "def main():\n",
        "  numericlist = input_NumericList()\n",
        "  result = divisible(numericlist)\n",
        "  for element in result:\n",
        "    print(element[0],'is divisible by',element[1])\n",
        "\n",
        "if __name__ == '__main__':\n",
        "  main()"
      ],
      "execution_count": null,
      "outputs": []
    },
    {
      "cell_type": "markdown",
      "metadata": {
        "id": "521295dH1J9w"
      },
      "source": [
        "# From list to tuple\n",
        "\n",
        " The tuple will contain the list’s first element, last element, and the length of the list, in that same order"
      ]
    },
    {
      "cell_type": "code",
      "metadata": {
        "id": "97ZtPy8D1JIk"
      },
      "source": [
        "my_list = [34, 82.6, \"Darth Vader\", 17, \"Hannibal\"]\n",
        "\n",
        "my_tuple = (my_list[0],my_list[-1],len(my_list))\n",
        "\n",
        "print(my_tuple)\n"
      ],
      "execution_count": null,
      "outputs": []
    },
    {
      "cell_type": "markdown",
      "metadata": {
        "id": "PZPfOLhS236p"
      },
      "source": [
        "# Kth Maximum Integer in a List\n",
        "\n",
        "k=2 result =66\n",
        "k=6 result = 22"
      ]
    },
    {
      "cell_type": "code",
      "metadata": {
        "id": "8hKsyaIW26Kx"
      },
      "source": [
        "test_list = [40,35,82,14,22,66,53]\n",
        "\n",
        "test_list.sort()\n",
        "print(test_list)\n",
        "k=2\n",
        "print(test_list[-k])\n",
        "k=6\n",
        "print(test_list[-k])"
      ],
      "execution_count": null,
      "outputs": []
    },
    {
      "cell_type": "markdown",
      "metadata": {
        "id": "gG0jcjLbFiL3"
      },
      "source": [
        "# Highs and Lows\n",
        "You must implement the count_low_high() function. Its parameter is a list of numbers.\n",
        "\n",
        "If a number is greater than 50 or divisible by 3, it will count as a high. If these conditions are not met, the number is considered a low.\n",
        "\n",
        "At the end of the function, you must return a list that contains the number of lows and highs, in that order.\n",
        "\n",
        "In case the list is empty, you may return None."
      ]
    },
    {
      "cell_type": "code",
      "metadata": {
        "id": "VRZlFRqBFjlJ"
      },
      "source": [
        "def count_low_high(list_numbers):\n",
        "  if not list_numbers:\n",
        "    return None\n",
        "  high, low = 0,0\n",
        "  for number in list_numbers:\n",
        "    if number > 50 or number % 3 == 0:\n",
        "      high+=1\n",
        "    else:\n",
        "      low+=1\n",
        "  return [low,high]\n",
        "\n",
        "print(count_low_high([]))\n",
        "print(count_low_high([1]))\n",
        "print(count_low_high([1,51,3]))"
      ],
      "execution_count": null,
      "outputs": []
    },
    {
      "cell_type": "code",
      "metadata": {
        "id": "sEsfL-IcJtkR"
      },
      "source": [
        "def count_low_high(list_numbers):\n",
        "  if not list_numbers:\n",
        "    return None\n",
        "  high = len([number for number in list_numbers if number > 50 or number % 3 == 0])\n",
        "  low = len([number for number in list_numbers if number <= 50 or number % 3 != 0])\n",
        "  return [high,low]\n",
        "\n",
        "print(count_low_high([]))\n",
        "print(count_low_high([1]))\n",
        "print(count_low_high([1,51,3]))"
      ],
      "execution_count": null,
      "outputs": []
    },
    {
      "cell_type": "code",
      "metadata": {
        "id": "HP24BNkWOe8b"
      },
      "source": [
        "def count_low_high(list_numbers):\n",
        "  if not list_numbers:\n",
        "    return None\n",
        "  high = list(filter(lambda n: n >50 or n % 3 ==0,list_numbers)) #filter(function, iterable)\n",
        "  low = list(filter(lambda n: n <=50 or n % 3 !=0,list_numbers))\n",
        "  return [len(high),len(low)]\n",
        "\n",
        "print(count_low_high([]))\n",
        "print(count_low_high([1]))\n",
        "print(count_low_high([1,51,3]))"
      ],
      "execution_count": null,
      "outputs": []
    },
    {
      "cell_type": "markdown",
      "metadata": {
        "id": "T1qtfsL0CTdV"
      },
      "source": [
        "# Detecting String Pattern\n",
        "In this coding exercise, you are asked to write the body of a function called detect_pattern that returns true or false depending upon whether two strings have the same pattern of characters. More precisely, two strings have the same pattern if they are of the same length and if two characters in the first string are equal if and only if the characters in the corresponding positions in the second string are also equal.\n",
        "\n",
        "Below are some examples of patterns that are the same and patterns that differ:\n",
        "\n",
        "1st String\t2nd String\tSame Pattern\n",
        "“”\t“”\tTrue\n",
        "“a”\t“a”\tTrue\n",
        "“x”\t“y”\tTrue\n",
        "“ab”\t“xy”\tTrue\n",
        "“aba”\t“xyz”\tFalse\n",
        "“- - -”\t“xyz”\tFalse\n",
        "“- - -”\t“aaa”\tTrue\n",
        "“xyzxyz”\t“toetoe”\tTrue\n",
        "“xyzxyz”\t“toetoa”\tFalse\n",
        "“aaabbbcccd”\t“eeefffgggz”\tTrue\n",
        "“cbacbacba”\t“xyzxyzxyz”\tTrue\n",
        "“abcdefghijk”\t“lmnopqrstuv”\tTrue\n",
        "“asasasasas”\t“xxxxxyyyyy”\tFalse\n",
        "“ascneencsa”\t“aeiouaeiou”\tFalse\n",
        "“aaasssiiii”\t“gggdddfffh”\tFalse\n",
        "For example, if two strings called s1 and s2 contain the following letters:\n",
        "\n",
        "s1 = \"aba\"\n",
        "s2 = \"xyz\"\n",
        "then the call detect_pattern(s1, s2) should return False.\n",
        "\n",
        "Note:\n",
        "\n",
        "The function detect_pattern takes two parameters: the two strings to compare.\n",
        "You are allowed to create new strings, but otherwise you are not allowed to construct extra data structures to solve this problem (no list, set, dictionary, etc).\n",
        "Keep in mind that the method should return the same value no matter what order the two strings are passed."
      ]
    },
    {
      "cell_type": "code",
      "metadata": {
        "id": "Ni-tPrr0CTAn"
      },
      "source": [
        "def detect_pattern(s1,s2):\n",
        "  if not s1 or not s2:\n",
        "    return False\n",
        "  if len(s1) != len(s2):\n",
        "    return False\n",
        "    \n",
        "  for i,letter in enumerate(s1):\n",
        "    if not letter.isnumeric():\n",
        "      s1 = s1.replace(letter,str(i))\n",
        "\n",
        "  for i,letter in enumerate(s2):\n",
        "    if not letter.isnumeric():\n",
        "      s2 = s2.replace(letter,str(i))\n",
        "\n",
        "  return s1 == s2\n",
        "\n",
        "print(\"\",\"\",detect_pattern(\"\",\"\"))\n",
        "print(\"a\",\"a\",detect_pattern(\"a\",\"a\"))\n",
        "print(\"x\",\"y\",detect_pattern(\"x\",\"y\"))\n",
        "print(\"ab\",\"xy\",detect_pattern(\"ab\",\"xy\"))\n",
        "print(\"---\",\"xyz\",detect_pattern(\"---\",\"xyz\"))\n",
        "print(\"---\",\"aaa\",detect_pattern(\"---\",\"aaa\"))\n",
        "print('xyzxyz','toetoe',detect_pattern('xyzxyz','toetoe'))\n",
        "print(\"xyzxyz\",\"toetoa\",detect_pattern(\"xyzxyz\",\"toetoa\"))\n",
        "print('aaabbbcccd','eeefffgggz',detect_pattern('aaabbbcccd','eeefffgggz'))\n",
        "print('cbacbacba','xyzxyzxyz',detect_pattern('cbacbacba','xyzxyzxyz'))\n",
        "print('abcdefghijk','lmnopqrstuv',detect_pattern('abcdefghijk','lmnopqrstuv'))\n",
        "print('asasasasas','xxxxxyyyyy',detect_pattern('asasasasas','xxxxxyyyyy'))\n",
        "print('ascneencsa','aeiouaeiou',detect_pattern('ascneencsa','aeiouaeiou'))\n",
        "print('aaasssiiii','gggdddfffh',detect_pattern('aaasssiiii','gggdddfffh'))\n"
      ],
      "execution_count": null,
      "outputs": []
    },
    {
      "cell_type": "markdown",
      "metadata": {
        "id": "FyL21hTxCdwp"
      },
      "source": [
        "# List of Lists (2D - List)\n",
        "In this coding question, you are asked to write the body of a function called find_max that takes a two- dimensional (2D) list as a parameter and returns the number of the row that sums to the greatest value.\n",
        "\n",
        "For example if you had the following list of lists:\n",
        "\n",
        "list = [[1, 2, 3], [2, 3, 3], [1, 3, 3]] \n",
        "The sum of the first row would be: 6\n",
        "The second: 8\n",
        "The third: 7\n",
        "The function find_max(list) would, therefore, return 1, i.e. the row number having the maximum sum. You can assume the passed-in list of lists has at least one row and one column."
      ]
    },
    {
      "cell_type": "code",
      "metadata": {
        "id": "r2K4SA7ZDMwy"
      },
      "source": [
        "def find_max(lis):\n",
        "  sums = [sum(lists) for lists in lis]\n",
        "  return sums.index(max(sums))\n",
        "\n",
        "lista = [[1, 2, 3], [2, 3, 3], [1, 3, 3]] \n",
        "find_max(lista)"
      ],
      "execution_count": null,
      "outputs": []
    },
    {
      "cell_type": "markdown",
      "metadata": {
        "id": "CKNpXEIqEjTb"
      },
      "source": [
        "# Remove Duplicates from the List\n",
        "In this coding exercise, you are asked to write the body of a function called remove_duplicates that takes a list of tuples and removes duplicates from the list, returning a set of the tuples from the list.\n",
        "For example, if a list called points contains the following values:\n",
        "\n",
        "points = [(1,3), (7,7), (1,3), (7,8), (1,3), (7,7), (7,8), (4, 2), (7, 8), (7, 8), (4, 2), (4, 2)] \n",
        "then the call remove_duplicates(points) should leave the list storing:\n",
        "\n",
        "[(1, 3), (7, 7), (7, 8), (4, 2)] \n",
        "and the set returned should store the same values.\n",
        "\n",
        "Note:\n",
        "\n",
        "Your function should preserve the order of values in the list (removing duplicates that come later in the list), but the values in the set can appear in any order.\n",
        "You may construct the set to be returned, but you are not allowed to construct other structured objects (no string, list, etc.)."
      ]
    },
    {
      "cell_type": "code",
      "metadata": {
        "id": "LazemoYkErWy"
      },
      "source": [
        "def remove_duplicates(lis):\n",
        "  b = set(lis)\n",
        "  return sorted(list(b),key=lis.index)\n",
        "\n",
        "points = [(1,3), (7,7), (1,3), (7,8), (1,3), (7,7), (7,8), (4, 2), (7, 8), (7, 8), (4, 2), (4, 2)] \n",
        "print(remove_duplicates(points))"
      ],
      "execution_count": null,
      "outputs": []
    },
    {
      "cell_type": "code",
      "metadata": {
        "id": "-5J9nj-suMGm"
      },
      "source": [
        "def remove_duplicates(lis):\n",
        "  b = set(lis)\n",
        "  return b\n",
        "\n",
        "points = [(1,3), (7,7), (1,3), (7,8), (1,3), (7,7), (7,8), (4, 2), (7, 8), (7, 8), (4, 2), (4, 2)] \n",
        "print(remove_duplicates(points))"
      ],
      "execution_count": null,
      "outputs": []
    },
    {
      "cell_type": "markdown",
      "metadata": {
        "id": "buPTdgRlF_rg"
      },
      "source": [
        "# Grade Stats Dictionary\n",
        "In this coding exercise, you are asked to write the body of a function called grade_stats that accepts as a parameter a list representing the grades given in a course and returns a dictionary mapping each grade to the count of how many were given.\n",
        "\n",
        "For example, if a list G contains the following:\n",
        "\n",
        "G = ['A', 'I', 'C', 'C', 'E', 'B', 'A', 'E', 'E', 'A', 'B', 'B', 'B'] \n",
        "The call of grade_stats(G) should return the following dictionary:\n",
        "\n",
        "{'A':3, 'I':1, 'C':2, 'E':3, 'B':4} \n",
        "Note:\n",
        "\n",
        "The grades may not always be A, B, C, D, E, and I. For example, A- is a valid grade in some places as is 3.7. You should treat whatever is in the passed-in list as a valid grade.\n",
        "If the passed-in list is empty, your function should return an empty dictionary."
      ]
    },
    {
      "cell_type": "code",
      "metadata": {
        "id": "v5ICXiEzM01z"
      },
      "source": [
        "def grade_stats(list_grades):\n",
        "  if not list_grades:\n",
        "    return dict()\n",
        "  return {grade:list_grades.count(grade) for grade in list_grades}\n",
        "\n",
        "print(grade_stats(['A', 'I', 'C', 'C', 'E', 'B', 'A', 'E', 'E', 'A', 'B', 'B', 'B']))"
      ],
      "execution_count": null,
      "outputs": []
    },
    {
      "cell_type": "markdown",
      "metadata": {
        "id": "PBRoMQIgGF5p"
      },
      "source": [
        "# Longest Sorted Sequence\n",
        "In this coding exercise, you are asked to write the body of a function named longest_sorted_sequence that accepts a list of integers as a parameter and returns the length of the longest sorted (nondecreasing) sequence of integers in the list.\n",
        "\n",
        "For example, if a variable named lis stores the following values:\n",
        "\n",
        "lis = [3, 8, 10, 1, 9, 14, -3, 0, 14, 207, 56, 98, 12] \n",
        "then the call of longest_sorted_sequence(lis) should return 4 because the longest sorted sequence in the list has four values in it (the sequence: -3, 0, 14, 207).\n",
        "\n",
        "Notice that sorted means nondecreasing, which means that the sequence could contain duplicates.\n",
        "\n",
        "For example, if the list stores the following values:\n",
        "\n",
        "lis2 = [17, 42, 3, 5, 5, 5, 8, 2, 4, 6, 1, 19] \n",
        "Then the method would return 5 for the length of the longest sequence (the sequence: 3, 5, 5, 5, 8).\n",
        "\n",
        "Note:\n",
        "\n",
        "Your method should return 0 if passed an empty list.\n",
        "Your method should return 1 if passed a list that is entirely in decreasing order or contains only one element."
      ]
    },
    {
      "cell_type": "code",
      "metadata": {
        "id": "NggYHO7-MFEf"
      },
      "source": [
        "def  longest_sorted_sequence(int_list):\n",
        "  if not int_list:\n",
        "    return 0\n",
        "  if len(int_list) == 1:\n",
        "    return 1\n",
        "  if int_list == sorted(int_list):\n",
        "    return 1\n",
        "  result = []\n",
        "  list_sort = []\n",
        "  for i in range(len(int_list)):\n",
        "    if i+1 == len(int_list):\n",
        "      break\n",
        "    if int_list[i] <= int_list[i+1]:\n",
        "      list_sort.append(int_list[i])\n",
        "    else:\n",
        "      list_sort.append(int_list[i])\n",
        "      result.append(list_sort)\n",
        "      list_sort = []\n",
        "  return max([len(x) for x in result])\n",
        "\n",
        "lis = [3, 8, 10, 1, 9, 14, -3, 0, 14, 207, 56, 98, 12]\n",
        "print(longest_sorted_sequence(lis))\n",
        "\n",
        "lis2 = [17, 42, 3, 5, 5, 5, 8, 2, 4, 6, 1, 19]\n",
        "print(longest_sorted_sequence(lis2))"
      ],
      "execution_count": null,
      "outputs": []
    },
    {
      "cell_type": "markdown",
      "metadata": {
        "id": "hWSrtEtk2SSo"
      },
      "source": [
        "#Desafio Microsoft Dê seus primeiros passos com o Python\n",
        "\n",
        "Neste desafio, você criará um contador de calorias que solicita ao usuário:\n",
        "\n",
        "A data atual (em qualquer formato)\n",
        "Calorias ingeridas no café da manhã\n",
        "Calorias ingeridas no almoço\n",
        "Calorias ingeridas no jantar\n",
        "Calorias ingeridas no lanche"
      ]
    },
    {
      "cell_type": "code",
      "metadata": {
        "id": "N1yCheJD2ZAT"
      },
      "source": [
        "today = input(\"Today's date?\\n\")\n",
        "breakfest = int(input(\"Breakfast calories?\\n\"))\n",
        "lunch =int(input('Lunch calories?\\n'))\n",
        "dinner = int(input('Dinner calories?\\n'))\n",
        "snack = int(input('Snack calories?\\n'))\n",
        "total = breakfest+lunch+dinner+snack\n",
        "print('Calorie content for',today,':', total)"
      ],
      "execution_count": null,
      "outputs": []
    },
    {
      "cell_type": "markdown",
      "metadata": {
        "id": "DAorBCrD788H"
      },
      "source": [
        "#Print it\n",
        "Using the sep and end keywords match the expected output:\n",
        "\n",
        "<p>Programming***Essentials***in...Python</p>"
      ]
    },
    {
      "cell_type": "code",
      "metadata": {
        "id": "NkrT97l978H8"
      },
      "source": [
        "print(\"Programming\",\"Essentials\",\"in\",sep='***',end='...')\n",
        "print(\"Python\")\n"
      ],
      "execution_count": null,
      "outputs": []
    },
    {
      "cell_type": "markdown",
      "metadata": {
        "id": "-q-XN9ot8_h7"
      },
      "source": [
        "#Arrow down\n"
      ]
    },
    {
      "cell_type": "code",
      "metadata": {
        "id": "9GwbPuY69DwR"
      },
      "source": [
        "print(\"    *\")\n",
        "print(\"   * *\")\n",
        "print(\"  *   *\")\n",
        "print(\" *     *\")\n",
        "print(\"***   ***\")\n",
        "print(\"  *   *\")\n",
        "print(\"  *   *\")\n",
        "print(\"  *****\")\n",
        "\n",
        "print('  *****\\n',\"  *   *\\n\",\"  *   *\\n\",\"***   ***\\n\",\" *     *\\n\",\"  *   *\\n\",\"   * *\\n\",\"    *\",sep='')\n",
        "\n",
        "arrow = '  *****\\n  *   *\\n  *   *\\n***   ***\\n *     *\\n  *   *\\n   * *\\n    *\\n'\n",
        "bigarrow = '    **********\\n    *        *\\n    *        *\\n    *        *\\n    *        *\\n*****        *****\\n *              * \\n  *            *  \\n   *          *   \\n    *        *   \\n     *      *   \\n      *    *   \\n       *  *    \\n        **     \\n'\n",
        "\n",
        "print(bigarrow)\n",
        "print(arrow*2)"
      ],
      "execution_count": null,
      "outputs": []
    },
    {
      "cell_type": "markdown",
      "metadata": {
        "id": "itnOEwrO1DDd"
      },
      "source": [
        "# Sistema de equações\n",
        "Solucionar sistema de equações\n",
        "a+2*b = 7\n",
        "3*a - 2*b = -11"
      ]
    },
    {
      "cell_type": "markdown",
      "metadata": {
        "id": "EC9HCjkX2LQF"
      },
      "source": [
        "Ax=c,\n",
        "A = [[1,2],[3.-2]]\n",
        "x = [a,b]\n",
        "c = [7,-11]\n",
        "Solução = x = (A**-1)*c"
      ]
    },
    {
      "cell_type": "code",
      "metadata": {
        "id": "MDsKS5xY1R7M"
      },
      "source": [
        "import numpy as np\n",
        "A = np.array([[1,2],[3,-2]])\n",
        "c = np.array([7,-11])\n",
        "x = np.linalg.inv(A) @ c\n",
        "print('a=',x[0],'b=',x[1])"
      ],
      "execution_count": null,
      "outputs": []
    },
    {
      "cell_type": "markdown",
      "metadata": {
        "id": "6yC_MsCDKPbD"
      },
      "source": [
        "# Selecionar linhas com pares\n",
        "Selecionar as linhas de x que possuam algum numero par."
      ]
    },
    {
      "cell_type": "code",
      "metadata": {
        "id": "cH8brGpPKO3s"
      },
      "source": [
        "import numpy as np\n",
        "\n",
        "x = np.array([[1,3,7],[4,11,21],[42,8,9]])\n",
        "\n",
        "cond = x % 2 == 0\n",
        "\n",
        "result = np.where(np.sum(cond,axis=1))[0]\n",
        "print(x[result,:],'\\n')"
      ],
      "execution_count": null,
      "outputs": []
    },
    {
      "cell_type": "markdown",
      "metadata": {
        "id": "dJg9onijWdpq"
      },
      "source": [
        "# Binary to decimal"
      ]
    },
    {
      "cell_type": "code",
      "metadata": {
        "id": "K6SHD0UfWbOQ"
      },
      "source": [
        "def bintodec(n):\n",
        "  return int(n,2)\n",
        "\n",
        "def dectobin(n):\n",
        "  return bin(int(n)).replace('0b','')\n",
        "\n",
        "print(bintodec('1011'))\n",
        "print(dectobin('11'))"
      ],
      "execution_count": null,
      "outputs": []
    },
    {
      "cell_type": "code",
      "metadata": {
        "id": "fEO9kcBOXHoE"
      },
      "source": [
        ""
      ],
      "execution_count": null,
      "outputs": []
    },
    {
      "cell_type": "markdown",
      "metadata": {
        "id": "kquhDIItYT7k"
      },
      "source": [
        "#Gravitational force\n",
        "Gravitational force is the attractive force that exists between two masses. It can be calculated by using the following formula:\n",
        "\n",
        "GMm/r²\n",
        "\n",
        "\n",
        "​​ \n",
        "where G is the gravitational constant, M and m are the two masses, and r is the distance between them."
      ]
    },
    {
      "cell_type": "code",
      "metadata": {
        "id": "HiJSdrlCYW1n"
      },
      "source": [
        "class Celestial_Body():\n",
        " def __init__ (self,mass):\n",
        "   self.mass = mass\n",
        "\n",
        "class Sun(Celestial_Body):\n",
        "  def __init__(self):    \n",
        "    self.mass = 1.989*10**30\n",
        "    self.nearsun = 0\n",
        "    self.distance = [0, 58*10**6 ,67*10**6, 149.6*10**6, 150*10**6,227.94*10**6,413*10**6,778*10**6,1.4*10**9,2.9*10**9, 4.5*10**9, 5.9*10**9,6.452*10**9,6.847*10**9,10.125*10**9]\n",
        "\n",
        "class Mercury(Celestial_Body):\n",
        " def __init__(self):\n",
        "   self.mass = 3.285*10**23\n",
        "   self.nearsun = 1\n",
        "\n",
        "class Venus(Celestial_Body):\n",
        "  def __init__(self):\n",
        "    self.mass = 4.867*10**24\n",
        "    self.nearsun = 2\n",
        "\n",
        "class Earth(Celestial_Body):\n",
        " def __init__(self):\n",
        "   self.mass = 5.972*10**24\n",
        "   self.nearsun = 3\n",
        "\n",
        "class Moon(Celestial_Body):\n",
        "  def __init__(self):    \n",
        "    self.mass = 7.34767309*10**22\n",
        "    self.nearsun = 4\n",
        "\n",
        "class Mars(Celestial_Body):\n",
        "  def __init__(self):    \n",
        "    self.mass = 6.39*10**23\n",
        "    self.nearsun = 5\n",
        "\n",
        "class Ceres(Celestial_Body):\n",
        "  def __init__(self):    \n",
        "    self.mass = 8.958*10**20\n",
        "    self.nearsun = 6\n",
        "\n",
        "class Jupiter(Celestial_Body):\n",
        "  def __init__(self):    \n",
        "    self.mass = 1.898*10**27\n",
        "    self.nearsun = 7\n",
        "\n",
        "class Saturn(Celestial_Body):\n",
        "  def __init__(self):    \n",
        "    self.mass = 5.683*10**26\n",
        "    self.nearsun = 8\n",
        "\n",
        "class Uranus(Celestial_Body):\n",
        "  def __init__(self):    \n",
        "    self.mass = 8.681*10**25\n",
        "    self.nearsun = 9\n",
        "\n",
        "class Neptune(Celestial_Body):\n",
        "  def __init__(self):    \n",
        "    self.mass = 1.024*10**26\n",
        "    self.nearsun = 10\n",
        "\n",
        "class Pluto(Celestial_Body):\n",
        "  def __init__(self):    \n",
        "    self.mass = 1.30900*10**22\n",
        "    self.nearsun = 11\n",
        "\n",
        "class Haumea(Celestial_Body):\n",
        "  def __init__(self):    \n",
        "    self.mass = 4.2*10**21\n",
        "    self.nearsun = 12\n",
        "\n",
        "class Makemake(Celestial_Body):\n",
        "  def __init__(self):    \n",
        "    self.mass =  3*10**21\n",
        "    self.nearsun = 13\n",
        "\n",
        "class Eris(Celestial_Body):\n",
        "  def __init__(self):    \n",
        "    self.mass = 1.66*10**22\n",
        "    self.nearsun = 14"
      ],
      "execution_count": null,
      "outputs": []
    },
    {
      "cell_type": "code",
      "metadata": {
        "id": "k04fboL0YcY9"
      },
      "source": [
        "def distanceBetween(Celestial_BodyA,Celestial_BodyB):\n",
        "  sun = Sun()\n",
        "  return abs(sun.distance[Celestial_BodyA.nearsun] - sun.distance[Celestial_BodyB.nearsun])\n",
        "\n",
        "def gravForce(Celestial_BodyA,Celestial_BodyB):\n",
        "  G = 6.67*10\n",
        "  M = Celestial_BodyA.mass\n",
        "  m = Celestial_BodyB.mass\n",
        "  r = distanceBetween(Celestial_BodyA,Celestial_BodyB)\n",
        "  return (G*M*m)/(r**2)"
      ],
      "execution_count": null,
      "outputs": []
    },
    {
      "cell_type": "code",
      "metadata": {
        "id": "xIBHLwVbYg89"
      },
      "source": [
        "def main():\n",
        "  earth = Earth()\n",
        "  moon = Moon()\n",
        "\n",
        "  print('Earth mass',earth.mass)\n",
        "  print('Moon mass',moon.mass)\n",
        "  print('Distance between Earth and Moon',distanceBetween(earth,moon))\n",
        "  print('Gravitational force between Earth and the moon',gravForce(earth,moon))\n",
        "\n",
        "if __name__ == '__main__':\n",
        "  main()"
      ],
      "execution_count": null,
      "outputs": []
    },
    {
      "cell_type": "markdown",
      "metadata": {
        "id": "aNmSWGkPrhnR"
      },
      "source": [
        "#Bike Sharing\n",
        "a. Qual o tamanho desse dataset?<br>\n",
        "b. Qual a média da coluna windspeed?<br>\n",
        "c. Qual a média da coluna temp?<br>\n",
        "d. Quantos registros existem para o ano de 2011?<br>\n",
        "e. Quantos registros existem para o ano de 2012?<br>\n",
        "f. Quantas locações de bicicletas foram efetuadas em 2011?<br>\n",
        "g. Quantas locações de bicicletas foram efetuadas em 2012?<br>\n",
        "h. Qual estação do ano contém a maior média de locações de bicicletas?<br>\n",
        "i. Qual estação do ano contém a menor média de locações de bicicletas?<br>\n",
        "j. Qual horário do dia contém a maior média de locações de bicicletas?<br>\n",
        "k. Qual horário do dia contém a menor média de locações de bicicletas?<br>\n",
        "l. Que dia da semana contém a maior média de locações de bicicletas?<br>\n",
        "m. Que dia da semana contém a menor média de locações de bicicletas?<br>\n",
        "n. Às quartas-feiras (weekday = 3), qual o horário do dia contém a maior média de locações de bicicletas?<br>\n",
        "o. Aos sábados (weekday = 6), qual o horário do dia contém a maior média de\n",
        "locações de bicicletas?<br>"
      ]
    },
    {
      "cell_type": "code",
      "metadata": {
        "id": "Tn6GNdazrz72"
      },
      "source": [
        "import numpy as np\n",
        "import pandas as pd"
      ],
      "execution_count": null,
      "outputs": []
    },
    {
      "cell_type": "code",
      "metadata": {
        "id": "aAzepNyar6YI"
      },
      "source": [
        "df = pd.read_csv(\"https://pycourse.s3.amazonaws.com/bike-sharing.csv\")"
      ],
      "execution_count": null,
      "outputs": []
    },
    {
      "cell_type": "code",
      "metadata": {
        "id": "TPFvKQv-sSDG",
        "outputId": "42acc99e-a903-433a-bc43-b7fa401a8e2a",
        "colab": {
          "base_uri": "https://localhost:8080/",
          "height": 197
        }
      },
      "source": [
        "df.head(5)"
      ],
      "execution_count": null,
      "outputs": [
        {
          "output_type": "execute_result",
          "data": {
            "text/html": [
              "<div>\n",
              "<style scoped>\n",
              "    .dataframe tbody tr th:only-of-type {\n",
              "        vertical-align: middle;\n",
              "    }\n",
              "\n",
              "    .dataframe tbody tr th {\n",
              "        vertical-align: top;\n",
              "    }\n",
              "\n",
              "    .dataframe thead th {\n",
              "        text-align: right;\n",
              "    }\n",
              "</style>\n",
              "<table border=\"1\" class=\"dataframe\">\n",
              "  <thead>\n",
              "    <tr style=\"text-align: right;\">\n",
              "      <th></th>\n",
              "      <th>datetime</th>\n",
              "      <th>rec_id</th>\n",
              "      <th>season</th>\n",
              "      <th>year</th>\n",
              "      <th>month</th>\n",
              "      <th>hour</th>\n",
              "      <th>is_holiday</th>\n",
              "      <th>weekday</th>\n",
              "      <th>is_workingday</th>\n",
              "      <th>weather_condition</th>\n",
              "      <th>temp</th>\n",
              "      <th>atemp</th>\n",
              "      <th>humidity</th>\n",
              "      <th>windspeed</th>\n",
              "      <th>casual</th>\n",
              "      <th>registered</th>\n",
              "      <th>total_count</th>\n",
              "    </tr>\n",
              "  </thead>\n",
              "  <tbody>\n",
              "    <tr>\n",
              "      <th>0</th>\n",
              "      <td>2011-01-01</td>\n",
              "      <td>1</td>\n",
              "      <td>1</td>\n",
              "      <td>0</td>\n",
              "      <td>1</td>\n",
              "      <td>0</td>\n",
              "      <td>0</td>\n",
              "      <td>6</td>\n",
              "      <td>0</td>\n",
              "      <td>1</td>\n",
              "      <td>0.24</td>\n",
              "      <td>0.2879</td>\n",
              "      <td>0.81</td>\n",
              "      <td>0.0</td>\n",
              "      <td>3</td>\n",
              "      <td>13</td>\n",
              "      <td>16</td>\n",
              "    </tr>\n",
              "    <tr>\n",
              "      <th>1</th>\n",
              "      <td>2011-01-01</td>\n",
              "      <td>2</td>\n",
              "      <td>1</td>\n",
              "      <td>0</td>\n",
              "      <td>1</td>\n",
              "      <td>1</td>\n",
              "      <td>0</td>\n",
              "      <td>6</td>\n",
              "      <td>0</td>\n",
              "      <td>1</td>\n",
              "      <td>0.22</td>\n",
              "      <td>0.2727</td>\n",
              "      <td>0.80</td>\n",
              "      <td>0.0</td>\n",
              "      <td>8</td>\n",
              "      <td>32</td>\n",
              "      <td>40</td>\n",
              "    </tr>\n",
              "    <tr>\n",
              "      <th>2</th>\n",
              "      <td>2011-01-01</td>\n",
              "      <td>3</td>\n",
              "      <td>1</td>\n",
              "      <td>0</td>\n",
              "      <td>1</td>\n",
              "      <td>2</td>\n",
              "      <td>0</td>\n",
              "      <td>6</td>\n",
              "      <td>0</td>\n",
              "      <td>1</td>\n",
              "      <td>0.22</td>\n",
              "      <td>0.2727</td>\n",
              "      <td>0.80</td>\n",
              "      <td>0.0</td>\n",
              "      <td>5</td>\n",
              "      <td>27</td>\n",
              "      <td>32</td>\n",
              "    </tr>\n",
              "    <tr>\n",
              "      <th>3</th>\n",
              "      <td>2011-01-01</td>\n",
              "      <td>4</td>\n",
              "      <td>1</td>\n",
              "      <td>0</td>\n",
              "      <td>1</td>\n",
              "      <td>3</td>\n",
              "      <td>0</td>\n",
              "      <td>6</td>\n",
              "      <td>0</td>\n",
              "      <td>1</td>\n",
              "      <td>0.24</td>\n",
              "      <td>0.2879</td>\n",
              "      <td>0.75</td>\n",
              "      <td>0.0</td>\n",
              "      <td>3</td>\n",
              "      <td>10</td>\n",
              "      <td>13</td>\n",
              "    </tr>\n",
              "    <tr>\n",
              "      <th>4</th>\n",
              "      <td>2011-01-01</td>\n",
              "      <td>5</td>\n",
              "      <td>1</td>\n",
              "      <td>0</td>\n",
              "      <td>1</td>\n",
              "      <td>4</td>\n",
              "      <td>0</td>\n",
              "      <td>6</td>\n",
              "      <td>0</td>\n",
              "      <td>1</td>\n",
              "      <td>0.24</td>\n",
              "      <td>0.2879</td>\n",
              "      <td>0.75</td>\n",
              "      <td>0.0</td>\n",
              "      <td>0</td>\n",
              "      <td>1</td>\n",
              "      <td>1</td>\n",
              "    </tr>\n",
              "  </tbody>\n",
              "</table>\n",
              "</div>"
            ],
            "text/plain": [
              "     datetime  rec_id  season  year  ...  windspeed  casual  registered  total_count\n",
              "0  2011-01-01       1       1     0  ...        0.0       3          13           16\n",
              "1  2011-01-01       2       1     0  ...        0.0       8          32           40\n",
              "2  2011-01-01       3       1     0  ...        0.0       5          27           32\n",
              "3  2011-01-01       4       1     0  ...        0.0       3          10           13\n",
              "4  2011-01-01       5       1     0  ...        0.0       0           1            1\n",
              "\n",
              "[5 rows x 17 columns]"
            ]
          },
          "metadata": {
            "tags": []
          },
          "execution_count": 3
        }
      ]
    },
    {
      "cell_type": "code",
      "metadata": {
        "id": "iqNwPu1CstJu",
        "outputId": "e4d66081-0f5e-4e14-d309-33824ec372a1",
        "colab": {
          "base_uri": "https://localhost:8080/",
          "height": 336
        }
      },
      "source": [
        "df.dtypes"
      ],
      "execution_count": null,
      "outputs": [
        {
          "output_type": "execute_result",
          "data": {
            "text/plain": [
              "datetime              object\n",
              "rec_id                 int64\n",
              "season                 int64\n",
              "year                   int64\n",
              "month                  int64\n",
              "hour                   int64\n",
              "is_holiday             int64\n",
              "weekday                int64\n",
              "is_workingday          int64\n",
              "weather_condition      int64\n",
              "temp                 float64\n",
              "atemp                float64\n",
              "humidity             float64\n",
              "windspeed            float64\n",
              "casual                 int64\n",
              "registered             int64\n",
              "total_count            int64\n",
              "dtype: object"
            ]
          },
          "metadata": {
            "tags": []
          },
          "execution_count": 4
        }
      ]
    },
    {
      "cell_type": "code",
      "metadata": {
        "id": "u2qlQ2d_tCKw"
      },
      "source": [
        "df['datetime'] = pd.to_datetime(df['datetime'])"
      ],
      "execution_count": null,
      "outputs": []
    },
    {
      "cell_type": "code",
      "metadata": {
        "id": "c1b57jNXtbfU"
      },
      "source": [
        "df = df.set_index('rec_id')"
      ],
      "execution_count": null,
      "outputs": []
    },
    {
      "cell_type": "code",
      "metadata": {
        "id": "63QMC7vSxK0W",
        "outputId": "25d3af02-b150-48ce-8b2e-04069ec32884",
        "colab": {
          "base_uri": "https://localhost:8080/",
          "height": 307
        }
      },
      "source": [
        "df.describe()"
      ],
      "execution_count": null,
      "outputs": [
        {
          "output_type": "execute_result",
          "data": {
            "text/html": [
              "<div>\n",
              "<style scoped>\n",
              "    .dataframe tbody tr th:only-of-type {\n",
              "        vertical-align: middle;\n",
              "    }\n",
              "\n",
              "    .dataframe tbody tr th {\n",
              "        vertical-align: top;\n",
              "    }\n",
              "\n",
              "    .dataframe thead th {\n",
              "        text-align: right;\n",
              "    }\n",
              "</style>\n",
              "<table border=\"1\" class=\"dataframe\">\n",
              "  <thead>\n",
              "    <tr style=\"text-align: right;\">\n",
              "      <th></th>\n",
              "      <th>season</th>\n",
              "      <th>year</th>\n",
              "      <th>month</th>\n",
              "      <th>hour</th>\n",
              "      <th>is_holiday</th>\n",
              "      <th>weekday</th>\n",
              "      <th>is_workingday</th>\n",
              "      <th>weather_condition</th>\n",
              "      <th>temp</th>\n",
              "      <th>atemp</th>\n",
              "      <th>humidity</th>\n",
              "      <th>windspeed</th>\n",
              "      <th>casual</th>\n",
              "      <th>registered</th>\n",
              "      <th>total_count</th>\n",
              "    </tr>\n",
              "  </thead>\n",
              "  <tbody>\n",
              "    <tr>\n",
              "      <th>count</th>\n",
              "      <td>17379.000000</td>\n",
              "      <td>17379.000000</td>\n",
              "      <td>17379.000000</td>\n",
              "      <td>17379.000000</td>\n",
              "      <td>17379.000000</td>\n",
              "      <td>17379.000000</td>\n",
              "      <td>17379.000000</td>\n",
              "      <td>17379.000000</td>\n",
              "      <td>17379.000000</td>\n",
              "      <td>17379.000000</td>\n",
              "      <td>17379.000000</td>\n",
              "      <td>17379.000000</td>\n",
              "      <td>17379.000000</td>\n",
              "      <td>17379.000000</td>\n",
              "      <td>17379.000000</td>\n",
              "    </tr>\n",
              "    <tr>\n",
              "      <th>mean</th>\n",
              "      <td>2.501640</td>\n",
              "      <td>0.502561</td>\n",
              "      <td>6.537775</td>\n",
              "      <td>11.546752</td>\n",
              "      <td>0.028770</td>\n",
              "      <td>3.003683</td>\n",
              "      <td>0.682721</td>\n",
              "      <td>1.425283</td>\n",
              "      <td>0.496987</td>\n",
              "      <td>0.475775</td>\n",
              "      <td>0.627229</td>\n",
              "      <td>0.190098</td>\n",
              "      <td>35.676218</td>\n",
              "      <td>153.786869</td>\n",
              "      <td>189.463088</td>\n",
              "    </tr>\n",
              "    <tr>\n",
              "      <th>std</th>\n",
              "      <td>1.106918</td>\n",
              "      <td>0.500008</td>\n",
              "      <td>3.438776</td>\n",
              "      <td>6.914405</td>\n",
              "      <td>0.167165</td>\n",
              "      <td>2.005771</td>\n",
              "      <td>0.465431</td>\n",
              "      <td>0.639357</td>\n",
              "      <td>0.192556</td>\n",
              "      <td>0.171850</td>\n",
              "      <td>0.192930</td>\n",
              "      <td>0.122340</td>\n",
              "      <td>49.305030</td>\n",
              "      <td>151.357286</td>\n",
              "      <td>181.387599</td>\n",
              "    </tr>\n",
              "    <tr>\n",
              "      <th>min</th>\n",
              "      <td>1.000000</td>\n",
              "      <td>0.000000</td>\n",
              "      <td>1.000000</td>\n",
              "      <td>0.000000</td>\n",
              "      <td>0.000000</td>\n",
              "      <td>0.000000</td>\n",
              "      <td>0.000000</td>\n",
              "      <td>1.000000</td>\n",
              "      <td>0.020000</td>\n",
              "      <td>0.000000</td>\n",
              "      <td>0.000000</td>\n",
              "      <td>0.000000</td>\n",
              "      <td>0.000000</td>\n",
              "      <td>0.000000</td>\n",
              "      <td>1.000000</td>\n",
              "    </tr>\n",
              "    <tr>\n",
              "      <th>25%</th>\n",
              "      <td>2.000000</td>\n",
              "      <td>0.000000</td>\n",
              "      <td>4.000000</td>\n",
              "      <td>6.000000</td>\n",
              "      <td>0.000000</td>\n",
              "      <td>1.000000</td>\n",
              "      <td>0.000000</td>\n",
              "      <td>1.000000</td>\n",
              "      <td>0.340000</td>\n",
              "      <td>0.333300</td>\n",
              "      <td>0.480000</td>\n",
              "      <td>0.104500</td>\n",
              "      <td>4.000000</td>\n",
              "      <td>34.000000</td>\n",
              "      <td>40.000000</td>\n",
              "    </tr>\n",
              "    <tr>\n",
              "      <th>50%</th>\n",
              "      <td>3.000000</td>\n",
              "      <td>1.000000</td>\n",
              "      <td>7.000000</td>\n",
              "      <td>12.000000</td>\n",
              "      <td>0.000000</td>\n",
              "      <td>3.000000</td>\n",
              "      <td>1.000000</td>\n",
              "      <td>1.000000</td>\n",
              "      <td>0.500000</td>\n",
              "      <td>0.484800</td>\n",
              "      <td>0.630000</td>\n",
              "      <td>0.194000</td>\n",
              "      <td>17.000000</td>\n",
              "      <td>115.000000</td>\n",
              "      <td>142.000000</td>\n",
              "    </tr>\n",
              "    <tr>\n",
              "      <th>75%</th>\n",
              "      <td>3.000000</td>\n",
              "      <td>1.000000</td>\n",
              "      <td>10.000000</td>\n",
              "      <td>18.000000</td>\n",
              "      <td>0.000000</td>\n",
              "      <td>5.000000</td>\n",
              "      <td>1.000000</td>\n",
              "      <td>2.000000</td>\n",
              "      <td>0.660000</td>\n",
              "      <td>0.621200</td>\n",
              "      <td>0.780000</td>\n",
              "      <td>0.253700</td>\n",
              "      <td>48.000000</td>\n",
              "      <td>220.000000</td>\n",
              "      <td>281.000000</td>\n",
              "    </tr>\n",
              "    <tr>\n",
              "      <th>max</th>\n",
              "      <td>4.000000</td>\n",
              "      <td>1.000000</td>\n",
              "      <td>12.000000</td>\n",
              "      <td>23.000000</td>\n",
              "      <td>1.000000</td>\n",
              "      <td>6.000000</td>\n",
              "      <td>1.000000</td>\n",
              "      <td>4.000000</td>\n",
              "      <td>1.000000</td>\n",
              "      <td>1.000000</td>\n",
              "      <td>1.000000</td>\n",
              "      <td>0.850700</td>\n",
              "      <td>367.000000</td>\n",
              "      <td>886.000000</td>\n",
              "      <td>977.000000</td>\n",
              "    </tr>\n",
              "  </tbody>\n",
              "</table>\n",
              "</div>"
            ],
            "text/plain": [
              "             season          year  ...    registered   total_count\n",
              "count  17379.000000  17379.000000  ...  17379.000000  17379.000000\n",
              "mean       2.501640      0.502561  ...    153.786869    189.463088\n",
              "std        1.106918      0.500008  ...    151.357286    181.387599\n",
              "min        1.000000      0.000000  ...      0.000000      1.000000\n",
              "25%        2.000000      0.000000  ...     34.000000     40.000000\n",
              "50%        3.000000      1.000000  ...    115.000000    142.000000\n",
              "75%        3.000000      1.000000  ...    220.000000    281.000000\n",
              "max        4.000000      1.000000  ...    886.000000    977.000000\n",
              "\n",
              "[8 rows x 15 columns]"
            ]
          },
          "metadata": {
            "tags": []
          },
          "execution_count": 7
        }
      ]
    },
    {
      "cell_type": "markdown",
      "metadata": {
        "id": "Y-TPeKYXxWIc"
      },
      "source": [
        "a. Qual o tamanho desse dataset?\n",
        "17379\n",
        "<br>\n",
        "b. Qual a média da coluna windspeed?\n",
        "0.190098 = 12.736566 Km/H\n",
        "<br>\n",
        "c. Qual a média da coluna temp?\n",
        "0.496987 = 15.358388999999997 °C\n",
        "<br>"
      ]
    },
    {
      "cell_type": "code",
      "metadata": {
        "id": "_adpztM0z-Bn",
        "outputId": "d0cc7fc3-1ae6-4447-a77d-79ba2b7a9cac",
        "colab": {
          "base_uri": "https://localhost:8080/",
          "height": 34
        }
      },
      "source": [
        "def windspeedreal(winds):\n",
        "  try:\n",
        "    fwinds = float(winds)\n",
        "    if fwinds > 67. or fwinds < 0.:\n",
        "      raise Exception('Invalid Input, must be an float number between 0. and 67.')\n",
        "    return winds * 67\n",
        "  except Exception as error:\n",
        "    print('Error:',error)\n",
        "\n",
        "print(windspeedreal(0.190098))"
      ],
      "execution_count": null,
      "outputs": [
        {
          "output_type": "stream",
          "text": [
            "12.736566\n"
          ],
          "name": "stdout"
        }
      ]
    },
    {
      "cell_type": "code",
      "metadata": {
        "id": "pPSqP_LxFWJF",
        "outputId": "5aeb74bb-cfbe-41cc-cbff-049660897399",
        "colab": {
          "base_uri": "https://localhost:8080/",
          "height": 352
        }
      },
      "source": [
        "import matplotlib.pyplot as plt\n",
        "\n",
        "x = [0,1]\n",
        "y = [-8,39]\n",
        "plt.figure(figsize=(5,5))\n",
        "plt.plot(x,y,'o',label='dados originais')\n",
        "x= np.array(x).reshape(-1,1)\n",
        "y=np.array(y).reshape(-1,1)\n",
        "X = np.hstack((x,np.ones(x.shape)))\n",
        "beta = np.linalg.pinv(X).dot(y)\n",
        "plt.plot(x,X.dot(beta),label='regressão linear')\n",
        "plt.legend()\n",
        "plt.xlabel('x')\n",
        "plt.ylabel('y')\n",
        "plt.grid()\n",
        "plt.show()\n",
        "a = beta[0][0]\n",
        "b = beta[1][0]\n",
        "\n",
        "def tempreal(temp):\n",
        "  try:\n",
        "    ftemp = float(temp)\n",
        "    if ftemp > 39. or ftemp < -8.:\n",
        "      raise Exception('Invalid Input, must be an float number between -8. and 39.')\n",
        "    return a * ftemp + b\n",
        "  except Exception as error:\n",
        "    print('Error:',error)\n",
        "\n",
        "print(tempreal(0.496987))\n",
        "  "
      ],
      "execution_count": null,
      "outputs": [
        {
          "output_type": "display_data",
          "data": {
            "image/png": "[encoded data removed]",
            "text/plain": [
              "<Figure size 360x360 with 1 Axes>"
            ]
          },
          "metadata": {
            "tags": [],
            "needs_background": "light"
          }
        },
        {
          "output_type": "stream",
          "text": [
            "15.358388999999997\n"
          ],
          "name": "stdout"
        }
      ]
    },
    {
      "cell_type": "markdown",
      "metadata": {
        "id": "tDTzXvBduh97"
      },
      "source": [
        "d. Quantos registros existem para o ano de 2011?\n",
        "8645"
      ]
    },
    {
      "cell_type": "code",
      "metadata": {
        "id": "NbJYZxN1ui69",
        "outputId": "b21dd4bf-c146-4cf5-92ea-714d757744fe",
        "colab": {
          "base_uri": "https://localhost:8080/",
          "height": 287
        }
      },
      "source": [
        "df[df['year']==0].describe()"
      ],
      "execution_count": null,
      "outputs": [
        {
          "output_type": "execute_result",
          "data": {
            "text/html": [
              "<div>\n",
              "<style scoped>\n",
              "    .dataframe tbody tr th:only-of-type {\n",
              "        vertical-align: middle;\n",
              "    }\n",
              "\n",
              "    .dataframe tbody tr th {\n",
              "        vertical-align: top;\n",
              "    }\n",
              "\n",
              "    .dataframe thead th {\n",
              "        text-align: right;\n",
              "    }\n",
              "</style>\n",
              "<table border=\"1\" class=\"dataframe\">\n",
              "  <thead>\n",
              "    <tr style=\"text-align: right;\">\n",
              "      <th></th>\n",
              "      <th>season</th>\n",
              "      <th>year</th>\n",
              "      <th>month</th>\n",
              "      <th>hour</th>\n",
              "      <th>is_holiday</th>\n",
              "      <th>weekday</th>\n",
              "      <th>is_workingday</th>\n",
              "      <th>weather_condition</th>\n",
              "      <th>temp</th>\n",
              "      <th>atemp</th>\n",
              "      <th>humidity</th>\n",
              "      <th>windspeed</th>\n",
              "      <th>casual</th>\n",
              "      <th>registered</th>\n",
              "      <th>total_count</th>\n",
              "    </tr>\n",
              "  </thead>\n",
              "  <tbody>\n",
              "    <tr>\n",
              "      <th>count</th>\n",
              "      <td>8645.000000</td>\n",
              "      <td>8645.0</td>\n",
              "      <td>8645.000000</td>\n",
              "      <td>8645.000000</td>\n",
              "      <td>8645.000000</td>\n",
              "      <td>8645.000000</td>\n",
              "      <td>8645.000000</td>\n",
              "      <td>8645.000000</td>\n",
              "      <td>8645.000000</td>\n",
              "      <td>8645.00000</td>\n",
              "      <td>8645.000000</td>\n",
              "      <td>8645.000000</td>\n",
              "      <td>8645.000000</td>\n",
              "      <td>8645.000000</td>\n",
              "      <td>8645.000000</td>\n",
              "    </tr>\n",
              "    <tr>\n",
              "      <th>mean</th>\n",
              "      <td>2.513592</td>\n",
              "      <td>0.0</td>\n",
              "      <td>6.573973</td>\n",
              "      <td>11.573626</td>\n",
              "      <td>0.027646</td>\n",
              "      <td>3.012724</td>\n",
              "      <td>0.683748</td>\n",
              "      <td>1.437594</td>\n",
              "      <td>0.489069</td>\n",
              "      <td>0.46900</td>\n",
              "      <td>0.643430</td>\n",
              "      <td>0.191172</td>\n",
              "      <td>28.600578</td>\n",
              "      <td>115.193869</td>\n",
              "      <td>143.794448</td>\n",
              "    </tr>\n",
              "    <tr>\n",
              "      <th>std</th>\n",
              "      <td>1.105477</td>\n",
              "      <td>0.0</td>\n",
              "      <td>3.428147</td>\n",
              "      <td>6.907822</td>\n",
              "      <td>0.163966</td>\n",
              "      <td>2.006370</td>\n",
              "      <td>0.465040</td>\n",
              "      <td>0.653859</td>\n",
              "      <td>0.197943</td>\n",
              "      <td>0.17676</td>\n",
              "      <td>0.196293</td>\n",
              "      <td>0.123191</td>\n",
              "      <td>38.840789</td>\n",
              "      <td>109.461014</td>\n",
              "      <td>133.797854</td>\n",
              "    </tr>\n",
              "    <tr>\n",
              "      <th>min</th>\n",
              "      <td>1.000000</td>\n",
              "      <td>0.0</td>\n",
              "      <td>1.000000</td>\n",
              "      <td>0.000000</td>\n",
              "      <td>0.000000</td>\n",
              "      <td>0.000000</td>\n",
              "      <td>0.000000</td>\n",
              "      <td>1.000000</td>\n",
              "      <td>0.020000</td>\n",
              "      <td>0.00000</td>\n",
              "      <td>0.000000</td>\n",
              "      <td>0.000000</td>\n",
              "      <td>0.000000</td>\n",
              "      <td>0.000000</td>\n",
              "      <td>1.000000</td>\n",
              "    </tr>\n",
              "    <tr>\n",
              "      <th>25%</th>\n",
              "      <td>2.000000</td>\n",
              "      <td>0.0</td>\n",
              "      <td>4.000000</td>\n",
              "      <td>6.000000</td>\n",
              "      <td>0.000000</td>\n",
              "      <td>1.000000</td>\n",
              "      <td>0.000000</td>\n",
              "      <td>1.000000</td>\n",
              "      <td>0.320000</td>\n",
              "      <td>0.31820</td>\n",
              "      <td>0.490000</td>\n",
              "      <td>0.104500</td>\n",
              "      <td>3.000000</td>\n",
              "      <td>26.000000</td>\n",
              "      <td>31.000000</td>\n",
              "    </tr>\n",
              "    <tr>\n",
              "      <th>50%</th>\n",
              "      <td>3.000000</td>\n",
              "      <td>0.0</td>\n",
              "      <td>7.000000</td>\n",
              "      <td>12.000000</td>\n",
              "      <td>0.000000</td>\n",
              "      <td>3.000000</td>\n",
              "      <td>1.000000</td>\n",
              "      <td>1.000000</td>\n",
              "      <td>0.500000</td>\n",
              "      <td>0.48480</td>\n",
              "      <td>0.650000</td>\n",
              "      <td>0.194000</td>\n",
              "      <td>14.000000</td>\n",
              "      <td>90.000000</td>\n",
              "      <td>109.000000</td>\n",
              "    </tr>\n",
              "    <tr>\n",
              "      <th>75%</th>\n",
              "      <td>3.000000</td>\n",
              "      <td>0.0</td>\n",
              "      <td>10.000000</td>\n",
              "      <td>18.000000</td>\n",
              "      <td>0.000000</td>\n",
              "      <td>5.000000</td>\n",
              "      <td>1.000000</td>\n",
              "      <td>2.000000</td>\n",
              "      <td>0.660000</td>\n",
              "      <td>0.62120</td>\n",
              "      <td>0.810000</td>\n",
              "      <td>0.283600</td>\n",
              "      <td>38.000000</td>\n",
              "      <td>168.000000</td>\n",
              "      <td>211.000000</td>\n",
              "    </tr>\n",
              "    <tr>\n",
              "      <th>max</th>\n",
              "      <td>4.000000</td>\n",
              "      <td>0.0</td>\n",
              "      <td>12.000000</td>\n",
              "      <td>23.000000</td>\n",
              "      <td>1.000000</td>\n",
              "      <td>6.000000</td>\n",
              "      <td>1.000000</td>\n",
              "      <td>4.000000</td>\n",
              "      <td>0.960000</td>\n",
              "      <td>1.00000</td>\n",
              "      <td>1.000000</td>\n",
              "      <td>0.850700</td>\n",
              "      <td>272.000000</td>\n",
              "      <td>567.000000</td>\n",
              "      <td>651.000000</td>\n",
              "    </tr>\n",
              "  </tbody>\n",
              "</table>\n",
              "</div>"
            ],
            "text/plain": [
              "            season    year        month  ...       casual   registered  total_count\n",
              "count  8645.000000  8645.0  8645.000000  ...  8645.000000  8645.000000  8645.000000\n",
              "mean      2.513592     0.0     6.573973  ...    28.600578   115.193869   143.794448\n",
              "std       1.105477     0.0     3.428147  ...    38.840789   109.461014   133.797854\n",
              "min       1.000000     0.0     1.000000  ...     0.000000     0.000000     1.000000\n",
              "25%       2.000000     0.0     4.000000  ...     3.000000    26.000000    31.000000\n",
              "50%       3.000000     0.0     7.000000  ...    14.000000    90.000000   109.000000\n",
              "75%       3.000000     0.0    10.000000  ...    38.000000   168.000000   211.000000\n",
              "max       4.000000     0.0    12.000000  ...   272.000000   567.000000   651.000000\n",
              "\n",
              "[8 rows x 15 columns]"
            ]
          },
          "metadata": {
            "tags": []
          },
          "execution_count": 10
        }
      ]
    },
    {
      "cell_type": "markdown",
      "metadata": {
        "id": "EIH8xRs_xN5J"
      },
      "source": [
        "e. Quantos registros existem para o ano de 2012? 8734"
      ]
    },
    {
      "cell_type": "code",
      "metadata": {
        "id": "pxGaz4j5xP2n",
        "outputId": "0b2784b4-82cf-45ee-8ab3-1af5bd403eac",
        "colab": {
          "base_uri": "https://localhost:8080/",
          "height": 287
        }
      },
      "source": [
        "df[df['year']==1].describe()"
      ],
      "execution_count": null,
      "outputs": [
        {
          "output_type": "execute_result",
          "data": {
            "text/html": [
              "<div>\n",
              "<style scoped>\n",
              "    .dataframe tbody tr th:only-of-type {\n",
              "        vertical-align: middle;\n",
              "    }\n",
              "\n",
              "    .dataframe tbody tr th {\n",
              "        vertical-align: top;\n",
              "    }\n",
              "\n",
              "    .dataframe thead th {\n",
              "        text-align: right;\n",
              "    }\n",
              "</style>\n",
              "<table border=\"1\" class=\"dataframe\">\n",
              "  <thead>\n",
              "    <tr style=\"text-align: right;\">\n",
              "      <th></th>\n",
              "      <th>season</th>\n",
              "      <th>year</th>\n",
              "      <th>month</th>\n",
              "      <th>hour</th>\n",
              "      <th>is_holiday</th>\n",
              "      <th>weekday</th>\n",
              "      <th>is_workingday</th>\n",
              "      <th>weather_condition</th>\n",
              "      <th>temp</th>\n",
              "      <th>atemp</th>\n",
              "      <th>humidity</th>\n",
              "      <th>windspeed</th>\n",
              "      <th>casual</th>\n",
              "      <th>registered</th>\n",
              "      <th>total_count</th>\n",
              "    </tr>\n",
              "  </thead>\n",
              "  <tbody>\n",
              "    <tr>\n",
              "      <th>count</th>\n",
              "      <td>8734.000000</td>\n",
              "      <td>8734.0</td>\n",
              "      <td>8734.000000</td>\n",
              "      <td>8734.000000</td>\n",
              "      <td>8734.000000</td>\n",
              "      <td>8734.000000</td>\n",
              "      <td>8734.000000</td>\n",
              "      <td>8734.000000</td>\n",
              "      <td>8734.000000</td>\n",
              "      <td>8734.000000</td>\n",
              "      <td>8734.000000</td>\n",
              "      <td>8734.000000</td>\n",
              "      <td>8734.000000</td>\n",
              "      <td>8734.000000</td>\n",
              "      <td>8734.000000</td>\n",
              "    </tr>\n",
              "    <tr>\n",
              "      <th>mean</th>\n",
              "      <td>2.489810</td>\n",
              "      <td>1.0</td>\n",
              "      <td>6.501946</td>\n",
              "      <td>11.520151</td>\n",
              "      <td>0.029883</td>\n",
              "      <td>2.994733</td>\n",
              "      <td>0.681704</td>\n",
              "      <td>1.413098</td>\n",
              "      <td>0.504825</td>\n",
              "      <td>0.482481</td>\n",
              "      <td>0.611193</td>\n",
              "      <td>0.189034</td>\n",
              "      <td>42.679757</td>\n",
              "      <td>191.986604</td>\n",
              "      <td>234.666361</td>\n",
              "    </tr>\n",
              "    <tr>\n",
              "      <th>std</th>\n",
              "      <td>1.108279</td>\n",
              "      <td>0.0</td>\n",
              "      <td>3.449086</td>\n",
              "      <td>6.921208</td>\n",
              "      <td>0.170275</td>\n",
              "      <td>2.005254</td>\n",
              "      <td>0.465842</td>\n",
              "      <td>0.624470</td>\n",
              "      <td>0.186752</td>\n",
              "      <td>0.166587</td>\n",
              "      <td>0.188184</td>\n",
              "      <td>0.121490</td>\n",
              "      <td>56.970413</td>\n",
              "      <td>175.481637</td>\n",
              "      <td>208.910941</td>\n",
              "    </tr>\n",
              "    <tr>\n",
              "      <th>min</th>\n",
              "      <td>1.000000</td>\n",
              "      <td>1.0</td>\n",
              "      <td>1.000000</td>\n",
              "      <td>0.000000</td>\n",
              "      <td>0.000000</td>\n",
              "      <td>0.000000</td>\n",
              "      <td>0.000000</td>\n",
              "      <td>1.000000</td>\n",
              "      <td>0.020000</td>\n",
              "      <td>0.015200</td>\n",
              "      <td>0.160000</td>\n",
              "      <td>0.000000</td>\n",
              "      <td>0.000000</td>\n",
              "      <td>0.000000</td>\n",
              "      <td>1.000000</td>\n",
              "    </tr>\n",
              "    <tr>\n",
              "      <th>25%</th>\n",
              "      <td>2.000000</td>\n",
              "      <td>1.0</td>\n",
              "      <td>4.000000</td>\n",
              "      <td>6.000000</td>\n",
              "      <td>0.000000</td>\n",
              "      <td>1.000000</td>\n",
              "      <td>0.000000</td>\n",
              "      <td>1.000000</td>\n",
              "      <td>0.340000</td>\n",
              "      <td>0.333300</td>\n",
              "      <td>0.460000</td>\n",
              "      <td>0.104500</td>\n",
              "      <td>5.000000</td>\n",
              "      <td>46.000000</td>\n",
              "      <td>53.000000</td>\n",
              "    </tr>\n",
              "    <tr>\n",
              "      <th>50%</th>\n",
              "      <td>2.000000</td>\n",
              "      <td>1.0</td>\n",
              "      <td>7.000000</td>\n",
              "      <td>12.000000</td>\n",
              "      <td>0.000000</td>\n",
              "      <td>3.000000</td>\n",
              "      <td>1.000000</td>\n",
              "      <td>1.000000</td>\n",
              "      <td>0.520000</td>\n",
              "      <td>0.484800</td>\n",
              "      <td>0.610000</td>\n",
              "      <td>0.164200</td>\n",
              "      <td>20.000000</td>\n",
              "      <td>156.000000</td>\n",
              "      <td>191.000000</td>\n",
              "    </tr>\n",
              "    <tr>\n",
              "      <th>75%</th>\n",
              "      <td>3.000000</td>\n",
              "      <td>1.0</td>\n",
              "      <td>9.000000</td>\n",
              "      <td>18.000000</td>\n",
              "      <td>0.000000</td>\n",
              "      <td>5.000000</td>\n",
              "      <td>1.000000</td>\n",
              "      <td>2.000000</td>\n",
              "      <td>0.660000</td>\n",
              "      <td>0.621200</td>\n",
              "      <td>0.770000</td>\n",
              "      <td>0.253700</td>\n",
              "      <td>60.000000</td>\n",
              "      <td>275.000000</td>\n",
              "      <td>347.000000</td>\n",
              "    </tr>\n",
              "    <tr>\n",
              "      <th>max</th>\n",
              "      <td>4.000000</td>\n",
              "      <td>1.0</td>\n",
              "      <td>12.000000</td>\n",
              "      <td>23.000000</td>\n",
              "      <td>1.000000</td>\n",
              "      <td>6.000000</td>\n",
              "      <td>1.000000</td>\n",
              "      <td>4.000000</td>\n",
              "      <td>1.000000</td>\n",
              "      <td>0.924200</td>\n",
              "      <td>1.000000</td>\n",
              "      <td>0.806000</td>\n",
              "      <td>367.000000</td>\n",
              "      <td>886.000000</td>\n",
              "      <td>977.000000</td>\n",
              "    </tr>\n",
              "  </tbody>\n",
              "</table>\n",
              "</div>"
            ],
            "text/plain": [
              "            season    year        month  ...       casual   registered  total_count\n",
              "count  8734.000000  8734.0  8734.000000  ...  8734.000000  8734.000000  8734.000000\n",
              "mean      2.489810     1.0     6.501946  ...    42.679757   191.986604   234.666361\n",
              "std       1.108279     0.0     3.449086  ...    56.970413   175.481637   208.910941\n",
              "min       1.000000     1.0     1.000000  ...     0.000000     0.000000     1.000000\n",
              "25%       2.000000     1.0     4.000000  ...     5.000000    46.000000    53.000000\n",
              "50%       2.000000     1.0     7.000000  ...    20.000000   156.000000   191.000000\n",
              "75%       3.000000     1.0     9.000000  ...    60.000000   275.000000   347.000000\n",
              "max       4.000000     1.0    12.000000  ...   367.000000   886.000000   977.000000\n",
              "\n",
              "[8 rows x 15 columns]"
            ]
          },
          "metadata": {
            "tags": []
          },
          "execution_count": 11
        }
      ]
    },
    {
      "cell_type": "markdown",
      "metadata": {
        "id": "gU8Mz1H0xYFm"
      },
      "source": [
        "f. Quantas locações de bicicletas foram efetuadas em 2011?\n",
        "1243103"
      ]
    },
    {
      "cell_type": "code",
      "metadata": {
        "id": "n1RnDG-wxbBV",
        "outputId": "a9234e0b-aafc-43e8-a68c-f86aca94a6d4",
        "colab": {
          "base_uri": "https://localhost:8080/",
          "height": 34
        }
      },
      "source": [
        "df2011 = df[df['year']==0]\n",
        "df2011['total_count'].sum()"
      ],
      "execution_count": null,
      "outputs": [
        {
          "output_type": "execute_result",
          "data": {
            "text/plain": [
              "1243103"
            ]
          },
          "metadata": {
            "tags": []
          },
          "execution_count": 12
        }
      ]
    },
    {
      "cell_type": "markdown",
      "metadata": {
        "id": "WIPyRukNbWX1"
      },
      "source": [
        "g. Quantas locações de bicicletas foram efetuadas em 2012? 2049576"
      ]
    },
    {
      "cell_type": "code",
      "metadata": {
        "id": "hxAWAX3ya76i",
        "outputId": "ab232a86-e38d-4a79-f03f-55c8f0481061",
        "colab": {
          "base_uri": "https://localhost:8080/",
          "height": 34
        }
      },
      "source": [
        "df2012 = df[df['year']==1]\n",
        "df2012['total_count'].sum()"
      ],
      "execution_count": null,
      "outputs": [
        {
          "output_type": "execute_result",
          "data": {
            "text/plain": [
              "2049576"
            ]
          },
          "metadata": {
            "tags": []
          },
          "execution_count": 13
        }
      ]
    },
    {
      "cell_type": "markdown",
      "metadata": {
        "id": "zMLUr1HVbiD2"
      },
      "source": [
        "i. Qual estação do ano contém a menor média de locações de bicicletas?"
      ]
    },
    {
      "cell_type": "code",
      "metadata": {
        "id": "65rkJQopMooB"
      },
      "source": [
        "def seasonnorth(season):\n",
        "  try:\n",
        "    intseason = int(season)\n",
        "    if intseason not in range(1,5):\n",
        "      raise Exception('Invalid Input, must be an integer number between 1 and 4')\n",
        "    dictseason = {1:'Winter',2:'Spring',3:'Summer',4:'Autumn'}\n",
        "    return dictseason[intseason]\n",
        "  except Exception as error:\n",
        "    print('Error:',error)\n",
        "\n",
        "def seasonsouth(season):\n",
        "  try:\n",
        "    intseason = int(season)\n",
        "    if intseason not in range(1,5):\n",
        "      raise Exception('Invalid Input, must be an integer number between 1 and 4')\n",
        "    dictseason = {3:'Inverno',4:'Primavera',1:'Verão',2:'Outono'}\n",
        "    return dictseason[intseason]\n",
        "  except Exception as error:\n",
        "    print('Error:',error)"
      ],
      "execution_count": null,
      "outputs": []
    },
    {
      "cell_type": "code",
      "metadata": {
        "id": "-_sLvPtDMqlA",
        "outputId": "53769020-4a0a-427d-d47e-d2ccbf11b9ed",
        "colab": {
          "base_uri": "https://localhost:8080/",
          "height": 34
        }
      },
      "source": [
        "#calculate mean by season, select max value\n",
        "seasons = df[['season','total_count']]\n",
        "groupseason = seasons.groupby('season').mean()\n",
        "highmean = float(seasons.groupby('season').mean().max())\n",
        "goodseason = groupseason.loc[groupseason['total_count']==highmean]\n",
        "print(seasonnorth(int(goodseason.index.values)))"
      ],
      "execution_count": null,
      "outputs": [
        {
          "output_type": "stream",
          "text": [
            "Summer\n"
          ],
          "name": "stdout"
        }
      ]
    },
    {
      "cell_type": "code",
      "metadata": {
        "id": "4BDS6gG8b1rP",
        "outputId": "d7e2fcf6-9d29-4d65-cf4c-a7b957b1e55c",
        "colab": {
          "base_uri": "https://localhost:8080/",
          "height": 34
        }
      },
      "source": [
        "#calculate mean by season, select min value\n",
        "seasons = df[['season','total_count']]\n",
        "groupseason = seasons.groupby('season').mean()\n",
        "lowestmean = float(seasons.groupby('season').mean().min())\n",
        "badseason = groupseason.loc[groupseason['total_count']==lowestmean]\n",
        "print(seasonnorth(int(badseason.index.values)))"
      ],
      "execution_count": null,
      "outputs": [
        {
          "output_type": "stream",
          "text": [
            "Winter\n"
          ],
          "name": "stdout"
        }
      ]
    },
    {
      "cell_type": "markdown",
      "metadata": {
        "id": "CJBmzDN2bmg7"
      },
      "source": [
        "j. Qual horário do dia contém a maior média de locações de bicicletas?\n"
      ]
    },
    {
      "cell_type": "code",
      "metadata": {
        "id": "ke0_smMBjKiQ",
        "outputId": "7d8ed31b-b58c-4055-83f7-db9163e3275d",
        "colab": {
          "base_uri": "https://localhost:8080/",
          "height": 34
        }
      },
      "source": [
        "from datetime import time\n",
        "#calculate mean by hour, select max value\n",
        "hours = df[['hour','total_count']]\n",
        "grouphours = hours.groupby('hour').mean()\n",
        "highmean = float(hours.groupby('hour').mean().max())\n",
        "rushhour = grouphours.loc[grouphours['total_count']==highmean]\n",
        "print(time(hour=int(rushhour.index.values)))"
      ],
      "execution_count": null,
      "outputs": [
        {
          "output_type": "stream",
          "text": [
            "17:00:00\n"
          ],
          "name": "stdout"
        }
      ]
    },
    {
      "cell_type": "markdown",
      "metadata": {
        "id": "00ciuxMmbobE"
      },
      "source": [
        "k. Qual horário do dia contém a menor média de locações de bicicletas?\n"
      ]
    },
    {
      "cell_type": "code",
      "metadata": {
        "id": "5_9OpXwcmDPs",
        "outputId": "0297ca91-adc1-49ce-e622-64fd63a99749",
        "colab": {
          "base_uri": "https://localhost:8080/",
          "height": 34
        }
      },
      "source": [
        "from datetime import time\n",
        "#calculate mean by hour, select min value\n",
        "lowestmean = float(hours.groupby('hour').mean().min())\n",
        "offpeak = grouphours.loc[grouphours['total_count']==lowestmean]\n",
        "print(time(hour=int(offpeak.index.values)))"
      ],
      "execution_count": null,
      "outputs": [
        {
          "output_type": "stream",
          "text": [
            "04:00:00\n"
          ],
          "name": "stdout"
        }
      ]
    },
    {
      "cell_type": "markdown",
      "metadata": {
        "id": "fAAJvp5XbqXD"
      },
      "source": [
        "l. Que dia da semana contém a maior média de locações de bicicletas?\n"
      ]
    },
    {
      "cell_type": "code",
      "metadata": {
        "id": "DBPMsgiv1u-g",
        "outputId": "78199902-09b6-4632-ba93-629a738c67b8",
        "colab": {
          "base_uri": "https://localhost:8080/",
          "height": 34
        }
      },
      "source": [
        "weekdays = df[['weekday','total_count']]\n",
        "groupweek = weekdays.groupby('weekday').mean()\n",
        "highmean = float(weekdays.groupby('weekday').mean().max())\n",
        "bikeday = groupweek.loc[groupweek['total_count']==highmean]\n",
        "week= ['Sunday','Monday','Tuesday','Wednesday','Thursday','Friday','Saturday']\n",
        "print(week[int(bikeday.index.values)])"
      ],
      "execution_count": null,
      "outputs": [
        {
          "output_type": "stream",
          "text": [
            "Thursday\n"
          ],
          "name": "stdout"
        }
      ]
    },
    {
      "cell_type": "markdown",
      "metadata": {
        "id": "W0CLoYs0br0d"
      },
      "source": [
        "m. Que dia da semana contém a menor média de locações de bicicletas?\n"
      ]
    },
    {
      "cell_type": "code",
      "metadata": {
        "id": "I9WePwrg4iWW",
        "outputId": "4e24c34d-6ea5-4478-a224-8b504f69b01a",
        "colab": {
          "base_uri": "https://localhost:8080/",
          "height": 34
        }
      },
      "source": [
        "lowestmean = float(weekdays.groupby('weekday').mean().min())\n",
        "nobikeday = groupweek.loc[groupweek['total_count']==lowestmean]\n",
        "print(week[int(nobikeday.index.values)])"
      ],
      "execution_count": null,
      "outputs": [
        {
          "output_type": "stream",
          "text": [
            "Sunday\n"
          ],
          "name": "stdout"
        }
      ]
    },
    {
      "cell_type": "markdown",
      "metadata": {
        "id": "31PpMalkbtGQ"
      },
      "source": [
        "n. Às quartas-feiras (weekday = 3), qual o horário do dia contém a maior média de locações de bicicletas?"
      ]
    },
    {
      "cell_type": "code",
      "metadata": {
        "id": "4T2hgpzY5E-Z",
        "outputId": "a7115eeb-f826-4d2e-e2dc-37b22ba44568",
        "colab": {
          "base_uri": "https://localhost:8080/",
          "height": 34
        }
      },
      "source": [
        "from datetime import time\n",
        "weekhour = df[['weekday','hour','total_count']]\n",
        "wednesday = weekhour.loc[weekhour['weekday']==3]\n",
        "wedgroup = wednesday.groupby('hour').mean()\n",
        "highmean = wednesday.groupby('hour').mean().max()[1]\n",
        "wedrush = wedgroup.loc[wedgroup['total_count']==highmean]\n",
        "print(time(hour=int(wedrush.index.values)))"
      ],
      "execution_count": null,
      "outputs": [
        {
          "output_type": "stream",
          "text": [
            "17:00:00\n"
          ],
          "name": "stdout"
        }
      ]
    },
    {
      "cell_type": "markdown",
      "metadata": {
        "id": "b_LgtsvPbvYd"
      },
      "source": [
        "o. Aos sábados (weekday = 6), qual o horário do dia contém a maior média de locações de bicicletas?"
      ]
    },
    {
      "cell_type": "code",
      "metadata": {
        "id": "k9Jt_vYH7wha",
        "outputId": "bc63ddf6-7bbb-46da-8f4f-4d3a25cd7dfb",
        "colab": {
          "base_uri": "https://localhost:8080/",
          "height": 34
        }
      },
      "source": [
        "from datetime import time\n",
        "saturday = weekhour.loc[weekhour['weekday']==6]\n",
        "satgroup = saturday.groupby('hour').mean()\n",
        "highmean = saturday.groupby('hour').mean().max()[1]\n",
        "satrush = satgroup.loc[satgroup['total_count']==highmean]\n",
        "print(time(hour=int(satrush.index.values)))"
      ],
      "execution_count": null,
      "outputs": [
        {
          "output_type": "stream",
          "text": [
            "13:00:00\n"
          ],
          "name": "stdout"
        }
      ]
    }
  ]
}