{
  "nbformat": 4,
  "nbformat_minor": 0,
  "metadata": {
    "colab": {
      "name": "Files.ipynb",
      "provenance": [],
      "collapsed_sections": [],
      "authorship_tag": "ABX9TyODLgw6OK00oMCuVwNCOxjy",
      "include_colab_link": true
    },
    "kernelspec": {
      "name": "python3",
      "display_name": "Python 3"
    }
  },
  "cells": [
    {
      "cell_type": "markdown",
      "metadata": {
        "id": "view-in-github",
        "colab_type": "text"
      },
      "source": [
        "<a href=\"https://colab.research.google.com/github/vsvale/pytfolio/blob/master/Files.ipynb\" target=\"_parent\"><img src=\"https://colab.research.google.com/assets/colab-badge.svg\" alt=\"Open In Colab\"/></a>"
      ]
    },
    {
      "cell_type": "markdown",
      "metadata": {
        "id": "49JAe_CQ52i9"
      },
      "source": [
        "#TXT"
      ]
    },
    {
      "cell_type": "code",
      "metadata": {
        "id": "C-dYSqmgYNlA"
      },
      "source": [
        "class File():\n",
        "\n",
        "  def __init__(self,path, name, extension):\n",
        "    self.path = path\n",
        "    self.name = name\n",
        "    self.extension = extension\n",
        "    \n",
        "    self.filename = self.path + '/' + self.name + '.' + self.extension\n",
        "\n",
        "  def createfile(self):\n",
        "    newfile = open(self.filename,'w')\n",
        "    newfile.close()\n",
        "\n",
        "  def writefile(self, content):\n",
        "    newfile = open(self.filename,'a')\n",
        "    newfile.write(str(content))\n",
        "    newfile.close()\n",
        "\n",
        "  def readfile(self):\n",
        "    newfile = open(self.filename,'r')\n",
        "    readfile = newfile.read()\n",
        "    return readfile\n",
        "    "
      ],
      "execution_count": null,
      "outputs": []
    },
    {
      "cell_type": "code",
      "metadata": {
        "id": "iPcjnwn0vlYU"
      },
      "source": [
        "def meanStudents(newfile):\n",
        "  scorefile = newfile.readfile()\n",
        "  students = scorefile.split(';') #elements ['Name: grades']\n",
        "  liststudents = [student.split(': ') for student in students] #elements ['Name','grades']\n",
        "  for student in liststudents:\n",
        "    student[1] = student[1].split(',') #elements ['Name',['grade1',...,'gradeN']]\n",
        "    student[1] = [int(x) for x in student[1]] #elements ['Name',[intgrade1,...,intgradeN]]\n",
        "    student.append(sum(student[1])/len(student[1])) #elements ['Name',[intgrade1,...,intgradeN],mean]\n",
        "  return liststudents\n",
        "\n",
        "def result(liststudents,studentname):\n",
        "  for student in liststudents:\n",
        "   if student[0] == studentname:\n",
        "      indexstudent = liststudents.index(student)\n",
        "  print('Name:',liststudents[indexstudent][0])\n",
        "  print('Scores:',liststudents[indexstudent][1])\n",
        "  print('Mean:',liststudents[indexstudent][2])\n",
        "  print('Status:','Approved') if liststudents[indexstudent][2] >= 7 else print('Status','Failed')\n",
        "\n",
        "def schoolReport(liststudents):\n",
        "  for student in liststudents:\n",
        "    report = File('.','Result_'+student[0],'txt')\n",
        "    report.createfile()\n",
        "    if student[2] >=7:\n",
        "      status = 'Approved' \n",
        "    else:\n",
        "      status = 'Failed'\n",
        "    report.writefile('School Report - Name: '+ student[0] +' - Grades: '+ str(student[1]) +' - Mean: ' + str(student[2]) + ' - Status: '+ status)\n",
        "\n",
        "\n"
      ],
      "execution_count": null,
      "outputs": []
    },
    {
      "cell_type": "code",
      "metadata": {
        "id": "8rXYXnyQmWPk",
        "outputId": "549e6583-8f50-4fb4-e6da-e4bfd79b74e9",
        "colab": {
          "base_uri": "https://localhost:8080/",
          "height": 123
        }
      },
      "source": [
        "def main():\n",
        "  \n",
        "  try:\n",
        "    scorestudents = File('.','scorestudents','txt')\n",
        "    scorestudents.createfile()\n",
        "    scorestudents.writefile('Rafael: 10,10,5,5;')\n",
        "    scorestudents.writefile('Luiza: 3,10,8,7;')\n",
        "    scorestudents.writefile('Marcos: 7,5,7,6;')\n",
        "    scorestudents.writefile('Joasmin: 5,3,10,8;')\n",
        "    scorestudents.writefile('Munique: 9,8,3,6')\n",
        "  except:\n",
        "    print('File scorestudents already exists')\n",
        "\n",
        "  print(scorestudents.readfile())\n",
        "  \n",
        "  meanlist = meanStudents(scorestudents)\n",
        "  result(meanlist,'Luiza')\n",
        "  \n",
        "  try:\n",
        "    schoolReport(meanlist)\n",
        "  except:\n",
        "    print('School Reports already created')\n",
        "\n",
        "  result_marcos = File('.','Result_Marcos','txt')\n",
        "\n",
        "  print(result_marcos.readfile())\n",
        "\n",
        "if __name__ == '__main__':\n",
        "  main()\n"
      ],
      "execution_count": null,
      "outputs": [
        {
          "output_type": "stream",
          "text": [
            "Rafael: 10,10,5,5;Luiza: 3,10,8,7;Marcos: 7,5,7,6;Joasmin: 5,3,10,8;Munique: 9,8,3,6\n",
            "Name: Luiza\n",
            "Scores: [3, 10, 8, 7]\n",
            "Mean: 7.0\n",
            "Status: Approved\n",
            "School Report - Name: Marcos - Grades: [7, 5, 7, 6] - Mean: 6.25 - Status: Failed\n"
          ],
          "name": "stdout"
        }
      ]
    },
    {
      "cell_type": "code",
      "metadata": {
        "id": "3vZWhB1lksKT"
      },
      "source": [
        "import os\n",
        "from shutil import copy,move,make_archive,unpack_archive"
      ],
      "execution_count": null,
      "outputs": []
    },
    {
      "cell_type": "code",
      "metadata": {
        "id": "ZBu1sdhCkuPr",
        "outputId": "6e3a5720-8927-4361-c718-8d880d36a6ee",
        "colab": {
          "base_uri": "https://localhost:8080/",
          "height": 34
        }
      },
      "source": [
        "print('Actual directory =',os.getcwd()) #Actual directory\n",
        "lsfiles = list(filter(os.path.isfile, os.listdir())) #ls only files"
      ],
      "execution_count": null,
      "outputs": [
        {
          "output_type": "stream",
          "text": [
            "Actual directory = /content\n"
          ],
          "name": "stdout"
        }
      ]
    },
    {
      "cell_type": "code",
      "metadata": {
        "id": "QdD7oAdUkycr",
        "outputId": "b6ad0ea3-afc6-4589-d0b3-abb2555829e0",
        "colab": {
          "base_uri": "https://localhost:8080/",
          "height": 34
        }
      },
      "source": [
        "try:\n",
        "  os.mkdir('Results') #create folder Results\n",
        "  print('Folder Results created')\n",
        "except:\n",
        "  print('Folder Results already created')"
      ],
      "execution_count": null,
      "outputs": [
        {
          "output_type": "stream",
          "text": [
            "Folder Results created\n"
          ],
          "name": "stdout"
        }
      ]
    },
    {
      "cell_type": "code",
      "metadata": {
        "id": "LnNLl2qwk1Wt",
        "outputId": "b673e13f-5a75-46bb-bd7e-2ea32415c14d",
        "colab": {
          "base_uri": "https://localhost:8080/",
          "height": 34
        }
      },
      "source": [
        "try:\n",
        "  os.mkdir('Inputs') #create folder Inputs\n",
        "  print('Folder Inputs created')\n",
        "except:\n",
        "  print('Folder Inputs already created')"
      ],
      "execution_count": null,
      "outputs": [
        {
          "output_type": "stream",
          "text": [
            "Folder Inputs created\n"
          ],
          "name": "stdout"
        }
      ]
    },
    {
      "cell_type": "code",
      "metadata": {
        "id": "-SuclLXBk5zM"
      },
      "source": [
        "try:\n",
        "  for file in lsfiles: #copy files to Results directory\n",
        "    copy(file,'Results')\n",
        "    os.remove(file) #remove copied files\n",
        "except:\n",
        "  print('No files to copy or remove')"
      ],
      "execution_count": null,
      "outputs": []
    },
    {
      "cell_type": "code",
      "metadata": {
        "id": "Uoi3xbNmk_au",
        "outputId": "deaaa133-bd6e-418c-b055-28d11eaa8f32",
        "colab": {
          "base_uri": "https://localhost:8080/",
          "height": 52
        }
      },
      "source": [
        "try:\n",
        "  os.chdir('Results')\n",
        "  print('Actual directory =',os.getcwd())\n",
        "  print(os.listdir())\n",
        "except:\n",
        "  print('No Results folder')"
      ],
      "execution_count": null,
      "outputs": [
        {
          "output_type": "stream",
          "text": [
            "Actual directory = /content/Results\n",
            "['Result_Luiza.txt', 'Result_Rafael.txt', 'scorestudents.txt', 'Result_Joasmin.txt', 'Result_Marcos.txt', 'Result_Munique.txt']\n"
          ],
          "name": "stdout"
        }
      ]
    },
    {
      "cell_type": "code",
      "metadata": {
        "id": "O47KV5ATlEjO",
        "outputId": "ee01019b-db61-4823-8f43-249402c12b87",
        "colab": {
          "base_uri": "https://localhost:8080/",
          "height": 34
        }
      },
      "source": [
        "try:\n",
        "  resulfiles = list(filter(os.path.isfile, os.listdir()))\n",
        "  for files in resulfiles:\n",
        "    if files.endswith('.txt') and not files.startswith('Result'):\n",
        "      os.rename(files,files+'.old') #Rename processed input with .old\n",
        "      move(files+'.old', '../Inputs') #Move .old to Inputs\n",
        "  print(os.listdir())\n",
        "except:\n",
        "  print('Only Results in Results')"
      ],
      "execution_count": null,
      "outputs": [
        {
          "output_type": "stream",
          "text": [
            "['Result_Luiza.txt', 'Result_Rafael.txt', 'Result_Joasmin.txt', 'Result_Marcos.txt', 'Result_Munique.txt']\n"
          ],
          "name": "stdout"
        }
      ]
    },
    {
      "cell_type": "code",
      "metadata": {
        "id": "sGPc8bmcwInc",
        "outputId": "f5fbb081-3861-499d-f03b-10482a6b1c26",
        "colab": {
          "base_uri": "https://localhost:8080/",
          "height": 34
        }
      },
      "source": [
        "try:\n",
        "  os.chdir('../Inputs')\n",
        "  print(os.listdir())\n",
        "except:\n",
        "  print('No Input folder')"
      ],
      "execution_count": null,
      "outputs": [
        {
          "output_type": "stream",
          "text": [
            "['scorestudents.txt.old']\n"
          ],
          "name": "stdout"
        }
      ]
    },
    {
      "cell_type": "code",
      "metadata": {
        "id": "fglJzVeNn8tC",
        "outputId": "8e8deac8-8971-425b-d6b2-55e06709d298",
        "colab": {
          "base_uri": "https://localhost:8080/",
          "height": 34
        }
      },
      "source": [
        "try:\n",
        "  inputfiles = list(filter(os.path.isfile, os.listdir()))\n",
        "  for files in inputfiles:\n",
        "    if files.endswith('.old'):\n",
        "        make_archive('olds','zip','.')#create a zip file\n",
        "        os.remove(files)\n",
        "  print(os.listdir())\n",
        "except:\n",
        "  print('No old ones')"
      ],
      "execution_count": null,
      "outputs": [
        {
          "output_type": "stream",
          "text": [
            "['olds.zip', '.ipynb_checkpoints']\n"
          ],
          "name": "stdout"
        }
      ]
    },
    {
      "cell_type": "code",
      "metadata": {
        "id": "Dd0kDUyXx3CS",
        "outputId": "0a9dafa8-363e-4403-bc0f-74b96a5db61e",
        "colab": {
          "base_uri": "https://localhost:8080/",
          "height": 34
        }
      },
      "source": [
        "try:\n",
        "  zipfiles = list(filter(os.path.isfile, os.listdir()))\n",
        "  for files in zipfiles:\n",
        "    if files.endswith('.zip'):\n",
        "      unpack_archive(files,'.') #unpack zip\n",
        "  print(os.listdir())\n",
        "except:\n",
        "  print('No zips')"
      ],
      "execution_count": null,
      "outputs": [
        {
          "output_type": "stream",
          "text": [
            "['scorestudents.txt.old', 'olds.zip', '.ipynb_checkpoints']\n"
          ],
          "name": "stdout"
        }
      ]
    },
    {
      "cell_type": "markdown",
      "metadata": {
        "id": "J1GXvqeP6HBo"
      },
      "source": [
        "#XML"
      ]
    },
    {
      "cell_type": "code",
      "metadata": {
        "id": "DPETqJuC6dcZ",
        "outputId": "7e66636a-e8d6-4e7c-a499-720d8ee80d94",
        "colab": {
          "resources": {
            "http://localhost:8080/nbextensions/google.colab/files.js": {
              "data": "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",
              "ok": true,
              "headers": [
                [
                  "content-type",
                  "application/javascript"
                ]
              ],
              "status": 200,
              "status_text": ""
            }
          },
          "base_uri": "https://localhost:8080/",
          "height": 73
        }
      },
      "source": [
        "#importing from computer\n",
        "from google.colab import files\n",
        "uploaded = files.upload()"
      ],
      "execution_count": null,
      "outputs": [
        {
          "output_type": "display_data",
          "data": {
            "text/html": [
              "\n",
              "     <input type=\"file\" id=\"files-8c802087-3ebd-4cf3-aef8-9db1042d8139\" name=\"files[]\" multiple disabled\n",
              "        style=\"border:none\" />\n",
              "     <output id=\"result-8c802087-3ebd-4cf3-aef8-9db1042d8139\">\n",
              "      Upload widget is only available when the cell has been executed in the\n",
              "      current browser session. Please rerun this cell to enable.\n",
              "      </output>\n",
              "      <script src=\"/nbextensions/google.colab/files.js\"></script> "
            ],
            "text/plain": [
              "<IPython.core.display.HTML object>"
            ]
          },
          "metadata": {
            "tags": []
          }
        },
        {
          "output_type": "stream",
          "text": [
            "Saving to_buy.xml to to_buy.xml\n"
          ],
          "name": "stdout"
        }
      ]
    },
    {
      "cell_type": "code",
      "metadata": {
        "id": "sjeFzwC180UM",
        "outputId": "0966faab-683f-4f2c-dd02-bf3a67ede96b",
        "colab": {
          "base_uri": "https://localhost:8080/",
          "height": 1000
        }
      },
      "source": [
        "try:\n",
        "  movies = open('movies.xml','r')\n",
        "  for lines in movies:\n",
        "    print(lines.rstrip()) #remove \\n\n",
        "    count += 1\n",
        "  movies.close()\n",
        "  print('movies.xml has',count,'lines')\n",
        "except:\n",
        "  print('File movies.xml not found')\n",
        "  count=0\n"
      ],
      "execution_count": null,
      "outputs": [
        {
          "output_type": "stream",
          "text": [
            "<?xml version=\"1.0\"?>\n",
            "<collection>\n",
            "    <genre category=\"Action\">\n",
            "        <decade years=\"1980s\">\n",
            "            <movie favorite=\"True\" title=\"Indiana Jones: The raiders of the lost Ark\">\n",
            "                <format multiple=\"No\">DVD</format>\n",
            "                <year>1981</year>\n",
            "                <rating>PG</rating>\n",
            "                <description>\n",
            "                'Archaeologist and adventurer Indiana Jones\n",
            "                is hired by the U.S. government to find the Ark of the\n",
            "                Covenant before the Nazis.'\n",
            "                </description>\n",
            "            </movie>\n",
            "               <movie favorite=\"True\" title=\"THE KARATE KID\">\n",
            "               <format multiple=\"Yes\">DVD,Online</format>\n",
            "               <year>1984</year>\n",
            "               <rating>PG</rating>\n",
            "               <description>None provided.</description>\n",
            "            </movie>\n",
            "            <movie favorite=\"False\" title=\"Back 2 the Future\">\n",
            "               <format multiple=\"False\">Blu-ray</format>\n",
            "               <year>1985</year>\n",
            "               <rating>PG</rating>\n",
            "               <description>Marty McFly</description>\n",
            "            </movie>\n",
            "        </decade>\n",
            "        <decade years=\"1990s\">\n",
            "            <movie favorite=\"False\" title=\"X-Men\">\n",
            "               <format multiple=\"Yes\">dvd, digital</format>\n",
            "               <year>2000</year>\n",
            "               <rating>PG-13</rating>\n",
            "               <description>Two mutants come to a private academy for their kind whose resident superhero team must\n",
            "               oppose a terrorist organization with similar powers.</description>\n",
            "            </movie>\n",
            "            <movie favorite=\"True\" title=\"Batman Returns\">\n",
            "               <format multiple=\"No\">VHS</format>\n",
            "               <year>1992</year>\n",
            "               <rating>PG13</rating>\n",
            "               <description>NA.</description>\n",
            "            </movie>\n",
            "               <movie favorite=\"False\" title=\"Reservoir Dogs\">\n",
            "               <format multiple=\"No\">Online</format>\n",
            "               <year>1992</year>\n",
            "               <rating>R</rating>\n",
            "               <description>WhAtEvER I Want!!!?!</description>\n",
            "            </movie>\n",
            "        </decade>\n",
            "    </genre>\n",
            "\n",
            "    <genre category=\"Thriller\">\n",
            "        <decade years=\"1970s\">\n",
            "            <movie favorite=\"False\" title=\"ALIEN\">\n",
            "                <format multiple=\"Yes\">DVD</format>\n",
            "                <year>1979</year>\n",
            "                <rating>R</rating>\n",
            "                <description>\"\"\"\"\"\"\"\"\"</description>\n",
            "            </movie>\n",
            "        </decade>\n",
            "        <decade years=\"1980s\">\n",
            "            <movie favorite=\"True\" title=\"Ferris Bueller's Day Off\">\n",
            "                <format multiple=\"No\">DVD</format>\n",
            "                <year>1986</year>\n",
            "                <rating>PG13</rating>\n",
            "                <description>Funny movie about a funny guy</description>\n",
            "            </movie>\n",
            "            <movie favorite=\"FALSE\" title=\"American Psycho\">\n",
            "                <format multiple=\"No\">blue-ray</format>\n",
            "                <year>2000</year>\n",
            "                <rating>Unrated</rating>\n",
            "                <description>psychopathic Bateman</description>\n",
            "            </movie>\n",
            "        </decade>\n",
            "    </genre>\n",
            "movies.xml has 74 lines\n"
          ],
          "name": "stdout"
        }
      ]
    },
    {
      "cell_type": "code",
      "metadata": {
        "id": "lrBngzzu083T"
      },
      "source": [
        "from xml.dom import minidom\n",
        "uploaded = files.upload()"
      ],
      "execution_count": null,
      "outputs": []
    },
    {
      "cell_type": "code",
      "metadata": {
        "id": "ZVqspfvLCMTj",
        "outputId": "a8b7f22d-e6ea-40bf-8c19-6fde8ffd2000",
        "colab": {
          "base_uri": "https://localhost:8080/",
          "height": 123
        }
      },
      "source": [
        "\n",
        "filename = 'to_buy.xml'\n",
        "document_xml = minidom.parse(filename) #parse\n",
        "nodes = document_xml.documentElement #root\n",
        "print('Root node =',nodes.tagName)\n",
        "to_buy = document_xml.getElementsByTagName('item')\n",
        "for item in to_buy:\n",
        "  print(item.attributes['name'].value,'=',item.firstChild.data)"
      ],
      "execution_count": null,
      "outputs": [
        {
          "output_type": "stream",
          "text": [
            "Root node = data\n",
            "item1 = Rice\n",
            "item2 = Beans\n",
            "item3 = Potato\n",
            "item4 = Tomato\n",
            "item5 = spaghetti\n"
          ],
          "name": "stdout"
        }
      ]
    },
    {
      "cell_type": "code",
      "metadata": {
        "id": "O3kbXQpaj1B1",
        "outputId": "cb1f3aee-e23b-4b82-8c3f-d1637f6735fa",
        "colab": {
          "base_uri": "https://localhost:8080/",
          "height": 52
        }
      },
      "source": [
        "from lxml import etree\n",
        "\n",
        "filename = 'movies.xml'\n",
        "try:\n",
        "  with open(filename,'r',encoding='utf8') as origin:\n",
        "    parser = etree.XMLParser(resolve_entities=False, strip_cdata=False)\n",
        "    tree = etree.parse(origin,parser)\n",
        "except:\n",
        "  print('File movies.xml not found')\n",
        "\n",
        "try:\n",
        "  with open(filename, 'wb') as destination:\n",
        "    elementtree.write(destination, encoding='utf-8', xml_declaration=True, pretty_print=True)\n",
        "except:\n",
        "  print('File movies.xml not found')\n"
      ],
      "execution_count": null,
      "outputs": [
        {
          "output_type": "stream",
          "text": [
            "File movies.xml not found\n",
            "File movies.xml not found\n"
          ],
          "name": "stdout"
        }
      ]
    }
  ]
}