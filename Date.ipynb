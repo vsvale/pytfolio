{
  "nbformat": 4,
  "nbformat_minor": 0,
  "metadata": {
    "colab": {
      "name": "Date.ipynb",
      "provenance": [],
      "collapsed_sections": [],
      "authorship_tag": "ABX9TyP90lrYT5HkeAhKvzC97FtR",
      "include_colab_link": true
    },
    "kernelspec": {
      "name": "python3",
      "display_name": "Python 3"
    }
  },
  "cells": [
    {
      "cell_type": "markdown",
      "metadata": {
        "id": "view-in-github",
        "colab_type": "text"
      },
      "source": [
        "<a href=\"https://colab.research.google.com/github/vsvale/pytfolio/blob/master/Date.ipynb\" target=\"_parent\"><img src=\"https://colab.research.google.com/assets/colab-badge.svg\" alt=\"Open In Colab\"/></a>"
      ]
    },
    {
      "cell_type": "markdown",
      "metadata": {
        "id": "i-ae3nbqhQ-h"
      },
      "source": [
        "# Date"
      ]
    },
    {
      "cell_type": "code",
      "metadata": {
        "id": "S0k84_XPzTYe"
      },
      "source": [
        "from datetime import date, timedelta, datetime\n",
        "from dateutil import parser,tz\n",
        "from pytz import timezone\n",
        "import pytz"
      ],
      "execution_count": null,
      "outputs": []
    },
    {
      "cell_type": "code",
      "metadata": {
        "id": "KwWDQeo93P7f",
        "outputId": "5659bf34-936f-41d0-b47e-4abd01276a51",
        "colab": {
          "base_uri": "https://localhost:8080/",
          "height": 34
        }
      },
      "source": [
        "def utcnow():\n",
        "  return datetime.now(tz=pytz.utc)\n",
        "\n",
        "utcnow()"
      ],
      "execution_count": null,
      "outputs": [
        {
          "output_type": "execute_result",
          "data": {
            "text/plain": [
              "datetime.datetime(2020, 10, 10, 19, 12, 32, 344811, tzinfo=<UTC>)"
            ]
          },
          "metadata": {
            "tags": []
          },
          "execution_count": 15
        }
      ]
    },
    {
      "cell_type": "code",
      "metadata": {
        "id": "Re2GR4LgzVbO",
        "outputId": "b614c7fe-b1ce-46b4-e74a-36da4b227bfd",
        "colab": {
          "base_uri": "https://localhost:8080/",
          "height": 34
        }
      },
      "source": [
        "def today():\n",
        "  return date.today()#Return a date in YYYY-MM-DD\n",
        "\n",
        "print('Today is',today(),'and is',weekday(today()))"
      ],
      "execution_count": null,
      "outputs": [
        {
          "output_type": "stream",
          "text": [
            "Today is 2020-10-10 and is Saturday\n"
          ],
          "name": "stdout"
        }
      ]
    },
    {
      "cell_type": "code",
      "metadata": {
        "id": "ffOBf3Zhzh8j",
        "outputId": "45a5c9e2-3531-4fb9-cf4e-a6231734764d",
        "colab": {
          "base_uri": "https://localhost:8080/",
          "height": 34
        }
      },
      "source": [
        "def todayBR():\n",
        "  utc = pytz.utc\n",
        "  braziltz = timezone('America/Sao_Paulo')\n",
        "  now = datetime.now()\n",
        "  utc_dt = datetime(now.year, now.month, now.day, now.hour, now.minute, now.second, tzinfo=utc)\n",
        "  loc_dt = utc_dt.astimezone(braziltz)\n",
        "  return loc_dt.strftime('%A, %d %B de %Y') #return string with formatted date\n",
        "\n",
        "print('Hoje no Brasil é',todayBR())"
      ],
      "execution_count": null,
      "outputs": [
        {
          "output_type": "stream",
          "text": [
            "Hoje no Brasil é Saturday, 10 October de 2020\n"
          ],
          "name": "stdout"
        }
      ]
    },
    {
      "cell_type": "code",
      "metadata": {
        "id": "r9sb7M3_zpDQ",
        "outputId": "14dbb4bd-0660-43d3-99bf-49f2cbbfd986",
        "colab": {
          "base_uri": "https://localhost:8080/",
          "height": 34
        }
      },
      "source": [
        "def tomorrow():\n",
        "  today =  date.today()\n",
        "  tomorrow = date(today.year,today.month,today.day+1) #separate date in integer components\n",
        "  return tomorrow\n",
        "print('Tomorrow is',tomorrow())"
      ],
      "execution_count": null,
      "outputs": [
        {
          "output_type": "stream",
          "text": [
            "Tomorrow is 2020-10-11\n"
          ],
          "name": "stdout"
        }
      ]
    },
    {
      "cell_type": "code",
      "metadata": {
        "id": "IadYzZKC7PD6",
        "outputId": "028a1ff2-f429-4a9b-afdd-2497b8138a0d",
        "colab": {
          "base_uri": "https://localhost:8080/",
          "height": 34
        }
      },
      "source": [
        "def weekday(date):\n",
        "  week= ['Monday','Tuesday','Wednesday','Thursday','Friday','Saturday','Sunday']\n",
        "  return week[date.weekday()] #weekday method return 0 to 6\n",
        "\n",
        "print('My birthday will be in a',weekday(date(today().year+1,7,14)),'next year')"
      ],
      "execution_count": null,
      "outputs": [
        {
          "output_type": "stream",
          "text": [
            "My birthday will be in a Wednesday next year\n"
          ],
          "name": "stdout"
        }
      ]
    },
    {
      "cell_type": "code",
      "metadata": {
        "id": "WQ32vp6U71Ko",
        "outputId": "4335b6f9-54ad-47b7-a3da-195c5629ca40",
        "colab": {
          "base_uri": "https://localhost:8080/",
          "height": 34
        }
      },
      "source": [
        "def weekdayNextYear(date):\n",
        "  week= ['Monday','Tuesday','Wednesday','Thursday','Friday','Saturday','Sunday']\n",
        "  nydate = date + timedelta(days=365)\n",
        "  return week[nydate.weekday()] #weekday method return 0 to 6\n",
        "\n",
        "print('Real Proof =',weekdayNextYear(datetime.strptime('14/07/2020','%d/%m/%Y')))"
      ],
      "execution_count": null,
      "outputs": [
        {
          "output_type": "stream",
          "text": [
            "Real Proof = Wednesday\n"
          ],
          "name": "stdout"
        }
      ]
    },
    {
      "cell_type": "code",
      "metadata": {
        "id": "6R8jqCu677_U",
        "outputId": "a72eee8d-37cb-4898-dd04-963ad2835c2f",
        "colab": {
          "base_uri": "https://localhost:8080/",
          "height": 34
        }
      },
      "source": [
        "def validdate(datein):\n",
        "  try:\n",
        "    datetime = parser.parse(str(datein))\n",
        "    return True\n",
        "  except:\n",
        "    return False\n",
        "\n",
        "datetovalidate = '2020-02-29'\n",
        "\n",
        "if validdate(datetovalidate):\n",
        "  print(datetovalidate, 'is a valid date')\n",
        "else:\n",
        "  print(datetovalidate,'is not a valid date')"
      ],
      "execution_count": null,
      "outputs": [
        {
          "output_type": "stream",
          "text": [
            "2020-02-29 is a valid date\n"
          ],
          "name": "stdout"
        }
      ]
    },
    {
      "cell_type": "code",
      "metadata": {
        "id": "VLl6mMl_8GwR",
        "outputId": "068d6906-79fb-4e9c-8f3a-a87a3f378fd6",
        "colab": {
          "base_uri": "https://localhost:8080/",
          "height": 34
        }
      },
      "source": [
        "def isLeapYear(year):\n",
        "  datetime = parser.parse(str(year))\n",
        "  lyear = datetime.year\n",
        "  if (lyear % 4 == 0 and lyear % 100 != 0) or (lyear % 400 == 0):\n",
        "    return True\n",
        "  else:\n",
        "    return False\n",
        "\n",
        "if isLeapYear(today().year):\n",
        "  print(today().year,'is a leap year')\n",
        "else:\n",
        "  print(today().year,'is not a leap year')"
      ],
      "execution_count": null,
      "outputs": [
        {
          "output_type": "stream",
          "text": [
            "2020 is a leap year\n"
          ],
          "name": "stdout"
        }
      ]
    },
    {
      "cell_type": "markdown",
      "metadata": {
        "id": "5ZVPiwwVhWuo"
      },
      "source": [
        "# Datetime"
      ]
    },
    {
      "cell_type": "code",
      "metadata": {
        "id": "1h5RZFzpQ03L"
      },
      "source": [
        "from datetime import datetime\n",
        "\n",
        "def dtAroundWorld(timez=''):\n",
        "  try:\n",
        "    utc = pytz.utc\n",
        "    to_timez = timezone(timez)\n",
        "    now = datetime.now()\n",
        "    utc_dt = datetime(now.year, now.month, now.day, now.hour, now.minute, now.second, tzinfo=utc)\n",
        "    loc_dt = utc_dt.astimezone(to_timez)\n",
        "    return loc_dt.strftime('%Y-%m-%d %H:%M:%S')\n",
        "  except:\n",
        "    print('Invalid Timezone. Visit https://en.wikipedia.org/wiki/List_of_tz_database_time_zones to some examples')"
      ],
      "execution_count": null,
      "outputs": []
    },
    {
      "cell_type": "code",
      "metadata": {
        "id": "brdwnROvXvt4",
        "outputId": "98646401-8c76-466a-ac37-157d1b6b0cd5",
        "colab": {
          "base_uri": "https://localhost:8080/",
          "height": 158
        }
      },
      "source": [
        "def main():\n",
        "  print('In America Sao Paulo is',dtAroundWorld('America/Sao_Paulo'))\n",
        "  print('In Europe London',dtAroundWorld('Europe/London'))\n",
        "  print('In Asia Krasnoyarsk',dtAroundWorld('Asia/Krasnoyarsk'))\n",
        "  print('In Asia Tokyo',dtAroundWorld('Asia/Tokyo'))\n",
        "  print('In Asia Dubai',dtAroundWorld('Asia/Dubai'))\n",
        "  print('In Asia Hong_Kong',dtAroundWorld('Asia/Hong_Kong'))\n",
        "  print('In America New_York',dtAroundWorld('America/New_York'))\n",
        "  print('In Africa Angola Luanda',dtAroundWorld('Africa/Luanda'))\n",
        "\n",
        "if __name__ == '__main__':\n",
        "  main()"
      ],
      "execution_count": null,
      "outputs": [
        {
          "output_type": "stream",
          "text": [
            "In America Sao Paulo is 2020-10-10 16:24:30\n",
            "In Europe London 2020-10-10 20:24:30\n",
            "In Asia Krasnoyarsk 2020-10-11 02:24:30\n",
            "In Asia Tokyo 2020-10-11 04:24:30\n",
            "In Asia Dubai 2020-10-10 23:24:30\n",
            "In Asia Hong_Kong 2020-10-11 03:24:30\n",
            "In America New_York 2020-10-10 15:24:30\n",
            "In Africa Angola Luanda 2020-10-10 20:24:30\n"
          ],
          "name": "stdout"
        }
      ]
    },
    {
      "cell_type": "markdown",
      "metadata": {
        "id": "u2S1BxUycFS8"
      },
      "source": [
        "# Time"
      ]
    },
    {
      "cell_type": "code",
      "metadata": {
        "id": "hb58RiX5cHY-",
        "outputId": "b0c72ba6-17ef-4d14-8ba4-4eff225cc33c",
        "colab": {
          "base_uri": "https://localhost:8080/",
          "height": 52
        }
      },
      "source": [
        "from datetime import time\n",
        "\n",
        "def nowingoogle():\n",
        "  timenow = datetime.time(datetime.now())\n",
        "  return timenow\n",
        "\n",
        "def nowinBR():\n",
        "  utc = pytz.utc\n",
        "  braziltz = timezone('America/Sao_Paulo')\n",
        "  now = datetime.now()\n",
        "  utc_dt = datetime(now.year, now.month, now.day, now.hour, now.minute, now.second, tzinfo=utc)\n",
        "  loc_dt = utc_dt.astimezone(braziltz)\n",
        "  timeBR = loc_dt.time()\n",
        "  return timeBR\n",
        "                            \n",
        "def main():\n",
        "  print(nowingoogle())\n",
        "  print(nowinBR())\n",
        "\n",
        "if __name__ == '__main__':\n",
        "  main()"
      ],
      "execution_count": null,
      "outputs": [
        {
          "output_type": "stream",
          "text": [
            "19:37:14.971778\n",
            "16:37:14\n"
          ],
          "name": "stdout"
        }
      ]
    }
  ]
}